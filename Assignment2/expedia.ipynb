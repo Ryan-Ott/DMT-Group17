{
 "cells": [
  {
   "cell_type": "markdown",
   "metadata": {},
   "source": [
    "# Expedia Personalised Hotel Searches\n",
    "VU Data Mining Techniques 2024 | Assignment 2 | Group 17"
   ]
  },
  {
   "cell_type": "markdown",
   "metadata": {},
   "source": [
    "## Imports"
   ]
  },
  {
   "cell_type": "code",
   "execution_count": 1,
   "metadata": {},
   "outputs": [],
   "source": [
    "import gc\n",
    "import lightgbm as lgb\n",
    "import matplotlib.pyplot as plt\n",
    "import numpy as np\n",
    "import pandas as pd\n",
    "import seaborn as sns\n",
    "import warnings\n",
    "import zipfile\n",
    "from sklearn.metrics import ndcg_score\n",
    "from sklearn.model_selection import train_test_split, ParameterGrid\n",
    "from sklearn.preprocessing import MinMaxScaler  # used instead of StandardScaler because our data is mostly not normally distributed\n",
    "from tqdm import tqdm\n",
    "\n",
    "warnings.simplefilter(action='ignore', category=FutureWarning)"
   ]
  },
  {
   "cell_type": "markdown",
   "metadata": {},
   "source": [
    "## Setup & Data Loading"
   ]
  },
  {
   "cell_type": "code",
   "execution_count": null,
   "metadata": {},
   "outputs": [],
   "source": [
    "def downscale_and_save(df, filename):\n",
    "    df_copy = df.copy()\n",
    "\n",
    "    for col in df_copy.select_dtypes(include='float64').columns:\n",
    "        df_copy[col] = df_copy[col].astype('float32')\n",
    "\n",
    "    df_copy.to_csv(filename, index=False)\n",
    "\n",
    "    del df_copy\n",
    "    gc.collect()"
   ]
  },
  {
   "cell_type": "code",
   "execution_count": null,
   "metadata": {},
   "outputs": [],
   "source": [
    "train_path = 'data/training_set_VU_DM.csv'\n",
    "test_path = 'data/test_set_VU_DM.csv'"
   ]
  },
  {
   "cell_type": "code",
   "execution_count": null,
   "metadata": {},
   "outputs": [],
   "source": [
    "train_df = pd.read_csv(train_path)\n",
    "train_df.head()"
   ]
  },
  {
   "cell_type": "code",
   "execution_count": null,
   "metadata": {},
   "outputs": [],
   "source": [
    "test_df = pd.read_csv(test_path)\n",
    "test_df.head()"
   ]
  },
  {
   "cell_type": "code",
   "execution_count": null,
   "metadata": {},
   "outputs": [],
   "source": [
    "for col in train_df.columns:\n",
    "    if col not in test_df.columns:\n",
    "        print(col)"
   ]
  },
  {
   "cell_type": "markdown",
   "metadata": {},
   "source": [
    "## EDA"
   ]
  },
  {
   "cell_type": "code",
   "execution_count": null,
   "metadata": {},
   "outputs": [],
   "source": [
    "len(train_df)"
   ]
  },
  {
   "cell_type": "code",
   "execution_count": null,
   "metadata": {},
   "outputs": [],
   "source": [
    "columns = list(train_df.columns)\n",
    "columns.remove('date_time')"
   ]
  },
  {
   "cell_type": "code",
   "execution_count": null,
   "metadata": {},
   "outputs": [],
   "source": [
    "for column in columns:\n",
    "    plt.rcParams[\"figure.figsize\"] = (20,3)\n",
    "    sns.boxplot(train_df[column], orient='h')\n",
    "    plt.title(column)\n",
    "    plt.show()"
   ]
  },
  {
   "cell_type": "code",
   "execution_count": null,
   "metadata": {},
   "outputs": [],
   "source": [
    "target_columns = ['click_bool', 'gross_bookings_usd', 'booking_bool']\n",
    "for remove in target_columns:\n",
    "    columns.remove(remove)\n",
    "\n",
    "new_df = []\n",
    "for column in columns:\n",
    "    column_correlations = []\n",
    "    for target in target_columns:\n",
    "        column_correlations.append(train_df[column].corr(train_df[target]))\n",
    "    new_df.append(column_correlations)\n",
    "new_df = pd.DataFrame(new_df)\n",
    "new_df.index = columns\n",
    "new_df.columns = target_columns"
   ]
  },
  {
   "cell_type": "code",
   "execution_count": null,
   "metadata": {},
   "outputs": [],
   "source": [
    "plt.rcParams[\"figure.figsize\"] = (3,20)\n",
    "sns.heatmap(new_df)"
   ]
  },
  {
   "cell_type": "code",
   "execution_count": null,
   "metadata": {},
   "outputs": [],
   "source": [
    "grouped_by_position = train_df.groupby(['position'])"
   ]
  },
  {
   "cell_type": "code",
   "execution_count": null,
   "metadata": {},
   "outputs": [],
   "source": [
    "top_40 = list(range(1,41))"
   ]
  },
  {
   "cell_type": "code",
   "execution_count": null,
   "metadata": {},
   "outputs": [],
   "source": [
    "click_precent_top_40 = []\n",
    "book_precent_top_40 = []\n",
    "price_top_25 = []\n",
    "for group in top_40:\n",
    "    group_df = grouped_by_position.get_group(group)\n",
    "    click_precent_top_40.append(group_df['click_bool'].sum()/len(group_df))\n",
    "    book_precent_top_40.append(group_df['booking_bool'].sum()/len(group_df))\n",
    "    price_top_25.append(group_df['price_usd'].mean()/group_df['srch_length_of_stay'].mean())\n",
    "plt.rcParams[\"figure.figsize\"] = (5,5)\n",
    "plt.plot(click_precent_top_40)\n",
    "plt.plot(book_precent_top_40)\n",
    "plt.xlabel('position')\n",
    "plt.ylabel('probability')\n",
    "plt.legend([\"clicking\", \"booking\"], loc=\"upper right\")"
   ]
  },
  {
   "cell_type": "code",
   "execution_count": null,
   "metadata": {},
   "outputs": [],
   "source": [
    "plt.plot(price_top_25)\n",
    "plt.xlabel('position')\n",
    "plt.ylabel('price per night')"
   ]
  },
  {
   "cell_type": "markdown",
   "metadata": {},
   "source": [
    "Probability to be clicked/booked drops very quickly and stabelizes after position 10."
   ]
  },
  {
   "cell_type": "code",
   "execution_count": null,
   "metadata": {},
   "outputs": [],
   "source": [
    "competitive_metrics = ['compX_rate', 'compX_inv', \"compX_rate_percent_diff\"]\n",
    "full_competitive_metrics = []\n",
    "for metric in competitive_metrics:\n",
    "    metric_list = []\n",
    "    for x in range(1,9):\n",
    "        metric_list.append(metric.replace(\"X\", str(x)))\n",
    "    full_competitive_metrics.append(metric_list)"
   ]
  },
  {
   "cell_type": "code",
   "execution_count": null,
   "metadata": {},
   "outputs": [],
   "source": [
    "len(train_df[full_competitive_metrics[2]].dropna(axis = 'index', how = 'all'))"
   ]
  },
  {
   "cell_type": "markdown",
   "metadata": {},
   "source": [
    "too much nan values"
   ]
  },
  {
   "cell_type": "code",
   "execution_count": null,
   "metadata": {},
   "outputs": [],
   "source": [
    "len(train_df[full_competitive_metrics[1]].dropna(axis = 'index', how = 'all'))"
   ]
  },
  {
   "cell_type": "markdown",
   "metadata": {},
   "source": [
    "feature not relevant enough."
   ]
  },
  {
   "cell_type": "code",
   "execution_count": null,
   "metadata": {},
   "outputs": [],
   "source": [
    "train_df['combined_comp_rate'] = train_df[full_competitive_metrics[0]].iloc[:, :].sum(axis=1)"
   ]
  },
  {
   "cell_type": "code",
   "execution_count": null,
   "metadata": {},
   "outputs": [],
   "source": [
    "comp_rate_nan_index = train_df.index.difference(train_df[full_competitive_metrics[0]].dropna(axis = 'index', how = 'all').index)\n",
    "train_df.loc[comp_rate_nan_index, 'combined_comp_rate'] = np.nan"
   ]
  },
  {
   "cell_type": "code",
   "execution_count": null,
   "metadata": {},
   "outputs": [],
   "source": [
    "print(len(pd.unique(train_df['srch_id'])))\n",
    "print(train_df['click_bool'].sum())\n",
    "print(train_df['booking_bool'].sum())"
   ]
  },
  {
   "cell_type": "markdown",
   "metadata": {},
   "source": [
    "On average more clicks than searches. On average less bookings than searches. Makes sense"
   ]
  },
  {
   "cell_type": "code",
   "execution_count": null,
   "metadata": {},
   "outputs": [],
   "source": [
    "def plot_vars_dist(df):\n",
    "    variables = [var for var in df if var not in ['srch_id','date_time']]  # ignoring these as they are only 1 value indicating occurence of a call/sms\n",
    "    fig, axes = plt.subplots(nrows=len(variables), ncols=1, figsize=(10, 6 * len(variables)))\n",
    "\n",
    "    for ax, var in zip(axes.flatten(), variables):\n",
    "        var_data = df[var]\n",
    "        mean = var_data.mean()\n",
    "        std = var_data.std()\n",
    "        # Adjust bins for better visualization based on data range and characteristics\n",
    "        bins = min(30, int(var_data.nunique()))  # Use a minimum of 30 bins or less if fewer unique values\n",
    "\n",
    "        ax.hist(var_data, bins=bins, alpha=0.75, color='blue', edgecolor='black', label=f'{var} Scores')\n",
    "        ax.set_title(f'Distribution of {var} values')\n",
    "        ax.set_xlabel(f'{var.capitalize()} Score')\n",
    "        ax.set_ylabel('Frequency')\n",
    "        ax.grid(axis='y', alpha=0.75)\n",
    "        legend_label = f\"Mean: {mean:.2f}, Std: {std:.2f}\"\n",
    "        ax.legend([f\"{var.capitalize()} Scores\\n{legend_label}\"], loc='upper right', title='Statistics', frameon=True)\n",
    "\n",
    "    plt.tight_layout()\n",
    "    plt.show()"
   ]
  },
  {
   "cell_type": "code",
   "execution_count": null,
   "metadata": {},
   "outputs": [],
   "source": [
    "plot_vars_dist(train_df)"
   ]
  },
  {
   "cell_type": "code",
   "execution_count": null,
   "metadata": {},
   "outputs": [],
   "source": [
    "df_corr = train_df.drop(['srch_id','date_time'],axis = 1)"
   ]
  },
  {
   "cell_type": "code",
   "execution_count": null,
   "metadata": {},
   "outputs": [],
   "source": [
    "df_corr.corr()"
   ]
  },
  {
   "cell_type": "code",
   "execution_count": null,
   "metadata": {},
   "outputs": [],
   "source": [
    "train_df.info()"
   ]
  },
  {
   "cell_type": "code",
   "execution_count": null,
   "metadata": {},
   "outputs": [],
   "source": [
    "train_df.describe()"
   ]
  },
  {
   "cell_type": "code",
   "execution_count": null,
   "metadata": {},
   "outputs": [],
   "source": [
    "train_df.isnull().sum()"
   ]
  },
  {
   "cell_type": "markdown",
   "metadata": {},
   "source": [
    "## Data Preprocessing"
   ]
  },
  {
   "cell_type": "markdown",
   "metadata": {},
   "source": [
    "### Dropping Features"
   ]
  },
  {
   "cell_type": "code",
   "execution_count": null,
   "metadata": {},
   "outputs": [],
   "source": [
    "train_df.drop(['gross_bookings_usd'], axis=1, inplace=True)"
   ]
  },
  {
   "cell_type": "markdown",
   "metadata": {},
   "source": [
    "### Datatype Conversion & Grouping Features"
   ]
  },
  {
   "cell_type": "code",
   "execution_count": null,
   "metadata": {},
   "outputs": [],
   "source": [
    "train_df['date_time'] = pd.to_datetime(train_df['date_time'])\n",
    "\n",
    "boolean_features = ['prop_brand_bool', 'promotion_flag', 'srch_saturday_night_bool', 'random_bool', 'click_bool', 'booking_bool']\n",
    "for col in boolean_features:\n",
    "    train_df[col] = train_df[col].astype('bool')\n",
    "    \n",
    "categorical_features = ['site_id', 'visitor_location_country_id', 'prop_country_id']  # 'srch_id', 'prop_id' and 'srch_destination_id' are not included because they are real identifiers rather than categorical features\n",
    "for col in categorical_features:\n",
    "    train_df[col] = train_df[col].astype('category')\n",
    "    \n",
    "numerical_features = [col for col in train_df.columns if col not in boolean_features + categorical_features + ['date_time', 'srch_id', 'prop_id', 'srch_destination_id']]\n",
    "    \n",
    "train_df.info()"
   ]
  },
  {
   "cell_type": "code",
   "execution_count": null,
   "metadata": {},
   "outputs": [],
   "source": [
    "test_df['date_time'] = pd.to_datetime(test_df['date_time'])\n",
    "\n",
    "for col in test_df.columns:\n",
    "    if col in boolean_features:\n",
    "        test_df[col] = test_df[col].astype('bool')\n",
    "    elif col in categorical_features:\n",
    "        test_df[col] = test_df[col].astype('category')"
   ]
  },
  {
   "cell_type": "markdown",
   "metadata": {},
   "source": [
    "#### Handling DateTime Feature"
   ]
  },
  {
   "cell_type": "code",
   "execution_count": null,
   "metadata": {},
   "outputs": [],
   "source": [
    "# Extract useful features from 'date_time'\n",
    "train_df['year'] = train_df['date_time'].dt.year\n",
    "train_df['month'] = train_df['date_time'].dt.month\n",
    "train_df['day'] = train_df['date_time'].dt.day\n",
    "train_df['hour'] = train_df['date_time'].dt.hour\n",
    "train_df['minute'] = train_df['date_time'].dt.minute\n",
    "\n",
    "test_df['year'] = test_df['date_time'].dt.year\n",
    "test_df['month'] = test_df['date_time'].dt.month\n",
    "test_df['day'] = test_df['date_time'].dt.day\n",
    "test_df['hour'] = test_df['date_time'].dt.hour\n",
    "test_df['minute'] = test_df['date_time'].dt.minute\n",
    "\n",
    "# Drop the original 'date_time' column\n",
    "train_df = train_df.drop(columns=['date_time'])\n",
    "test_df = test_df.drop(columns=['date_time'])"
   ]
  },
  {
   "cell_type": "markdown",
   "metadata": {},
   "source": [
    "### Removing Outliers for Numerical Features"
   ]
  },
  {
   "cell_type": "code",
   "execution_count": null,
   "metadata": {},
   "outputs": [],
   "source": [
    "num_feats_with_outliers = ['price_usd', 'comp1_rate_percent_diff', 'comp2_rate_percent_diff', 'comp3_rate_percent_diff', 'comp4_rate_percent_diff', 'comp5_rate_percent_diff', 'comp6_rate_percent_diff', 'comp7_rate_percent_diff', 'comp8_rate_percent_diff']\n",
    "\n",
    "for feature in num_feats_with_outliers:  # Based on EDA only price_usd & compX_rate_percent_diff\n",
    "    # Print initial statistics\n",
    "    print(f'Initial stats for {feature}:')\n",
    "    print(train_df[feature].describe())\n",
    "\n",
    "    # Calculating IQR\n",
    "    Q1 = train_df[feature].quantile(0.25)\n",
    "    Q3 = train_df[feature].quantile(0.75)\n",
    "    IQR = Q3 - Q1\n",
    "    lower_bound = Q1 - 3 * IQR\n",
    "    upper_bound = Q3 + 3 * IQR\n",
    "    \n",
    "    # Replace outliers with NaN\n",
    "    train_df.loc[~train_df[feature].between(lower_bound, upper_bound), feature] = np.nan"
   ]
  },
  {
   "cell_type": "code",
   "execution_count": null,
   "metadata": {},
   "outputs": [],
   "source": [
    "train_df.head()"
   ]
  },
  {
   "cell_type": "markdown",
   "metadata": {},
   "source": [
    "### Imputing Missing Values for Numerical Features"
   ]
  },
  {
   "cell_type": "markdown",
   "metadata": {},
   "source": [
    "Zero was chosen as the imputation value for the numerical features because it intuitively denotes a missing record, for the competitor data where we have either +1, 0, -1, assuming 0 in the case of missing data assumes no advantage for Expedia or a competitor."
   ]
  },
  {
   "cell_type": "code",
   "execution_count": null,
   "metadata": {},
   "outputs": [],
   "source": [
    "print('Missing values replaced with 0:')\n",
    "print('------------------------------')\n",
    "for feature in numerical_features:\n",
    "    print(f'{feature} - {train_df[feature].isna().sum()}')\n",
    "    train_df.fillna({feature: 0}, inplace=True)"
   ]
  },
  {
   "cell_type": "code",
   "execution_count": null,
   "metadata": {},
   "outputs": [],
   "source": [
    "train_df.head()"
   ]
  },
  {
   "cell_type": "code",
   "execution_count": null,
   "metadata": {},
   "outputs": [],
   "source": [
    "print('Missing values replaced with 0:')\n",
    "print('------------------------------')\n",
    "for feature in numerical_features:\n",
    "    if feature in test_df.columns:\n",
    "        print(f'{feature} - {test_df[feature].isna().sum()}')\n",
    "        test_df.fillna({feature: 0}, inplace=True)"
   ]
  },
  {
   "cell_type": "markdown",
   "metadata": {},
   "source": [
    "### Computing EXP Features for Categorical Features"
   ]
  },
  {
   "cell_type": "markdown",
   "metadata": {},
   "source": [
    "EXP features involve calculating the probability of a target variable (booking & click in our case) given a certain categorical feature. This is done by grouping the data by the categorical feature and calculating the mean of the booking/click_bool column. This is then merged back into the original dataframe to create the new feature that is in numerical space."
   ]
  },
  {
   "cell_type": "code",
   "execution_count": null,
   "metadata": {},
   "outputs": [],
   "source": [
    "for feature in categorical_features:\n",
    "    # Initialize new columns for EXP features\n",
    "    train_df[f'{feature}_exp_click'] = np.nan\n",
    "    train_df[f'{feature}_exp_booking'] = np.nan\n",
    "    \n",
    "    # Iterate over each category in the feature\n",
    "    for category in train_df[feature].unique():\n",
    "        # Create mask for the current category\n",
    "        category_mask = train_df[feature] == category\n",
    "        \n",
    "        # Calculate sums and counts excluding the current row\n",
    "        # We use sum and count to calculate the mean without the current row\n",
    "        sum_click = train_df.loc[category_mask, 'click_bool'].sum()\n",
    "        count_click = category_mask.sum()\n",
    "        sum_booking = train_df.loc[category_mask, 'booking_bool'].sum()\n",
    "        count_booking = category_mask.sum()\n",
    "        \n",
    "        # Assign the leave-one-out mean to the rows of the current category\n",
    "        # For each row, we use (sum - current value) / (count - 1) to get the leave-one-out mean\n",
    "        # Important to leave out the current row when calculating the mean to prevent data leakage\n",
    "        train_df.loc[category_mask, f'{feature}_exp_click'] = (sum_click - train_df['click_bool']) / (count_click - 1)\n",
    "        train_df.loc[category_mask, f'{feature}_exp_booking'] = (sum_booking - train_df['booking_bool']) / (count_booking - 1)\n",
    "\n",
    "# Handle cases where the category only has one row and thus (count - 1) would be zero\n",
    "for feature in categorical_features:\n",
    "    train_df.fillna({f'{feature}_exp_click': train_df['click_bool'].mean()}, inplace=True)\n",
    "    train_df.fillna({f'{feature}_exp_booking': train_df['booking_bool'].mean()}, inplace=True)"
   ]
  },
  {
   "cell_type": "code",
   "execution_count": null,
   "metadata": {},
   "outputs": [],
   "source": [
    "train_df.head()"
   ]
  },
  {
   "cell_type": "code",
   "execution_count": null,
   "metadata": {},
   "outputs": [],
   "source": [
    "# Computing EXP features for test set\n",
    "for feature in categorical_features:\n",
    "    mean_click = train_df.groupby(feature)['click_bool'].mean()\n",
    "    mean_booking = train_df.groupby(feature)['booking_bool'].mean()\n",
    "    \n",
    "    test_df[f'{feature}_exp_click'] = test_df[feature].map(mean_click)\n",
    "    test_df[f'{feature}_exp_booking'] = test_df[feature].map(mean_booking)"
   ]
  },
  {
   "cell_type": "markdown",
   "metadata": {},
   "source": [
    "### Feature Engineering"
   ]
  },
  {
   "cell_type": "markdown",
   "metadata": {},
   "source": [
    "#### 'Proxy' Prior for Property Position in Results"
   ]
  },
  {
   "cell_type": "code",
   "execution_count": null,
   "metadata": {},
   "outputs": [],
   "source": [
    "filtered_df = train_df[train_df['random_bool'] == False]  #? Exclude records where the results order is random\n",
    "mean_positions = filtered_df.groupby('prop_id')['position'].mean().rename('mean_position')\n",
    "train_df = train_df.join(mean_positions, on='prop_id')"
   ]
  },
  {
   "cell_type": "code",
   "execution_count": null,
   "metadata": {},
   "outputs": [],
   "source": [
    "train_df.head()"
   ]
  },
  {
   "cell_type": "code",
   "execution_count": null,
   "metadata": {},
   "outputs": [],
   "source": [
    "# Proxy prior for property position in search results in test set based on training set\n",
    "test_df = test_df.join(mean_positions, on='prop_id')"
   ]
  },
  {
   "cell_type": "markdown",
   "metadata": {},
   "source": [
    "#### Prior of Booking/Clicks per Property"
   ]
  },
  {
   "cell_type": "code",
   "execution_count": null,
   "metadata": {},
   "outputs": [],
   "source": [
    "def compute_prior(df, group_field, value_field):\n",
    "    # Sum and count values per group\n",
    "    sums = df.groupby(group_field)[value_field].transform('sum')\n",
    "    count = df.groupby(group_field)[value_field].transform('count')\n",
    "    \n",
    "    # Calculate leave-one-out prior\n",
    "    prior = (sums - df[value_field]) / (count - 1)\n",
    "    return prior"
   ]
  },
  {
   "cell_type": "code",
   "execution_count": null,
   "metadata": {},
   "outputs": [],
   "source": [
    "# Apply function for click and booking bool\n",
    "train_df['click_prior'] = compute_prior(train_df, 'prop_id', 'click_bool')\n",
    "train_df['booking_prior'] = compute_prior(train_df, 'prop_id', 'booking_bool')\n",
    "\n",
    "# Handling cases with only one record per group\n",
    "train_df.fillna({'click_prior': train_df['click_bool'].mean()}, inplace=True)\n",
    "train_df.fillna({'booking_prior': train_df['booking_bool'].mean()}, inplace=True)"
   ]
  },
  {
   "cell_type": "code",
   "execution_count": null,
   "metadata": {},
   "outputs": [],
   "source": [
    "train_df.head()"
   ]
  },
  {
   "cell_type": "code",
   "execution_count": null,
   "metadata": {},
   "outputs": [],
   "source": [
    "# Priors for click and booking bool\n",
    "test_df['click_prior'] = test_df['prop_id'].map(train_df.groupby('prop_id')['click_bool'].mean())\n",
    "test_df['booking_prior'] = test_df['prop_id'].map(train_df.groupby('prop_id')['booking_bool'].mean())\n",
    "\n",
    "# Handling cases with only one record per group @Lieve - method used here is mean not 0, important for report!!! :)\n",
    "test_df.fillna({'click_prior': train_df['click_bool'].mean()}, inplace=True)\n",
    "test_df.fillna({'booking_prior': train_df['booking_bool'].mean()}, inplace=True)"
   ]
  },
  {
   "cell_type": "markdown",
   "metadata": {},
   "source": [
    "#### Number of Previous Search Resutls Containing the Property"
   ]
  },
  {
   "cell_type": "code",
   "execution_count": null,
   "metadata": {},
   "outputs": [],
   "source": [
    "# Number of occurences \"minus the current row\"\n",
    "train_df['previous_searches'] = train_df.groupby('prop_id')['prop_id'].transform('count') - 1"
   ]
  },
  {
   "cell_type": "code",
   "execution_count": null,
   "metadata": {},
   "outputs": [],
   "source": [
    "train_df.head()"
   ]
  },
  {
   "cell_type": "code",
   "execution_count": null,
   "metadata": {},
   "outputs": [],
   "source": [
    "# Number of occurences \"minus the current row\"\n",
    "test_df['previous_searches'] = test_df['prop_id'].map(train_df.value_counts('prop_id') - 1).fillna(0)"
   ]
  },
  {
   "cell_type": "markdown",
   "metadata": {},
   "source": [
    "#### Saving Intermediate Dataset"
   ]
  },
  {
   "cell_type": "code",
   "execution_count": null,
   "metadata": {},
   "outputs": [],
   "source": [
    "downscale_and_save(train_df, 'data/processed_train.csv')"
   ]
  },
  {
   "cell_type": "code",
   "execution_count": null,
   "metadata": {},
   "outputs": [],
   "source": [
    "downscale_and_save(test_df, 'data/processed_test.csv')"
   ]
  },
  {
   "cell_type": "markdown",
   "metadata": {},
   "source": [
    "#### Statistical Features for Each Property"
   ]
  },
  {
   "cell_type": "markdown",
   "metadata": {},
   "source": [
    "Mean, median & std for selected features across all instances of each property"
   ]
  },
  {
   "cell_type": "code",
   "execution_count": null,
   "metadata": {},
   "outputs": [],
   "source": [
    "features_to_stat = ['visitor_hist_starrating', 'visitor_hist_adr_usd', 'prop_starrating', 'prop_review_score', 'prop_location_score1', 'prop_location_score2', 'prop_log_historical_price', 'price_usd', 'orig_destination_distance', 'srch_query_affinity_score', 'srch_length_of_stay', 'srch_booking_window', 'srch_adults_count', 'srch_children_count', 'srch_room_count']  # Perhaps change this based on LightGBM.feature_importances_\n",
    "\n",
    "for feature in tqdm(features_to_stat):\n",
    "    stats = train_df.groupby('prop_id')[feature].agg(['min', 'max', 'mean', 'median', 'std']).rename(\n",
    "        columns={'min': f'{feature}_min', 'max': f'{feature}_max', 'mean': f'{feature}_mean', 'median': f'{feature}_median', 'std': f'{feature}_std'})\n",
    "    train_df = train_df.join(stats, on='prop_id')"
   ]
  },
  {
   "cell_type": "code",
   "execution_count": null,
   "metadata": {},
   "outputs": [],
   "source": [
    "train_df.head()"
   ]
  },
  {
   "cell_type": "code",
   "execution_count": null,
   "metadata": {},
   "outputs": [],
   "source": [
    "for feature in tqdm(features_to_stat):\n",
    "    stats = train_df.groupby('prop_id')[feature].agg(['min', 'max', 'mean', 'median', 'std']).rename(\n",
    "        columns={'min': f'{feature}_min', 'max': f'{feature}_max', 'mean': f'{feature}_mean', 'median': f'{feature}_median', 'std': f'{feature}_std'})\n",
    "    test_df = test_df.join(stats, on='prop_id')"
   ]
  },
  {
   "cell_type": "markdown",
   "metadata": {},
   "source": [
    "### Saving Intermediate Data"
   ]
  },
  {
   "cell_type": "code",
   "execution_count": null,
   "metadata": {},
   "outputs": [],
   "source": [
    "downscale_and_save(train_df, 'data/processed_train_stats.csv')"
   ]
  },
  {
   "cell_type": "code",
   "execution_count": null,
   "metadata": {},
   "outputs": [],
   "source": [
    "downscale_and_save(test_df, 'data/processed_test_stats.csv')"
   ]
  },
  {
   "cell_type": "markdown",
   "metadata": {},
   "source": [
    "### Normalising Features"
   ]
  },
  {
   "cell_type": "code",
   "execution_count": null,
   "metadata": {},
   "outputs": [],
   "source": [
    "test_df.head()"
   ]
  },
  {
   "cell_type": "code",
   "execution_count": null,
   "metadata": {},
   "outputs": [],
   "source": [
    "float_columns = [col for col in train_df.select_dtypes(include='float64').columns if col in test_df.columns]\n",
    "\n",
    "scaler = MinMaxScaler()\n",
    "\n",
    "train_df[float_columns] = scaler.fit_transform(train_df[float_columns])\n",
    "\n",
    "test_df[float_columns] = scaler.transform(test_df[float_columns])"
   ]
  },
  {
   "cell_type": "markdown",
   "metadata": {},
   "source": [
    "### Saving Final Data"
   ]
  },
  {
   "cell_type": "code",
   "execution_count": null,
   "metadata": {},
   "outputs": [],
   "source": [
    "downscale_and_save(train_df, 'data/processed_train_stats_norm.csv')"
   ]
  },
  {
   "cell_type": "code",
   "execution_count": null,
   "metadata": {},
   "outputs": [],
   "source": [
    "downscale_and_save(test_df, 'data/processed_test_stats_norm.csv')"
   ]
  },
  {
   "cell_type": "code",
   "execution_count": null,
   "metadata": {},
   "outputs": [],
   "source": [
    "del train_df, test_df\n",
    "gc.collect()"
   ]
  },
  {
   "cell_type": "markdown",
   "metadata": {},
   "source": [
    "## Modeling"
   ]
  },
  {
   "cell_type": "markdown",
   "metadata": {},
   "source": [
    "### Preparing the Data for Modeling"
   ]
  },
  {
   "cell_type": "code",
   "execution_count": 2,
   "metadata": {},
   "outputs": [],
   "source": [
    "train_df = pd.read_csv('data/processed_train_stats_norm.csv')"
   ]
  },
  {
   "cell_type": "code",
   "execution_count": 3,
   "metadata": {},
   "outputs": [],
   "source": [
    "test_df = pd.read_csv('data/processed_test_stats_norm.csv')"
   ]
  },
  {
   "cell_type": "code",
   "execution_count": 4,
   "metadata": {},
   "outputs": [
    {
     "name": "stdout",
     "output_type": "stream",
     "text": [
      "Missing features in test set: {'combined_comp_rate', 'click_bool', 'position', 'booking_bool'}\n"
     ]
    }
   ],
   "source": [
    "missing_feats = set(train_df.columns) - set(test_df.columns)\n",
    "print(f'Missing features in test set: {missing_feats}')"
   ]
  },
  {
   "cell_type": "code",
   "execution_count": 5,
   "metadata": {},
   "outputs": [
    {
     "name": "stdout",
     "output_type": "stream",
     "text": [
      "Training set shape: (3966677, 139) | (3966677,)\n",
      "Validation set shape: (991670, 139) | (991670,)\n"
     ]
    }
   ],
   "source": [
    "features = train_df.drop(columns=list(missing_feats))\n",
    "target = train_df['booking_bool']\n",
    "\n",
    "X_train, X_val, y_train, y_val = train_test_split(features, target, test_size=0.2, random_state=42)"
   ]
  },
  {
   "cell_type": "code",
   "execution_count": 6,
   "metadata": {},
   "outputs": [],
   "source": [
    "# Create query groups\n",
    "train_group = X_train.groupby('srch_id').size().values\n",
    "val_group = X_val.groupby('srch_id').size().values\n",
    "\n",
    "X_train.drop(columns=['srch_id'], axis=1, inplace=True)\n",
    "X_val.drop(columns=['srch_id'], axis=1, inplace=True)\n",
    "\n",
    "print(f'Training set shape: {X_train.shape} | {y_train.shape}\\nValidation set shape: {X_val.shape} | {y_val.shape}')\n",
    "\n",
    "# Convert data into LightGBM dataset format\n",
    "train_data = lgb.Dataset(X_train, label=y_train, group=train_group)\n",
    "val_data = lgb.Dataset(X_val, label=y_val, group=val_group, reference=train_data)"
   ]
  },
  {
   "cell_type": "markdown",
   "metadata": {},
   "source": [
    "### LambdaMART Model Training"
   ]
  },
  {
   "cell_type": "code",
   "execution_count": 7,
   "metadata": {},
   "outputs": [
    {
     "name": "stderr",
     "output_type": "stream",
     "text": [
      "  0%|          | 0/18 [00:00<?, ?it/s]"
     ]
    },
    {
     "name": "stdout",
     "output_type": "stream",
     "text": [
      "[LightGBM] [Info] Auto-choosing row-wise multi-threading, the overhead of testing was 0.795288 seconds.\n",
      "You can set `force_row_wise=true` to remove the overhead.\n",
      "And if memory is not enough, you can set `force_col_wise=true`.\n",
      "[LightGBM] [Info] Total Bins 17406\n",
      "[LightGBM] [Info] Number of data points in the train set: 3966677, number of used features: 138\n"
     ]
    },
    {
     "name": "stderr",
     "output_type": "stream",
     "text": [
      "  6%|▌         | 1/18 [01:14<21:11, 74.80s/it]"
     ]
    },
    {
     "name": "stdout",
     "output_type": "stream",
     "text": [
      "[LightGBM] [Info] Auto-choosing row-wise multi-threading, the overhead of testing was 0.718701 seconds.\n",
      "You can set `force_row_wise=true` to remove the overhead.\n",
      "And if memory is not enough, you can set `force_col_wise=true`.\n",
      "[LightGBM] [Info] Total Bins 17406\n",
      "[LightGBM] [Info] Number of data points in the train set: 3966677, number of used features: 138\n"
     ]
    },
    {
     "name": "stderr",
     "output_type": "stream",
     "text": [
      " 11%|█         | 2/18 [02:38<21:20, 80.01s/it]"
     ]
    },
    {
     "name": "stdout",
     "output_type": "stream",
     "text": [
      "[LightGBM] [Info] Auto-choosing row-wise multi-threading, the overhead of testing was 0.676199 seconds.\n",
      "You can set `force_row_wise=true` to remove the overhead.\n",
      "And if memory is not enough, you can set `force_col_wise=true`.\n",
      "[LightGBM] [Info] Total Bins 17406\n",
      "[LightGBM] [Info] Number of data points in the train set: 3966677, number of used features: 138\n"
     ]
    },
    {
     "name": "stderr",
     "output_type": "stream",
     "text": [
      " 17%|█▋        | 3/18 [04:02<20:26, 81.74s/it]"
     ]
    },
    {
     "name": "stdout",
     "output_type": "stream",
     "text": [
      "[LightGBM] [Info] Auto-choosing row-wise multi-threading, the overhead of testing was 0.772757 seconds.\n",
      "You can set `force_row_wise=true` to remove the overhead.\n",
      "And if memory is not enough, you can set `force_col_wise=true`.\n",
      "[LightGBM] [Info] Total Bins 17406\n",
      "[LightGBM] [Info] Number of data points in the train set: 3966677, number of used features: 138\n"
     ]
    },
    {
     "name": "stderr",
     "output_type": "stream",
     "text": [
      " 22%|██▏       | 4/18 [05:48<21:17, 91.24s/it]"
     ]
    },
    {
     "name": "stdout",
     "output_type": "stream",
     "text": [
      "[LightGBM] [Info] Auto-choosing row-wise multi-threading, the overhead of testing was 0.736788 seconds.\n",
      "You can set `force_row_wise=true` to remove the overhead.\n",
      "And if memory is not enough, you can set `force_col_wise=true`.\n",
      "[LightGBM] [Info] Total Bins 17406\n",
      "[LightGBM] [Info] Number of data points in the train set: 3966677, number of used features: 138\n"
     ]
    },
    {
     "name": "stderr",
     "output_type": "stream",
     "text": [
      " 28%|██▊       | 5/18 [07:51<22:15, 102.73s/it]"
     ]
    },
    {
     "name": "stdout",
     "output_type": "stream",
     "text": [
      "[LightGBM] [Info] Auto-choosing row-wise multi-threading, the overhead of testing was 1.063178 seconds.\n",
      "You can set `force_row_wise=true` to remove the overhead.\n",
      "And if memory is not enough, you can set `force_col_wise=true`.\n",
      "[LightGBM] [Info] Total Bins 17406\n",
      "[LightGBM] [Info] Number of data points in the train set: 3966677, number of used features: 138\n"
     ]
    },
    {
     "name": "stderr",
     "output_type": "stream",
     "text": [
      " 33%|███▎      | 6/18 [10:10<23:03, 115.26s/it]"
     ]
    },
    {
     "name": "stdout",
     "output_type": "stream",
     "text": [
      "[LightGBM] [Info] Auto-choosing row-wise multi-threading, the overhead of testing was 0.838373 seconds.\n",
      "You can set `force_row_wise=true` to remove the overhead.\n",
      "And if memory is not enough, you can set `force_col_wise=true`.\n",
      "[LightGBM] [Info] Total Bins 17406\n",
      "[LightGBM] [Info] Number of data points in the train set: 3966677, number of used features: 138\n"
     ]
    },
    {
     "name": "stderr",
     "output_type": "stream",
     "text": [
      " 39%|███▉      | 7/18 [11:38<19:29, 106.36s/it]"
     ]
    },
    {
     "name": "stdout",
     "output_type": "stream",
     "text": [
      "[LightGBM] [Info] Auto-choosing row-wise multi-threading, the overhead of testing was 0.891368 seconds.\n",
      "You can set `force_row_wise=true` to remove the overhead.\n",
      "And if memory is not enough, you can set `force_col_wise=true`.\n",
      "[LightGBM] [Info] Total Bins 17406\n",
      "[LightGBM] [Info] Number of data points in the train set: 3966677, number of used features: 138\n"
     ]
    },
    {
     "name": "stderr",
     "output_type": "stream",
     "text": [
      " 44%|████▍     | 8/18 [12:56<16:12, 97.25s/it] "
     ]
    },
    {
     "name": "stdout",
     "output_type": "stream",
     "text": [
      "[LightGBM] [Info] Auto-choosing row-wise multi-threading, the overhead of testing was 1.028777 seconds.\n",
      "You can set `force_row_wise=true` to remove the overhead.\n",
      "And if memory is not enough, you can set `force_col_wise=true`.\n",
      "[LightGBM] [Info] Total Bins 17406\n",
      "[LightGBM] [Info] Number of data points in the train set: 3966677, number of used features: 138\n"
     ]
    },
    {
     "name": "stderr",
     "output_type": "stream",
     "text": [
      " 50%|█████     | 9/18 [14:26<14:15, 95.07s/it]"
     ]
    },
    {
     "name": "stdout",
     "output_type": "stream",
     "text": [
      "[LightGBM] [Info] Auto-choosing row-wise multi-threading, the overhead of testing was 1.068694 seconds.\n",
      "You can set `force_row_wise=true` to remove the overhead.\n",
      "And if memory is not enough, you can set `force_col_wise=true`.\n",
      "[LightGBM] [Info] Total Bins 17406\n",
      "[LightGBM] [Info] Number of data points in the train set: 3966677, number of used features: 138\n"
     ]
    },
    {
     "name": "stderr",
     "output_type": "stream",
     "text": [
      " 56%|█████▌    | 10/18 [16:17<13:20, 100.03s/it]"
     ]
    },
    {
     "name": "stdout",
     "output_type": "stream",
     "text": [
      "[LightGBM] [Info] Auto-choosing row-wise multi-threading, the overhead of testing was 0.579177 seconds.\n",
      "You can set `force_row_wise=true` to remove the overhead.\n",
      "And if memory is not enough, you can set `force_col_wise=true`.\n",
      "[LightGBM] [Info] Total Bins 17406\n",
      "[LightGBM] [Info] Number of data points in the train set: 3966677, number of used features: 138\n"
     ]
    },
    {
     "name": "stderr",
     "output_type": "stream",
     "text": [
      " 61%|██████    | 11/18 [18:47<13:25, 115.14s/it]"
     ]
    },
    {
     "name": "stdout",
     "output_type": "stream",
     "text": [
      "[LightGBM] [Info] Auto-choosing row-wise multi-threading, the overhead of testing was 0.885769 seconds.\n",
      "You can set `force_row_wise=true` to remove the overhead.\n",
      "And if memory is not enough, you can set `force_col_wise=true`.\n",
      "[LightGBM] [Info] Total Bins 17406\n",
      "[LightGBM] [Info] Number of data points in the train set: 3966677, number of used features: 138\n"
     ]
    },
    {
     "name": "stderr",
     "output_type": "stream",
     "text": [
      " 67%|██████▋   | 12/18 [20:57<11:57, 119.58s/it]"
     ]
    },
    {
     "name": "stdout",
     "output_type": "stream",
     "text": [
      "[LightGBM] [Info] Auto-choosing row-wise multi-threading, the overhead of testing was 0.582094 seconds.\n",
      "You can set `force_row_wise=true` to remove the overhead.\n",
      "And if memory is not enough, you can set `force_col_wise=true`.\n",
      "[LightGBM] [Info] Total Bins 17406\n",
      "[LightGBM] [Info] Number of data points in the train set: 3966677, number of used features: 138\n"
     ]
    },
    {
     "name": "stderr",
     "output_type": "stream",
     "text": [
      " 72%|███████▏  | 13/18 [22:15<08:55, 107.02s/it]"
     ]
    },
    {
     "name": "stdout",
     "output_type": "stream",
     "text": [
      "[LightGBM] [Info] Auto-choosing row-wise multi-threading, the overhead of testing was 0.808979 seconds.\n",
      "You can set `force_row_wise=true` to remove the overhead.\n",
      "And if memory is not enough, you can set `force_col_wise=true`.\n",
      "[LightGBM] [Info] Total Bins 17406\n",
      "[LightGBM] [Info] Number of data points in the train set: 3966677, number of used features: 138\n"
     ]
    },
    {
     "name": "stderr",
     "output_type": "stream",
     "text": [
      " 78%|███████▊  | 14/18 [23:38<06:38, 99.71s/it] "
     ]
    },
    {
     "name": "stdout",
     "output_type": "stream",
     "text": [
      "[LightGBM] [Info] Auto-choosing row-wise multi-threading, the overhead of testing was 0.697021 seconds.\n",
      "You can set `force_row_wise=true` to remove the overhead.\n",
      "And if memory is not enough, you can set `force_col_wise=true`.\n",
      "[LightGBM] [Info] Total Bins 17406\n",
      "[LightGBM] [Info] Number of data points in the train set: 3966677, number of used features: 138\n"
     ]
    },
    {
     "name": "stderr",
     "output_type": "stream",
     "text": [
      " 83%|████████▎ | 15/18 [25:02<04:44, 94.99s/it]"
     ]
    },
    {
     "name": "stdout",
     "output_type": "stream",
     "text": [
      "[LightGBM] [Info] Auto-choosing row-wise multi-threading, the overhead of testing was 0.717180 seconds.\n",
      "You can set `force_row_wise=true` to remove the overhead.\n",
      "And if memory is not enough, you can set `force_col_wise=true`.\n",
      "[LightGBM] [Info] Total Bins 17406\n",
      "[LightGBM] [Info] Number of data points in the train set: 3966677, number of used features: 138\n"
     ]
    },
    {
     "name": "stderr",
     "output_type": "stream",
     "text": [
      " 89%|████████▉ | 16/18 [26:49<03:17, 98.79s/it]"
     ]
    },
    {
     "name": "stdout",
     "output_type": "stream",
     "text": [
      "[LightGBM] [Info] Auto-choosing row-wise multi-threading, the overhead of testing was 0.693116 seconds.\n",
      "You can set `force_row_wise=true` to remove the overhead.\n",
      "And if memory is not enough, you can set `force_col_wise=true`.\n",
      "[LightGBM] [Info] Total Bins 17406\n",
      "[LightGBM] [Info] Number of data points in the train set: 3966677, number of used features: 138\n"
     ]
    },
    {
     "name": "stderr",
     "output_type": "stream",
     "text": [
      " 94%|█████████▍| 17/18 [28:48<01:44, 104.94s/it]"
     ]
    },
    {
     "name": "stdout",
     "output_type": "stream",
     "text": [
      "[LightGBM] [Info] Auto-choosing row-wise multi-threading, the overhead of testing was 0.904990 seconds.\n",
      "You can set `force_row_wise=true` to remove the overhead.\n",
      "And if memory is not enough, you can set `force_col_wise=true`.\n",
      "[LightGBM] [Info] Total Bins 17406\n",
      "[LightGBM] [Info] Number of data points in the train set: 3966677, number of used features: 138\n",
      "[LightGBM] [Warning] No further splits with positive gain, best gain: -inf\n",
      "[LightGBM] [Warning] No further splits with positive gain, best gain: -inf\n",
      "[LightGBM] [Warning] No further splits with positive gain, best gain: -inf\n",
      "[LightGBM] [Warning] No further splits with positive gain, best gain: -inf\n",
      "[LightGBM] [Warning] No further splits with positive gain, best gain: -inf\n",
      "[LightGBM] [Warning] No further splits with positive gain, best gain: -inf\n",
      "[LightGBM] [Warning] No further splits with positive gain, best gain: -inf\n",
      "[LightGBM] [Warning] No further splits with positive gain, best gain: -inf\n",
      "[LightGBM] [Warning] No further splits with positive gain, best gain: -inf\n",
      "[LightGBM] [Warning] No further splits with positive gain, best gain: -inf\n",
      "[LightGBM] [Warning] No further splits with positive gain, best gain: -inf\n",
      "[LightGBM] [Warning] No further splits with positive gain, best gain: -inf\n",
      "[LightGBM] [Warning] No further splits with positive gain, best gain: -inf\n",
      "[LightGBM] [Warning] No further splits with positive gain, best gain: -inf\n",
      "[LightGBM] [Warning] No further splits with positive gain, best gain: -inf\n",
      "[LightGBM] [Warning] No further splits with positive gain, best gain: -inf\n",
      "[LightGBM] [Warning] No further splits with positive gain, best gain: -inf\n",
      "[LightGBM] [Warning] No further splits with positive gain, best gain: -inf\n",
      "[LightGBM] [Warning] No further splits with positive gain, best gain: -inf\n",
      "[LightGBM] [Warning] No further splits with positive gain, best gain: -inf\n",
      "[LightGBM] [Warning] No further splits with positive gain, best gain: -inf\n",
      "[LightGBM] [Warning] No further splits with positive gain, best gain: -inf\n",
      "[LightGBM] [Warning] No further splits with positive gain, best gain: -inf\n",
      "[LightGBM] [Warning] No further splits with positive gain, best gain: -inf\n",
      "[LightGBM] [Warning] No further splits with positive gain, best gain: -inf\n",
      "[LightGBM] [Warning] No further splits with positive gain, best gain: -inf\n",
      "[LightGBM] [Warning] No further splits with positive gain, best gain: -inf\n",
      "[LightGBM] [Warning] No further splits with positive gain, best gain: -inf\n",
      "[LightGBM] [Warning] No further splits with positive gain, best gain: -inf\n",
      "[LightGBM] [Warning] No further splits with positive gain, best gain: -inf\n",
      "[LightGBM] [Warning] No further splits with positive gain, best gain: -inf\n",
      "[LightGBM] [Warning] No further splits with positive gain, best gain: -inf\n",
      "[LightGBM] [Warning] No further splits with positive gain, best gain: -inf\n",
      "[LightGBM] [Warning] No further splits with positive gain, best gain: -inf\n",
      "[LightGBM] [Warning] No further splits with positive gain, best gain: -inf\n",
      "[LightGBM] [Warning] No further splits with positive gain, best gain: -inf\n",
      "[LightGBM] [Warning] No further splits with positive gain, best gain: -inf\n",
      "[LightGBM] [Warning] No further splits with positive gain, best gain: -inf\n",
      "[LightGBM] [Warning] No further splits with positive gain, best gain: -inf\n",
      "[LightGBM] [Warning] No further splits with positive gain, best gain: -inf\n",
      "[LightGBM] [Warning] No further splits with positive gain, best gain: -inf\n",
      "[LightGBM] [Warning] No further splits with positive gain, best gain: -inf\n",
      "[LightGBM] [Warning] No further splits with positive gain, best gain: -inf\n",
      "[LightGBM] [Warning] No further splits with positive gain, best gain: -inf\n",
      "[LightGBM] [Warning] No further splits with positive gain, best gain: -inf\n",
      "[LightGBM] [Warning] No further splits with positive gain, best gain: -inf\n",
      "[LightGBM] [Warning] No further splits with positive gain, best gain: -inf\n",
      "[LightGBM] [Warning] No further splits with positive gain, best gain: -inf\n",
      "[LightGBM] [Warning] No further splits with positive gain, best gain: -inf\n",
      "[LightGBM] [Warning] No further splits with positive gain, best gain: -inf\n",
      "[LightGBM] [Warning] No further splits with positive gain, best gain: -inf\n",
      "[LightGBM] [Warning] No further splits with positive gain, best gain: -inf\n",
      "[LightGBM] [Warning] No further splits with positive gain, best gain: -inf\n",
      "[LightGBM] [Warning] No further splits with positive gain, best gain: -inf\n",
      "[LightGBM] [Warning] No further splits with positive gain, best gain: -inf\n",
      "[LightGBM] [Warning] No further splits with positive gain, best gain: -inf\n",
      "[LightGBM] [Warning] No further splits with positive gain, best gain: -inf\n",
      "[LightGBM] [Warning] No further splits with positive gain, best gain: -inf\n",
      "[LightGBM] [Warning] No further splits with positive gain, best gain: -inf\n",
      "[LightGBM] [Warning] No further splits with positive gain, best gain: -inf\n",
      "[LightGBM] [Warning] No further splits with positive gain, best gain: -inf\n",
      "[LightGBM] [Warning] No further splits with positive gain, best gain: -inf\n",
      "[LightGBM] [Warning] No further splits with positive gain, best gain: -inf\n",
      "[LightGBM] [Warning] No further splits with positive gain, best gain: -inf\n",
      "[LightGBM] [Warning] No further splits with positive gain, best gain: -inf\n",
      "[LightGBM] [Warning] No further splits with positive gain, best gain: -inf\n",
      "[LightGBM] [Warning] No further splits with positive gain, best gain: -inf\n",
      "[LightGBM] [Warning] No further splits with positive gain, best gain: -inf\n",
      "[LightGBM] [Warning] No further splits with positive gain, best gain: -inf\n",
      "[LightGBM] [Warning] No further splits with positive gain, best gain: -inf\n",
      "[LightGBM] [Warning] No further splits with positive gain, best gain: -inf\n",
      "[LightGBM] [Warning] No further splits with positive gain, best gain: -inf\n",
      "[LightGBM] [Warning] No further splits with positive gain, best gain: -inf\n",
      "[LightGBM] [Warning] No further splits with positive gain, best gain: -inf\n",
      "[LightGBM] [Warning] No further splits with positive gain, best gain: -inf\n",
      "[LightGBM] [Warning] No further splits with positive gain, best gain: -inf\n",
      "[LightGBM] [Warning] No further splits with positive gain, best gain: -inf\n",
      "[LightGBM] [Warning] No further splits with positive gain, best gain: -inf\n",
      "[LightGBM] [Warning] No further splits with positive gain, best gain: -inf\n",
      "[LightGBM] [Warning] No further splits with positive gain, best gain: -inf\n",
      "[LightGBM] [Warning] No further splits with positive gain, best gain: -inf\n",
      "[LightGBM] [Warning] No further splits with positive gain, best gain: -inf\n",
      "[LightGBM] [Warning] No further splits with positive gain, best gain: -inf\n",
      "[LightGBM] [Warning] No further splits with positive gain, best gain: -inf\n",
      "[LightGBM] [Warning] No further splits with positive gain, best gain: -inf\n",
      "[LightGBM] [Warning] No further splits with positive gain, best gain: -inf\n"
     ]
    },
    {
     "name": "stderr",
     "output_type": "stream",
     "text": [
      "100%|██████████| 18/18 [30:49<00:00, 102.76s/it]"
     ]
    },
    {
     "name": "stdout",
     "output_type": "stream",
     "text": [
      "--------------------------------------------------\n",
      "Best NDCG Score: 0.9999999999999999\n",
      "Best Parameters: {'learning_rate': 0.01, 'n_estimators': 100, 'num_leaves': 20}\n"
     ]
    },
    {
     "name": "stderr",
     "output_type": "stream",
     "text": [
      "\n"
     ]
    }
   ],
   "source": [
    "param_grid = {\n",
    "    'num_leaves': [10, 20, 40],\n",
    "    'learning_rate': [0.01, 0.05, 0.1],\n",
    "    'n_estimators': [100, 200]\n",
    "}\n",
    "\n",
    "best_score = -float('inf')\n",
    "best_params = {}\n",
    "\n",
    "# Iterate over all combinations of parameters\n",
    "for params in tqdm(ParameterGrid(param_grid)):\n",
    "    model = lgb.LGBMRanker(\n",
    "        objective=\"lambdarank\",\n",
    "        boosting_type=\"gbdt\",\n",
    "        importance_type=\"gain\",\n",
    "        metric=\"ndcg\",\n",
    "        label_gain=[i for i in range(max(y_train.max(), y_val.max()) + 1)],\n",
    "        **params\n",
    "    )\n",
    "    model.fit(\n",
    "        X_train,\n",
    "        y_train,\n",
    "        group=train_group,\n",
    "        eval_set=[(X_val, y_val)],\n",
    "        eval_group=[val_group],\n",
    "        eval_at=[5],\n",
    "    )\n",
    "    \n",
    "    # Evaluate the model\n",
    "    y_pred_val = model.predict(X_val)\n",
    "    score = ndcg_score([y_val], [y_pred_val], k=5)\n",
    "\n",
    "    # Save the best model\n",
    "    if score > best_score:\n",
    "        best_score = score\n",
    "        best_params = params\n",
    "        model.booster_.save_model('best_lambdamart_model.txt')\n",
    "\n",
    "\n",
    "print('-' * 50)\n",
    "print(f'Best NDCG Score: {best_score}')\n",
    "print(f'Best Parameters: {best_params}')"
   ]
  },
  {
   "cell_type": "markdown",
   "metadata": {},
   "source": [
    "### Showing Feature Importances"
   ]
  },
  {
   "cell_type": "code",
   "execution_count": 8,
   "metadata": {},
   "outputs": [
    {
     "data": {
      "image/png": "[encoded data removed]",
      "text/plain": [
       "<Figure size 1000x500 with 1 Axes>"
      ]
     },
     "metadata": {},
     "output_type": "display_data"
    }
   ],
   "source": [
    "lgb.plot_importance(model, importance_type='gain', max_num_features=10, figsize=(10, 5))\n",
    "\n",
    "# Store feature importances in a txt file\n",
    "with open('feature_importances.txt', 'w') as f:\n",
    "    f.write(str(model.feature_importances_))"
   ]
  },
  {
   "cell_type": "markdown",
   "metadata": {},
   "source": [
    "## Final Prediction"
   ]
  },
  {
   "cell_type": "code",
   "execution_count": 9,
   "metadata": {},
   "outputs": [
    {
     "name": "stdout",
     "output_type": "stream",
     "text": [
      "   srch_id  prop_id\n",
      "0        1     3180\n",
      "1        1     5543\n",
      "2        1    14142\n",
      "3        1    22393\n",
      "4        1    24194\n",
      "Submission shape: (4959183, 2)\n"
     ]
    }
   ],
   "source": [
    "# Load the test data\n",
    "X_test = test_df.drop(columns=['srch_id'])\n",
    "assert len(X_train.columns) == len(X_test.columns), 'Training and test set have different number of features'\n",
    "\n",
    "# Load the model\n",
    "best_model = lgb.Booster(model_file='best_lambdamart_model.txt')\n",
    "\n",
    "# Predict on the test set\n",
    "y_pred = best_model.predict(X_test)\n",
    "\n",
    "# Add predictions to the test set\n",
    "test_df['predicted_score'] = y_pred\n",
    "\n",
    "# Select only the required columns\n",
    "test_df = test_df[['srch_id', 'prop_id', 'predicted_score']]\n",
    "\n",
    "# Sort properties for each search by predicted score\n",
    "test_df = test_df.sort_values(by=['srch_id', 'predicted_score'], ascending=[True, False])\n",
    "\n",
    "# Create the submission file in the required format\n",
    "submission = test_df[['srch_id', 'prop_id']]\n",
    "submission.to_csv('submission.csv', index=False)\n",
    "\n",
    "# Verify the submission file format\n",
    "print(submission.head(5))\n",
    "print(f'Submission shape: {submission.shape}')\n",
    "\n",
    "# Zip the submission file\n",
    "with zipfile.ZipFile('submission.zip', 'w') as zipf:\n",
    "    zipf.write('submission.csv', compress_type=zipfile.ZIP_DEFLATED)"
   ]
  }
 ],
 "metadata": {
  "kernelspec": {
   "display_name": "venv",
   "language": "python",
   "name": "python3"
  },
  "language_info": {
   "codemirror_mode": {
    "name": "ipython",
    "version": 3
   },
   "file_extension": ".py",
   "mimetype": "text/x-python",
   "name": "python",
   "nbconvert_exporter": "python",
   "pygments_lexer": "ipython3",
   "version": "3.11.5"
  }
 },
 "nbformat": 4,
 "nbformat_minor": 2
}
