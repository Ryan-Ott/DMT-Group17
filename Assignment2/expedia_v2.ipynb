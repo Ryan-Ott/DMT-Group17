{
 "cells": [
  {
   "cell_type": "markdown",
   "metadata": {},
   "source": [
    "# Expedia Personalised Hotel Searches\n",
    "VU Data Mining Techniques 2024 | Assignment 2 | Group 17"
   ]
  },
  {
   "cell_type": "markdown",
   "metadata": {},
   "source": [
    "## Imports"
   ]
  },
  {
   "cell_type": "code",
   "execution_count": 1,
   "metadata": {},
   "outputs": [],
   "source": [
    "import datetime\n",
    "import gc\n",
    "import lightgbm as lgb\n",
    "from lightgbm.callback import early_stopping\n",
    "import matplotlib.pyplot as plt\n",
    "import numpy as np\n",
    "import pandas as pd\n",
    "import seaborn as sns\n",
    "import warnings\n",
    "from sklearn.impute import KNNImputer\n",
    "from sklearn.metrics import ndcg_score\n",
    "from sklearn.model_selection import GroupShuffleSplit, ParameterGrid\n",
    "from tqdm import tqdm\n",
    "\n",
    "warnings.simplefilter(action='ignore', category=FutureWarning)"
   ]
  },
  {
   "cell_type": "code",
   "execution_count": 2,
   "metadata": {},
   "outputs": [],
   "source": [
    "def downscale_and_save(df, filename):\n",
    "    df_copy = df.copy()\n",
    "\n",
    "    for col in df_copy.select_dtypes(include='float64').columns:\n",
    "        df_copy[col] = df_copy[col].astype('float32')\n",
    "\n",
    "    df_copy.to_csv(filename, index=False)\n",
    "\n",
    "    del df_copy\n",
    "    gc.collect()"
   ]
  },
  {
   "cell_type": "markdown",
   "metadata": {},
   "source": [
    "## Data Preprocessing"
   ]
  },
  {
   "cell_type": "code",
   "execution_count": 3,
   "metadata": {},
   "outputs": [],
   "source": [
    "train_df = pd.read_csv('data/training_set_VU_DM.csv', parse_dates=['date_time'])\n",
    "test_df = pd.read_csv('data/test_set_VU_DM.csv', parse_dates=['date_time'])"
   ]
  },
  {
   "cell_type": "code",
   "execution_count": 4,
   "metadata": {},
   "outputs": [],
   "source": [
    "# Creating the relevance target\n",
    "train_df['relevance'] = train_df['booking_bool'] * 2 + (train_df['click_bool'] * (1 - train_df['booking_bool']))"
   ]
  },
  {
   "cell_type": "markdown",
   "metadata": {},
   "source": [
    "#### Handling Datetime"
   ]
  },
  {
   "cell_type": "code",
   "execution_count": 5,
   "metadata": {},
   "outputs": [],
   "source": [
    "# Extract useful features from 'date_time'\n",
    "train_df['year'] = train_df['date_time'].dt.year\n",
    "train_df['month'] = train_df['date_time'].dt.month\n",
    "train_df['day'] = train_df['date_time'].dt.day\n",
    "train_df = train_df.drop(columns=['date_time'])\n",
    "\n",
    "test_df['year'] = test_df['date_time'].dt.year\n",
    "test_df['month'] = test_df['date_time'].dt.month\n",
    "test_df['day'] = test_df['date_time'].dt.day\n",
    "test_df = test_df.drop(columns=['date_time'])"
   ]
  },
  {
   "cell_type": "markdown",
   "metadata": {},
   "source": [
    "#### Removing Outliers"
   ]
  },
  {
   "cell_type": "code",
   "execution_count": 6,
   "metadata": {},
   "outputs": [],
   "source": [
    "num_feats_with_outliers = ['price_usd', 'comp1_rate_percent_diff', 'comp2_rate_percent_diff', 'comp3_rate_percent_diff', 'comp4_rate_percent_diff', 'comp5_rate_percent_diff', 'comp6_rate_percent_diff', 'comp7_rate_percent_diff', 'comp8_rate_percent_diff']\n",
    "\n",
    "for feature in num_feats_with_outliers:  # Based on EDA only price_usd & compX_rate_percent_diff\n",
    "    Q1 = train_df[feature].quantile(0.25)\n",
    "    Q3 = train_df[feature].quantile(0.75)\n",
    "    IQR = Q3 - Q1\n",
    "    lower_bound = Q1 - 3 * IQR\n",
    "    upper_bound = Q3 + 3 * IQR\n",
    "    \n",
    "    # Replace outliers with NaN\n",
    "    train_df.loc[~train_df[feature].between(lower_bound, upper_bound), feature] = np.nan"
   ]
  },
  {
   "cell_type": "markdown",
   "metadata": {},
   "source": [
    "#### Selecting Subset of Records\n",
    "Selecting a subset of records based on number of missing values in each record"
   ]
  },
  {
   "cell_type": "code",
   "execution_count": 7,
   "metadata": {},
   "outputs": [
    {
     "name": "stdout",
     "output_type": "stream",
     "text": [
      "3718760\n"
     ]
    }
   ],
   "source": [
    "# Calculate the count of missing values in each row\n",
    "train_df['missing_count'] = train_df.isnull().sum(axis=1)\n",
    "\n",
    "# Sort the dataframe by 'missing_count' in ascending order\n",
    "train_df = train_df.sort_values(by='missing_count')\n",
    "\n",
    "# Select the top x% of the rows with the least missing values\n",
    "top_percentage = 0.75\n",
    "cut_off = int(len(train_df) * top_percentage)\n",
    "train_df = train_df.iloc[:cut_off]\n",
    "print(len(train_df))"
   ]
  },
  {
   "cell_type": "markdown",
   "metadata": {},
   "source": [
    "#### Handling Missing Values"
   ]
  },
  {
   "cell_type": "code",
   "execution_count": 8,
   "metadata": {},
   "outputs": [],
   "source": [
    "# imputer = KNNImputer(n_neighbors=5)\n",
    "# train_df[:] = imputer.fit_transform(train_df)"
   ]
  },
  {
   "cell_type": "markdown",
   "metadata": {},
   "source": [
    "### Feature Engineering"
   ]
  },
  {
   "cell_type": "markdown",
   "metadata": {},
   "source": [
    "#### Mean Position"
   ]
  },
  {
   "cell_type": "code",
   "execution_count": 9,
   "metadata": {},
   "outputs": [],
   "source": [
    "mean_positions = train_df[train_df['random_bool'] == False].groupby('prop_id')['position'].mean().rename('mean_train_position')  # Exclude records where the results order is random\n",
    "train_df = train_df.join(mean_positions, on='prop_id')\n",
    "test_df = test_df.join(mean_positions, on='prop_id')"
   ]
  },
  {
   "cell_type": "markdown",
   "metadata": {},
   "source": [
    "#### Click/Booking Prior Probability"
   ]
  },
  {
   "cell_type": "code",
   "execution_count": 10,
   "metadata": {},
   "outputs": [],
   "source": [
    "def compute_prior(df, group_field, value_field):\n",
    "    # Sum and count values per group\n",
    "    sums = df.groupby(group_field)[value_field].transform('sum')\n",
    "    count = df.groupby(group_field)[value_field].transform('count')\n",
    "    \n",
    "    # Calculate leave-one-out prior\n",
    "    prior = (sums - df[value_field]) / (count - 1)\n",
    "    return prior"
   ]
  },
  {
   "cell_type": "code",
   "execution_count": 11,
   "metadata": {},
   "outputs": [],
   "source": [
    "# Apply function for click and booking bool\n",
    "train_df['click_prior'] = compute_prior(train_df, 'prop_id', 'click_bool')\n",
    "train_df['booking_prior'] = compute_prior(train_df, 'prop_id', 'booking_bool')\n",
    "\n",
    "# Handling cases with only one record per group\n",
    "train_df.fillna({'click_prior': train_df['click_bool'].mean()}, inplace=True)\n",
    "train_df.fillna({'booking_prior': train_df['booking_bool'].mean()}, inplace=True)"
   ]
  },
  {
   "cell_type": "code",
   "execution_count": 12,
   "metadata": {},
   "outputs": [],
   "source": [
    "# Priors for click and booking bool from the training set\n",
    "test_df['click_prior'] = test_df['prop_id'].map(train_df.groupby('prop_id')['click_bool'].mean())\n",
    "test_df['booking_prior'] = test_df['prop_id'].map(train_df.groupby('prop_id')['booking_bool'].mean())\n",
    "\n",
    "# Handling cases with only one record per group\n",
    "test_df.fillna({'click_prior': train_df['click_bool'].mean()}, inplace=True)\n",
    "test_df.fillna({'booking_prior': train_df['booking_bool'].mean()}, inplace=True)"
   ]
  },
  {
   "cell_type": "markdown",
   "metadata": {},
   "source": [
    "#### # of Prior Searches"
   ]
  },
  {
   "cell_type": "code",
   "execution_count": 13,
   "metadata": {},
   "outputs": [],
   "source": [
    "# Number of occurences \"minus the current row\"\n",
    "train_df['previous_searches'] = train_df.groupby('prop_id')['prop_id'].transform('count') - 1\n",
    "test_df['previous_searches'] = test_df['prop_id'].map(train_df.value_counts('prop_id') - 1).fillna(0)"
   ]
  },
  {
   "cell_type": "markdown",
   "metadata": {},
   "source": [
    "#### Number of Bookings for Property/Destination Combination"
   ]
  },
  {
   "cell_type": "code",
   "execution_count": 14,
   "metadata": {},
   "outputs": [],
   "source": [
    "# Aggregate number of bookings for each property and destination combination\n",
    "booking_counts = train_df.groupby(['prop_id', 'srch_destination_id'])['booking_bool'].sum().reset_index()\n",
    "booking_counts.rename(columns={'booking_bool': 'booking_count'}, inplace=True)\n",
    "\n",
    "# Merge this count back to the train and test datasets\n",
    "train_df = train_df.merge(booking_counts, on=['prop_id', 'srch_destination_id'], how='left')\n",
    "test_df = test_df.merge(booking_counts, on=['prop_id', 'srch_destination_id'], how='left')"
   ]
  },
  {
   "cell_type": "markdown",
   "metadata": {},
   "source": [
    "#### Mean Distance to Other Properties in the Query"
   ]
  },
  {
   "cell_type": "code",
   "execution_count": 15,
   "metadata": {},
   "outputs": [],
   "source": [
    "# Calculate the maximum difference in distance to the user within each search query\n",
    "max_distance_diff = train_df.groupby('srch_id')['orig_destination_distance'].transform(lambda x: x.max() - x.min())\n",
    "\n",
    "# Add this as a feature\n",
    "train_df['max_distance_diff'] = max_distance_diff\n",
    "\n",
    "# Compute the mean of these maximum differences by property and add it back to the dataset\n",
    "mean_distance = train_df.groupby('prop_id')['max_distance_diff'].mean().reset_index()\n",
    "mean_distance.rename(columns={'max_distance_diff': 'mean_max_distance_diff'}, inplace=True)\n",
    "\n",
    "train_df = train_df.merge(mean_distance, on='prop_id', how='left')\n",
    "test_df = test_df.merge(mean_distance, on='prop_id', how='left')\n",
    "\n",
    "# TODO: Add to the test set too"
   ]
  },
  {
   "cell_type": "markdown",
   "metadata": {},
   "source": [
    "#### Statistical Features"
   ]
  },
  {
   "cell_type": "code",
   "execution_count": 16,
   "metadata": {},
   "outputs": [
    {
     "name": "stderr",
     "output_type": "stream",
     "text": [
      "100%|██████████| 15/15 [01:24<00:00,  5.64s/it]\n"
     ]
    }
   ],
   "source": [
    "features_to_stat = ['visitor_hist_starrating', 'visitor_hist_adr_usd', 'prop_starrating', 'prop_review_score', 'prop_location_score1', 'prop_location_score2', 'prop_log_historical_price', 'price_usd', 'orig_destination_distance', 'srch_query_affinity_score', 'srch_length_of_stay', 'srch_booking_window', 'srch_adults_count', 'srch_children_count', 'srch_room_count']  # Perhaps change this based on LightGBM.feature_importances_\n",
    "\n",
    "for feature in tqdm(features_to_stat):\n",
    "    stats = train_df.groupby('prop_id')[feature].agg(['mean', 'median', 'std']).rename(\n",
    "        columns={'mean': f'{feature}_mean', 'median': f'{feature}_median', 'std': f'{feature}_std'})\n",
    "    train_df = train_df.join(stats, on='prop_id')"
   ]
  },
  {
   "cell_type": "code",
   "execution_count": 17,
   "metadata": {},
   "outputs": [
    {
     "name": "stderr",
     "output_type": "stream",
     "text": [
      "100%|██████████| 15/15 [02:24<00:00,  9.61s/it]\n"
     ]
    }
   ],
   "source": [
    "for feature in tqdm(features_to_stat):\n",
    "    stats = train_df.groupby('prop_id')[feature].agg(['mean', 'median', 'std']).rename(\n",
    "        columns={'mean': f'{feature}_mean', 'median': f'{feature}_median', 'std': f'{feature}_std'})\n",
    "    test_df = test_df.join(stats, on='prop_id')"
   ]
  },
  {
   "cell_type": "markdown",
   "metadata": {},
   "source": [
    "### Saving the Processed Data"
   ]
  },
  {
   "cell_type": "code",
   "execution_count": 18,
   "metadata": {},
   "outputs": [],
   "source": [
    "downscale_and_save(train_df, 'data/processed_train.csv')\n",
    "downscale_and_save(test_df, 'data/processed_test.csv')"
   ]
  },
  {
   "cell_type": "markdown",
   "metadata": {},
   "source": [
    "# Modeling"
   ]
  },
  {
   "cell_type": "code",
   "execution_count": 19,
   "metadata": {},
   "outputs": [],
   "source": [
    "train_df = pd.read_csv('data/processed_train.csv')\n",
    "test_df = pd.read_csv('data/processed_test.csv')"
   ]
  },
  {
   "cell_type": "markdown",
   "metadata": {},
   "source": [
    "#### Feature Grouping"
   ]
  },
  {
   "cell_type": "code",
   "execution_count": 20,
   "metadata": {},
   "outputs": [],
   "source": [
    "boolean_features = ['prop_brand_bool', 'promotion_flag', 'srch_saturday_night_bool', 'random_bool', 'click_bool', 'booking_bool']\n",
    "categorical_features = ['site_id', 'visitor_location_country_id', 'prop_country_id', 'srch_id', 'prop_id', 'srch_destination_id']\n",
    "numerical_features = [col for col in train_df.columns if col not in boolean_features + categorical_features + ['relevance']]"
   ]
  },
  {
   "cell_type": "code",
   "execution_count": 21,
   "metadata": {},
   "outputs": [
    {
     "data": {
      "text/plain": [
       "{'booking_bool',\n",
       " 'click_bool',\n",
       " 'gross_bookings_usd',\n",
       " 'max_distance_diff',\n",
       " 'missing_count',\n",
       " 'position',\n",
       " 'relevance'}"
      ]
     },
     "execution_count": 21,
     "metadata": {},
     "output_type": "execute_result"
    }
   ],
   "source": [
    "missing_feats = set(train_df.columns) - set(test_df.columns)\n",
    "missing_feats"
   ]
  },
  {
   "cell_type": "code",
   "execution_count": 22,
   "metadata": {},
   "outputs": [
    {
     "name": "stdout",
     "output_type": "stream",
     "text": [
      "booking_count\n",
      "booking_prior\n",
      "click_prior\n",
      "comp1_inv\n",
      "comp1_rate\n",
      "comp1_rate_percent_diff\n",
      "comp2_inv\n",
      "comp2_rate\n",
      "comp2_rate_percent_diff\n",
      "comp3_inv\n",
      "comp3_rate\n",
      "comp3_rate_percent_diff\n",
      "comp4_inv\n",
      "comp4_rate\n",
      "comp4_rate_percent_diff\n",
      "comp5_inv\n",
      "comp5_rate\n",
      "comp5_rate_percent_diff\n",
      "comp6_inv\n",
      "comp6_rate\n",
      "comp6_rate_percent_diff\n",
      "comp7_inv\n",
      "comp7_rate\n",
      "comp7_rate_percent_diff\n",
      "comp8_inv\n",
      "comp8_rate\n",
      "comp8_rate_percent_diff\n",
      "day\n",
      "mean_max_distance_diff\n",
      "mean_train_position\n",
      "month\n",
      "orig_destination_distance\n",
      "orig_destination_distance_mean\n",
      "orig_destination_distance_median\n",
      "orig_destination_distance_std\n",
      "previous_searches\n",
      "price_usd\n",
      "price_usd_mean\n",
      "price_usd_median\n",
      "price_usd_std\n",
      "promotion_flag\n",
      "prop_brand_bool\n",
      "prop_country_id\n",
      "prop_location_score1\n",
      "prop_location_score1_mean\n",
      "prop_location_score1_median\n",
      "prop_location_score1_std\n",
      "prop_location_score2\n",
      "prop_location_score2_mean\n",
      "prop_location_score2_median\n",
      "prop_location_score2_std\n",
      "prop_log_historical_price\n",
      "prop_log_historical_price_mean\n",
      "prop_log_historical_price_median\n",
      "prop_log_historical_price_std\n",
      "prop_review_score\n",
      "prop_review_score_mean\n",
      "prop_review_score_median\n",
      "prop_review_score_std\n",
      "prop_starrating\n",
      "prop_starrating_mean\n",
      "prop_starrating_median\n",
      "prop_starrating_std\n",
      "random_bool\n",
      "site_id\n",
      "srch_adults_count\n",
      "srch_adults_count_mean\n",
      "srch_adults_count_median\n",
      "srch_adults_count_std\n",
      "srch_booking_window\n",
      "srch_booking_window_mean\n",
      "srch_booking_window_median\n",
      "srch_booking_window_std\n",
      "srch_children_count\n",
      "srch_children_count_mean\n",
      "srch_children_count_median\n",
      "srch_children_count_std\n",
      "srch_destination_id\n",
      "srch_length_of_stay\n",
      "srch_length_of_stay_mean\n",
      "srch_length_of_stay_median\n",
      "srch_length_of_stay_std\n",
      "srch_query_affinity_score\n",
      "srch_query_affinity_score_mean\n",
      "srch_query_affinity_score_median\n",
      "srch_query_affinity_score_std\n",
      "srch_room_count\n",
      "srch_room_count_mean\n",
      "srch_room_count_median\n",
      "srch_room_count_std\n",
      "srch_saturday_night_bool\n",
      "visitor_hist_adr_usd\n",
      "visitor_hist_adr_usd_mean\n",
      "visitor_hist_adr_usd_median\n",
      "visitor_hist_adr_usd_std\n",
      "visitor_hist_starrating\n",
      "visitor_hist_starrating_mean\n",
      "visitor_hist_starrating_median\n",
      "visitor_hist_starrating_std\n",
      "visitor_location_country_id\n",
      "year\n"
     ]
    }
   ],
   "source": [
    "features = train_df.columns.difference(['srch_id', 'prop_id', 'booking_bool', 'click_bool', 'relevance', ] + list(missing_feats))\n",
    "for f in features:\n",
    "    print(f)"
   ]
  },
  {
   "cell_type": "code",
   "execution_count": 23,
   "metadata": {},
   "outputs": [],
   "source": [
    "# Grouping by 'srch_id' before splitting to maintain groups\n",
    "grouped = train_df.groupby('srch_id')\n",
    "gss = GroupShuffleSplit(test_size=0.3, n_splits=1, random_state=42)\n",
    "train_inds, val_inds = next(gss.split(train_df, groups=train_df['srch_id']))"
   ]
  },
  {
   "cell_type": "code",
   "execution_count": 24,
   "metadata": {},
   "outputs": [],
   "source": [
    "# Group sizes for LightGBM\n",
    "train_group = train_df.iloc[train_inds].groupby('srch_id').size().values\n",
    "val_group = train_df.iloc[val_inds].groupby('srch_id').size().values"
   ]
  },
  {
   "cell_type": "code",
   "execution_count": 25,
   "metadata": {},
   "outputs": [],
   "source": [
    "X_train, y_train = train_df[features].iloc[train_inds], train_df['relevance'].iloc[train_inds]\n",
    "X_val, y_val = train_df[features].iloc[val_inds], train_df['relevance'].iloc[val_inds]\n",
    "X_test = test_df[features]\n",
    "\n",
    "assert X_train.shape[1] == X_val.shape[1] == X_test.shape[1]"
   ]
  },
  {
   "cell_type": "code",
   "execution_count": 26,
   "metadata": {},
   "outputs": [],
   "source": [
    "param_grid = {\n",
    "    'learning_rate': [0.01, 0.05],\n",
    "    'subsample': [0.5, 0.8, 1],\n",
    "}"
   ]
  },
  {
   "cell_type": "code",
   "execution_count": 28,
   "metadata": {},
   "outputs": [
    {
     "name": "stderr",
     "output_type": "stream",
     "text": [
      "  0%|          | 0/6 [00:00<?, ?it/s]"
     ]
    },
    {
     "name": "stdout",
     "output_type": "stream",
     "text": [
      "[LightGBM] [Warning] Categorical features with more bins than the configured maximum bin number found.\n",
      "[LightGBM] [Warning] For categorical features, max_bin and max_bin_by_feature may be ignored with a large number of categories.\n"
     ]
    },
    {
     "name": "stderr",
     "output_type": "stream",
     "text": [
      " 17%|█▋        | 1/6 [00:33<02:47, 33.42s/it]"
     ]
    },
    {
     "name": "stdout",
     "output_type": "stream",
     "text": [
      "[LightGBM] [Warning] Categorical features with more bins than the configured maximum bin number found.\n",
      "[LightGBM] [Warning] For categorical features, max_bin and max_bin_by_feature may be ignored with a large number of categories.\n"
     ]
    },
    {
     "name": "stderr",
     "output_type": "stream",
     "text": [
      " 33%|███▎      | 2/6 [00:58<01:53, 28.33s/it]"
     ]
    },
    {
     "name": "stdout",
     "output_type": "stream",
     "text": [
      "[LightGBM] [Warning] Categorical features with more bins than the configured maximum bin number found.\n",
      "[LightGBM] [Warning] For categorical features, max_bin and max_bin_by_feature may be ignored with a large number of categories.\n"
     ]
    },
    {
     "name": "stderr",
     "output_type": "stream",
     "text": [
      " 50%|█████     | 3/6 [01:22<01:19, 26.49s/it]"
     ]
    },
    {
     "name": "stdout",
     "output_type": "stream",
     "text": [
      "[LightGBM] [Warning] Categorical features with more bins than the configured maximum bin number found.\n",
      "[LightGBM] [Warning] For categorical features, max_bin and max_bin_by_feature may be ignored with a large number of categories.\n"
     ]
    },
    {
     "name": "stderr",
     "output_type": "stream",
     "text": [
      " 67%|██████▋   | 4/6 [01:50<00:53, 26.96s/it]"
     ]
    },
    {
     "name": "stdout",
     "output_type": "stream",
     "text": [
      "[LightGBM] [Warning] Categorical features with more bins than the configured maximum bin number found.\n",
      "[LightGBM] [Warning] For categorical features, max_bin and max_bin_by_feature may be ignored with a large number of categories.\n"
     ]
    },
    {
     "name": "stderr",
     "output_type": "stream",
     "text": [
      " 83%|████████▎ | 5/6 [02:20<00:28, 28.10s/it]"
     ]
    },
    {
     "name": "stdout",
     "output_type": "stream",
     "text": [
      "[LightGBM] [Warning] Categorical features with more bins than the configured maximum bin number found.\n",
      "[LightGBM] [Warning] For categorical features, max_bin and max_bin_by_feature may be ignored with a large number of categories.\n"
     ]
    },
    {
     "name": "stderr",
     "output_type": "stream",
     "text": [
      "100%|██████████| 6/6 [02:47<00:00, 27.95s/it]"
     ]
    },
    {
     "name": "stdout",
     "output_type": "stream",
     "text": [
      "--------------------------------------------------\n",
      "Best NDCG Score: 0.8919280296803449\n",
      "Best Parameters: {'learning_rate': 0.05, 'subsample': 0.5}\n"
     ]
    },
    {
     "name": "stderr",
     "output_type": "stream",
     "text": [
      "\n"
     ]
    }
   ],
   "source": [
    "# categorical features should be the categorical features minus the ones that are not in the features\n",
    "categorical_features = [f for f in categorical_features if f in features]\n",
    "best_score = -float('inf')\n",
    "best_params = {}\n",
    "\n",
    "# Iterate over all combinations of parameters\n",
    "for params in tqdm(ParameterGrid(param_grid)):\n",
    "    model = lgb.LGBMRanker(\n",
    "        objective='lambdarank',\n",
    "        boosting_type='dart',\n",
    "        importance_type='gain',\n",
    "        metric='ndcg',\n",
    "        label_gain=[0, 1, 10],\n",
    "        num_leaves=15,\n",
    "        n_estimators=50,\n",
    "        reg_alpha=0.2,\n",
    "        reg_lambda=0.2,\n",
    "        verbose=0,\n",
    "        **params\n",
    "    )\n",
    "    model.fit(\n",
    "        X_train,\n",
    "        y_train,\n",
    "        group=train_group,\n",
    "        eval_set=[(X_val, y_val)],\n",
    "        eval_group=[val_group],\n",
    "        eval_at=[5],\n",
    "        categorical_feature=categorical_features,\n",
    "        # callbacks=[early_stopping(10)]\n",
    "    )\n",
    "    \n",
    "    # Evaluate the model\n",
    "    y_pred_val = model.predict(X_val)\n",
    "    score = ndcg_score([y_val], [y_pred_val])\n",
    "\n",
    "    # Save the best model\n",
    "    if score > best_score:\n",
    "        best_score = score\n",
    "        best_params = params\n",
    "        model.booster_.save_model('best_lambdaMART_model.txt')\n",
    "\n",
    "\n",
    "print('-' * 50)\n",
    "print(f'Best NDCG Score: {best_score}')\n",
    "print(f'Best Parameters: {best_params}')"
   ]
  },
  {
   "cell_type": "code",
   "execution_count": 29,
   "metadata": {},
   "outputs": [],
   "source": [
    "# Format the date and time as a string\n",
    "datetime_string = datetime.datetime.now().strftime(\"%Y%m%d_%H%M%S\")\n",
    "model = lgb.Booster(model_file=f'best_lambdamart_model_{datetime_string}.txt')"
   ]
  },
  {
   "cell_type": "code",
   "execution_count": 30,
   "metadata": {},
   "outputs": [
    {
     "data": {
      "text/plain": [
       "<Axes: title={'center': 'Feature Importance by Split'}, xlabel='Feature importance', ylabel='Features'>"
      ]
     },
     "execution_count": 30,
     "metadata": {},
     "output_type": "execute_result"
    },
    {
     "data": {
      "image/png": "[encoded data removed]",
      "text/plain": [
       "<Figure size 1000x500 with 1 Axes>"
      ]
     },
     "metadata": {},
     "output_type": "display_data"
    }
   ],
   "source": [
    "lgb.plot_importance(model, importance_type='split', max_num_features=10, figsize=(10, 5), title='Feature Importance by Split')"
   ]
  },
  {
   "cell_type": "code",
   "execution_count": 31,
   "metadata": {},
   "outputs": [
    {
     "name": "stdout",
     "output_type": "stream",
     "text": [
      "    srch_id  prop_id\n",
      "5         1    28181\n",
      "0         1     3180\n",
      "28        1   139162\n",
      "9         1    54937\n",
      "12        1    61934\n",
      "Submission shape: (4959183, 2)\n"
     ]
    }
   ],
   "source": [
    "# Predict on the test set\n",
    "y_pred = model.predict(X_test)\n",
    "\n",
    "# Add predictions to the test set\n",
    "test_df['predicted_score'] = y_pred\n",
    "\n",
    "# Select only the required columns\n",
    "test_df = test_df[['srch_id', 'prop_id', 'predicted_score']]\n",
    "\n",
    "# Sort properties for each search by predicted score\n",
    "test_df = test_df.sort_values(by=['srch_id', 'predicted_score'], ascending=[True, False])\n",
    "\n",
    "# Create the submission file in the required format\n",
    "submission = test_df[['srch_id', 'prop_id']]\n",
    "\n",
    "# Format the date and time as a string\n",
    "datetime_string = datetime.datetime.now().strftime(\"%Y%m%d_%H%M%S\")\n",
    "\n",
    "# Save the submission file with the date and time in the filename\n",
    "submission.to_csv(f'/submissions/lambdaMART_submission_{datetime_string}.csv', index=False)\n",
    "\n",
    "# Verify the submission file format\n",
    "print(submission.head(5))\n",
    "print(f'Submission shape: {submission.shape}')"
   ]
  }
 ],
 "metadata": {
  "kernelspec": {
   "display_name": "venv",
   "language": "python",
   "name": "python3"
  },
  "language_info": {
   "codemirror_mode": {
    "name": "ipython",
    "version": 3
   },
   "file_extension": ".py",
   "mimetype": "text/x-python",
   "name": "python",
   "nbconvert_exporter": "python",
   "pygments_lexer": "ipython3",
   "version": "3.11.5"
  }
 },
 "nbformat": 4,
 "nbformat_minor": 2
}
