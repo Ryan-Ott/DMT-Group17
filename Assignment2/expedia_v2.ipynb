{
 "cells": [
  {
   "cell_type": "markdown",
   "metadata": {},
   "source": [
    "# Expedia Personalised Hotel Searches\n",
    "VU Data Mining Techniques 2024 | Assignment 2 | Group 17"
   ]
  },
  {
   "cell_type": "markdown",
   "metadata": {},
   "source": [
    "## Imports"
   ]
  },
  {
   "cell_type": "code",
   "execution_count": 2,
   "metadata": {},
   "outputs": [
    {
     "name": "stderr",
     "output_type": "stream",
     "text": [
      "c:\\Users\\jaime\\anaconda3\\envs\\DataMiningTechniques\\lib\\site-packages\\dask\\dataframe\\_pyarrow_compat.py:23: UserWarning: You are using pyarrow version 11.0.0 which is known to be insecure. See https://www.cve.org/CVERecord?id=CVE-2023-47248 for further details. Please upgrade to pyarrow>=14.0.1 or install pyarrow-hotfix to patch your current version.\n",
      "  warnings.warn(\n"
     ]
    }
   ],
   "source": [
    "import datetime\n",
    "import gc\n",
    "import lightgbm as lgb\n",
    "from lightgbm.callback import early_stopping\n",
    "import matplotlib.pyplot as plt\n",
    "import numpy as np\n",
    "import pandas as pd\n",
    "import seaborn as sns\n",
    "import warnings\n",
    "from sklearn.impute import KNNImputer\n",
    "from sklearn.metrics import ndcg_score\n",
    "from sklearn.model_selection import GroupShuffleSplit, ParameterGrid\n",
    "from tqdm import tqdm\n",
    "\n",
    "warnings.simplefilter(action='ignore', category=FutureWarning)"
   ]
  },
  {
   "cell_type": "code",
   "execution_count": 2,
   "metadata": {},
   "outputs": [],
   "source": [
    "def downscale_and_save(df, filename):\n",
    "    df_copy = df.copy()\n",
    "\n",
    "    for col in df_copy.select_dtypes(include='float64').columns:\n",
    "        df_copy[col] = df_copy[col].astype('float32')\n",
    "\n",
    "    df_copy.to_csv(filename, index=False)\n",
    "\n",
    "    del df_copy\n",
    "    gc.collect()"
   ]
  },
  {
   "cell_type": "markdown",
   "metadata": {},
   "source": [
    "## Data Preprocessing"
   ]
  },
  {
   "cell_type": "code",
   "execution_count": 3,
   "metadata": {},
   "outputs": [],
   "source": [
    "train_df = pd.read_csv('data/training_set_VU_DM.csv', parse_dates=['date_time'])\n",
    "test_df = pd.read_csv('data/test_set_VU_DM.csv', parse_dates=['date_time'])"
   ]
  },
  {
   "cell_type": "code",
   "execution_count": 4,
   "metadata": {},
   "outputs": [],
   "source": [
    "# Creating the relevance target\n",
    "train_df['relevance'] = train_df['booking_bool'] * 2 + (train_df['click_bool'] * (1 - train_df['booking_bool']))"
   ]
  },
  {
   "cell_type": "markdown",
   "metadata": {},
   "source": [
    "#### Handling Datetime"
   ]
  },
  {
   "cell_type": "code",
   "execution_count": 5,
   "metadata": {},
   "outputs": [],
   "source": [
    "# Extract useful features from 'date_time'\n",
    "train_df['year'] = train_df['date_time'].dt.year\n",
    "train_df['month'] = train_df['date_time'].dt.month\n",
    "train_df['day'] = train_df['date_time'].dt.day\n",
    "train_df = train_df.drop(columns=['date_time'])\n",
    "\n",
    "test_df['year'] = test_df['date_time'].dt.year\n",
    "test_df['month'] = test_df['date_time'].dt.month\n",
    "test_df['day'] = test_df['date_time'].dt.day\n",
    "test_df = test_df.drop(columns=['date_time'])"
   ]
  },
  {
   "cell_type": "markdown",
   "metadata": {},
   "source": [
    "#### Removing Outliers"
   ]
  },
  {
   "cell_type": "code",
   "execution_count": 6,
   "metadata": {},
   "outputs": [],
   "source": [
    "num_feats_with_outliers = ['price_usd', 'comp1_rate_percent_diff', 'comp2_rate_percent_diff', 'comp3_rate_percent_diff', 'comp4_rate_percent_diff', 'comp5_rate_percent_diff', 'comp6_rate_percent_diff', 'comp7_rate_percent_diff', 'comp8_rate_percent_diff']\n",
    "\n",
    "for feature in num_feats_with_outliers:  # Based on EDA only price_usd & compX_rate_percent_diff\n",
    "    Q1 = train_df[feature].quantile(0.25)\n",
    "    Q3 = train_df[feature].quantile(0.75)\n",
    "    IQR = Q3 - Q1\n",
    "    lower_bound = Q1 - 3 * IQR\n",
    "    upper_bound = Q3 + 3 * IQR\n",
    "    \n",
    "    # Replace outliers with NaN\n",
    "    train_df.loc[~train_df[feature].between(lower_bound, upper_bound), feature] = np.nan"
   ]
  },
  {
   "cell_type": "markdown",
   "metadata": {},
   "source": [
    "#### Selecting Subset of Records\n",
    "Selecting a subset of records based on number of missing values in each record"
   ]
  },
  {
   "cell_type": "code",
   "execution_count": 7,
   "metadata": {},
   "outputs": [
    {
     "name": "stdout",
     "output_type": "stream",
     "text": [
      "3718760\n"
     ]
    }
   ],
   "source": [
    "# Calculate the count of missing values in each row\n",
    "train_df['missing_count'] = train_df.isnull().sum(axis=1)\n",
    "\n",
    "# Sort the dataframe by 'missing_count' in ascending order\n",
    "train_df = train_df.sort_values(by='missing_count')\n",
    "\n",
    "# Select the top x% of the rows with the least missing values\n",
    "top_percentage = 0.75\n",
    "cut_off = int(len(train_df) * top_percentage)\n",
    "train_df = train_df.iloc[:cut_off]\n",
    "print(len(train_df))"
   ]
  },
  {
   "cell_type": "markdown",
   "metadata": {},
   "source": [
    "#### Handling Missing Values"
   ]
  },
  {
   "cell_type": "code",
   "execution_count": 8,
   "metadata": {},
   "outputs": [],
   "source": [
    "# imputer = KNNImputer(n_neighbors=5)\n",
    "# train_df[:] = imputer.fit_transform(train_df)"
   ]
  },
  {
   "cell_type": "markdown",
   "metadata": {},
   "source": [
    "### Feature Engineering"
   ]
  },
  {
   "cell_type": "markdown",
   "metadata": {},
   "source": [
    "#### Mean Position"
   ]
  },
  {
   "cell_type": "code",
   "execution_count": 9,
   "metadata": {},
   "outputs": [],
   "source": [
    "mean_positions = train_df[train_df['random_bool'] == False].groupby('prop_id')['position'].mean().rename('mean_train_position')  # Exclude records where the results order is random\n",
    "train_df = train_df.join(mean_positions, on='prop_id')\n",
    "test_df = test_df.join(mean_positions, on='prop_id')"
   ]
  },
  {
   "cell_type": "markdown",
   "metadata": {},
   "source": [
    "#### Click/Booking Prior Probability"
   ]
  },
  {
   "cell_type": "code",
   "execution_count": 10,
   "metadata": {},
   "outputs": [],
   "source": [
    "def compute_prior(df, group_field, value_field):\n",
    "    # Sum and count values per group\n",
    "    sums = df.groupby(group_field)[value_field].transform('sum')\n",
    "    count = df.groupby(group_field)[value_field].transform('count')\n",
    "    \n",
    "    # Calculate leave-one-out prior\n",
    "    prior = (sums - df[value_field]) / (count - 1)\n",
    "    return prior"
   ]
  },
  {
   "cell_type": "code",
   "execution_count": 11,
   "metadata": {},
   "outputs": [],
   "source": [
    "# Apply function for click and booking bool\n",
    "train_df['click_prior'] = compute_prior(train_df, 'prop_id', 'click_bool')\n",
    "train_df['booking_prior'] = compute_prior(train_df, 'prop_id', 'booking_bool')\n",
    "\n",
    "# Handling cases with only one record per group\n",
    "train_df.fillna({'click_prior': train_df['click_bool'].mean()}, inplace=True)\n",
    "train_df.fillna({'booking_prior': train_df['booking_bool'].mean()}, inplace=True)"
   ]
  },
  {
   "cell_type": "code",
   "execution_count": 12,
   "metadata": {},
   "outputs": [],
   "source": [
    "# Priors for click and booking bool from the training set\n",
    "test_df['click_prior'] = test_df['prop_id'].map(train_df.groupby('prop_id')['click_bool'].mean())\n",
    "test_df['booking_prior'] = test_df['prop_id'].map(train_df.groupby('prop_id')['booking_bool'].mean())\n",
    "\n",
    "# Handling cases with only one record per group\n",
    "test_df.fillna({'click_prior': train_df['click_bool'].mean()}, inplace=True)\n",
    "test_df.fillna({'booking_prior': train_df['booking_bool'].mean()}, inplace=True)"
   ]
  },
  {
   "cell_type": "markdown",
   "metadata": {},
   "source": [
    "#### # of Prior Searches"
   ]
  },
  {
   "cell_type": "code",
   "execution_count": 13,
   "metadata": {},
   "outputs": [],
   "source": [
    "# Number of occurences \"minus the current row\"\n",
    "train_df['previous_searches'] = train_df.groupby('prop_id')['prop_id'].transform('count') - 1\n",
    "test_df['previous_searches'] = test_df['prop_id'].map(train_df.value_counts('prop_id') - 1).fillna(0)"
   ]
  },
  {
   "cell_type": "markdown",
   "metadata": {},
   "source": [
    "#### Number of Bookings for Property/Destination Combination"
   ]
  },
  {
   "cell_type": "code",
   "execution_count": 14,
   "metadata": {},
   "outputs": [],
   "source": [
    "# Aggregate number of bookings for each property and destination combination\n",
    "booking_counts = train_df.groupby(['prop_id', 'srch_destination_id'])['booking_bool'].sum().reset_index()\n",
    "booking_counts.rename(columns={'booking_bool': 'booking_count'}, inplace=True)\n",
    "\n",
    "# Merge this count back to the train and test datasets\n",
    "train_df = train_df.merge(booking_counts, on=['prop_id', 'srch_destination_id'], how='left')\n",
    "test_df = test_df.merge(booking_counts, on=['prop_id', 'srch_destination_id'], how='left')"
   ]
  },
  {
   "cell_type": "markdown",
   "metadata": {},
   "source": [
    "#### Mean Distance to Other Properties in the Query"
   ]
  },
  {
   "cell_type": "code",
   "execution_count": 15,
   "metadata": {},
   "outputs": [],
   "source": [
    "# Calculate the maximum difference in distance to the user within each search query\n",
    "train_df['max_distance_diff'] = train_df.groupby('srch_id')['orig_destination_distance'].transform(lambda x: x.max() - x.min())\n",
    "\n",
    "# Compute the mean of these maximum differences by property and add it back to the dataset\n",
    "mean_distance = train_df.groupby('prop_id')['max_distance_diff'].mean().reset_index()\n",
    "mean_distance.rename(columns={'max_distance_diff': 'mean_max_distance_diff'}, inplace=True)\n",
    "\n",
    "train_df = train_df.merge(mean_distance, on='prop_id', how='left')\n",
    "test_df = test_df.merge(mean_distance, on='prop_id', how='left')"
   ]
  },
  {
   "cell_type": "markdown",
   "metadata": {},
   "source": [
    "#### Statistical Features"
   ]
  },
  {
   "cell_type": "code",
   "execution_count": 16,
   "metadata": {},
   "outputs": [
    {
     "name": "stderr",
     "output_type": "stream",
     "text": [
      "100%|██████████| 15/15 [00:57<00:00,  3.83s/it]\n"
     ]
    }
   ],
   "source": [
    "features_to_stat = ['visitor_hist_starrating', 'visitor_hist_adr_usd', 'prop_starrating', 'prop_review_score', 'prop_location_score1', 'prop_location_score2', 'prop_log_historical_price', 'price_usd', 'orig_destination_distance', 'srch_query_affinity_score', 'srch_length_of_stay', 'srch_booking_window', 'srch_adults_count', 'srch_children_count', 'srch_room_count']  # Perhaps change this based on LightGBM.feature_importances_\n",
    "\n",
    "for feature in tqdm(features_to_stat):\n",
    "    stats = train_df.groupby('prop_id')[feature].agg(['mean', 'median', 'std']).rename(\n",
    "        columns={'mean': f'{feature}_mean', 'median': f'{feature}_median', 'std': f'{feature}_std'})\n",
    "    train_df = train_df.join(stats, on='prop_id')"
   ]
  },
  {
   "cell_type": "code",
   "execution_count": 17,
   "metadata": {},
   "outputs": [
    {
     "name": "stderr",
     "output_type": "stream",
     "text": [
      "100%|██████████| 15/15 [01:33<00:00,  6.21s/it]\n"
     ]
    }
   ],
   "source": [
    "for feature in tqdm(features_to_stat):\n",
    "    stats = train_df.groupby('prop_id')[feature].agg(['mean', 'median', 'std']).rename(\n",
    "        columns={'mean': f'{feature}_mean', 'median': f'{feature}_median', 'std': f'{feature}_std'})\n",
    "    test_df = test_df.join(stats, on='prop_id')"
   ]
  },
  {
   "cell_type": "markdown",
   "metadata": {},
   "source": [
    "### Saving the Processed Data"
   ]
  },
  {
   "cell_type": "code",
   "execution_count": 18,
   "metadata": {},
   "outputs": [],
   "source": [
    "downscale_and_save(train_df, 'data/processed_train.csv')\n",
    "downscale_and_save(test_df, 'data/processed_test.csv')"
   ]
  },
  {
   "cell_type": "markdown",
   "metadata": {},
   "source": [
    "# Modeling"
   ]
  },
  {
   "cell_type": "code",
   "execution_count": 3,
   "metadata": {},
   "outputs": [
    {
     "data": {
      "text/html": [
       "<div>\n",
       "<style scoped>\n",
       "    .dataframe tbody tr th:only-of-type {\n",
       "        vertical-align: middle;\n",
       "    }\n",
       "\n",
       "    .dataframe tbody tr th {\n",
       "        vertical-align: top;\n",
       "    }\n",
       "\n",
       "    .dataframe thead th {\n",
       "        text-align: right;\n",
       "    }\n",
       "</style>\n",
       "<table border=\"1\" class=\"dataframe\">\n",
       "  <thead>\n",
       "    <tr style=\"text-align: right;\">\n",
       "      <th></th>\n",
       "      <th>srch_id</th>\n",
       "      <th>site_id</th>\n",
       "      <th>visitor_location_country_id</th>\n",
       "      <th>visitor_hist_starrating</th>\n",
       "      <th>visitor_hist_adr_usd</th>\n",
       "      <th>prop_country_id</th>\n",
       "      <th>prop_id</th>\n",
       "      <th>prop_starrating</th>\n",
       "      <th>prop_review_score</th>\n",
       "      <th>prop_brand_bool</th>\n",
       "      <th>...</th>\n",
       "      <th>srch_booking_window_std</th>\n",
       "      <th>srch_adults_count_mean</th>\n",
       "      <th>srch_adults_count_median</th>\n",
       "      <th>srch_adults_count_std</th>\n",
       "      <th>srch_children_count_mean</th>\n",
       "      <th>srch_children_count_median</th>\n",
       "      <th>srch_children_count_std</th>\n",
       "      <th>srch_room_count_mean</th>\n",
       "      <th>srch_room_count_median</th>\n",
       "      <th>srch_room_count_std</th>\n",
       "    </tr>\n",
       "  </thead>\n",
       "  <tbody>\n",
       "    <tr>\n",
       "      <th>0</th>\n",
       "      <td>89120</td>\n",
       "      <td>16</td>\n",
       "      <td>31</td>\n",
       "      <td>3.66</td>\n",
       "      <td>270.28</td>\n",
       "      <td>219</td>\n",
       "      <td>4875</td>\n",
       "      <td>4</td>\n",
       "      <td>4.0</td>\n",
       "      <td>1</td>\n",
       "      <td>...</td>\n",
       "      <td>34.345734</td>\n",
       "      <td>1.782407</td>\n",
       "      <td>2.0</td>\n",
       "      <td>0.681737</td>\n",
       "      <td>0.277778</td>\n",
       "      <td>0.0</td>\n",
       "      <td>0.541802</td>\n",
       "      <td>1.115741</td>\n",
       "      <td>1.0</td>\n",
       "      <td>0.425744</td>\n",
       "    </tr>\n",
       "    <tr>\n",
       "      <th>1</th>\n",
       "      <td>89120</td>\n",
       "      <td>16</td>\n",
       "      <td>31</td>\n",
       "      <td>3.66</td>\n",
       "      <td>270.28</td>\n",
       "      <td>219</td>\n",
       "      <td>78838</td>\n",
       "      <td>4</td>\n",
       "      <td>4.5</td>\n",
       "      <td>1</td>\n",
       "      <td>...</td>\n",
       "      <td>43.731160</td>\n",
       "      <td>2.147643</td>\n",
       "      <td>2.0</td>\n",
       "      <td>0.936115</td>\n",
       "      <td>0.590571</td>\n",
       "      <td>0.0</td>\n",
       "      <td>0.836206</td>\n",
       "      <td>1.107940</td>\n",
       "      <td>1.0</td>\n",
       "      <td>0.344629</td>\n",
       "    </tr>\n",
       "    <tr>\n",
       "      <th>2</th>\n",
       "      <td>306756</td>\n",
       "      <td>5</td>\n",
       "      <td>219</td>\n",
       "      <td>3.50</td>\n",
       "      <td>189.36</td>\n",
       "      <td>219</td>\n",
       "      <td>126657</td>\n",
       "      <td>4</td>\n",
       "      <td>4.0</td>\n",
       "      <td>1</td>\n",
       "      <td>...</td>\n",
       "      <td>35.674164</td>\n",
       "      <td>1.887314</td>\n",
       "      <td>2.0</td>\n",
       "      <td>0.806867</td>\n",
       "      <td>0.294197</td>\n",
       "      <td>0.0</td>\n",
       "      <td>0.633165</td>\n",
       "      <td>1.102564</td>\n",
       "      <td>1.0</td>\n",
       "      <td>0.401222</td>\n",
       "    </tr>\n",
       "    <tr>\n",
       "      <th>3</th>\n",
       "      <td>199982</td>\n",
       "      <td>5</td>\n",
       "      <td>219</td>\n",
       "      <td>3.85</td>\n",
       "      <td>170.76</td>\n",
       "      <td>219</td>\n",
       "      <td>21155</td>\n",
       "      <td>3</td>\n",
       "      <td>3.0</td>\n",
       "      <td>0</td>\n",
       "      <td>...</td>\n",
       "      <td>37.193733</td>\n",
       "      <td>1.956463</td>\n",
       "      <td>2.0</td>\n",
       "      <td>0.982550</td>\n",
       "      <td>0.333333</td>\n",
       "      <td>0.0</td>\n",
       "      <td>0.673894</td>\n",
       "      <td>1.104762</td>\n",
       "      <td>1.0</td>\n",
       "      <td>0.381688</td>\n",
       "    </tr>\n",
       "    <tr>\n",
       "      <th>4</th>\n",
       "      <td>238357</td>\n",
       "      <td>16</td>\n",
       "      <td>31</td>\n",
       "      <td>3.59</td>\n",
       "      <td>140.17</td>\n",
       "      <td>219</td>\n",
       "      <td>138600</td>\n",
       "      <td>4</td>\n",
       "      <td>4.5</td>\n",
       "      <td>1</td>\n",
       "      <td>...</td>\n",
       "      <td>35.061028</td>\n",
       "      <td>1.903943</td>\n",
       "      <td>2.0</td>\n",
       "      <td>0.847642</td>\n",
       "      <td>0.422649</td>\n",
       "      <td>0.0</td>\n",
       "      <td>0.713755</td>\n",
       "      <td>1.125379</td>\n",
       "      <td>1.0</td>\n",
       "      <td>0.420205</td>\n",
       "    </tr>\n",
       "  </tbody>\n",
       "</table>\n",
       "<p>5 rows × 110 columns</p>\n",
       "</div>"
      ],
      "text/plain": [
       "   srch_id  site_id  visitor_location_country_id  visitor_hist_starrating  \\\n",
       "0    89120       16                           31                     3.66   \n",
       "1    89120       16                           31                     3.66   \n",
       "2   306756        5                          219                     3.50   \n",
       "3   199982        5                          219                     3.85   \n",
       "4   238357       16                           31                     3.59   \n",
       "\n",
       "   visitor_hist_adr_usd  prop_country_id  prop_id  prop_starrating  \\\n",
       "0                270.28              219     4875                4   \n",
       "1                270.28              219    78838                4   \n",
       "2                189.36              219   126657                4   \n",
       "3                170.76              219    21155                3   \n",
       "4                140.17              219   138600                4   \n",
       "\n",
       "   prop_review_score  prop_brand_bool  ...  srch_booking_window_std  \\\n",
       "0                4.0                1  ...                34.345734   \n",
       "1                4.5                1  ...                43.731160   \n",
       "2                4.0                1  ...                35.674164   \n",
       "3                3.0                0  ...                37.193733   \n",
       "4                4.5                1  ...                35.061028   \n",
       "\n",
       "   srch_adults_count_mean  srch_adults_count_median  srch_adults_count_std  \\\n",
       "0                1.782407                       2.0               0.681737   \n",
       "1                2.147643                       2.0               0.936115   \n",
       "2                1.887314                       2.0               0.806867   \n",
       "3                1.956463                       2.0               0.982550   \n",
       "4                1.903943                       2.0               0.847642   \n",
       "\n",
       "   srch_children_count_mean  srch_children_count_median  \\\n",
       "0                  0.277778                         0.0   \n",
       "1                  0.590571                         0.0   \n",
       "2                  0.294197                         0.0   \n",
       "3                  0.333333                         0.0   \n",
       "4                  0.422649                         0.0   \n",
       "\n",
       "   srch_children_count_std  srch_room_count_mean  srch_room_count_median  \\\n",
       "0                 0.541802              1.115741                     1.0   \n",
       "1                 0.836206              1.107940                     1.0   \n",
       "2                 0.633165              1.102564                     1.0   \n",
       "3                 0.673894              1.104762                     1.0   \n",
       "4                 0.713755              1.125379                     1.0   \n",
       "\n",
       "   srch_room_count_std  \n",
       "0             0.425744  \n",
       "1             0.344629  \n",
       "2             0.401222  \n",
       "3             0.381688  \n",
       "4             0.420205  \n",
       "\n",
       "[5 rows x 110 columns]"
      ]
     },
     "execution_count": 3,
     "metadata": {},
     "output_type": "execute_result"
    }
   ],
   "source": [
    "train_df = pd.read_csv('data/processed_train.csv')\n",
    "test_df = pd.read_csv('data/processed_test.csv')\n",
    "train_df.head()"
   ]
  },
  {
   "cell_type": "markdown",
   "metadata": {},
   "source": [
    "#### Feature Grouping"
   ]
  },
  {
   "cell_type": "code",
   "execution_count": 4,
   "metadata": {},
   "outputs": [],
   "source": [
    "boolean_features = ['prop_brand_bool', 'promotion_flag', 'srch_saturday_night_bool', 'random_bool', 'click_bool', 'booking_bool']\n",
    "categorical_features = ['site_id', 'visitor_location_country_id', 'prop_country_id', 'srch_id', 'prop_id', 'srch_destination_id']\n",
    "numerical_features = [col for col in train_df.columns if col not in boolean_features + categorical_features + ['relevance']]"
   ]
  },
  {
   "cell_type": "code",
   "execution_count": 5,
   "metadata": {},
   "outputs": [
    {
     "data": {
      "text/plain": [
       "{'booking_bool',\n",
       " 'click_bool',\n",
       " 'gross_bookings_usd',\n",
       " 'max_distance_diff',\n",
       " 'missing_count',\n",
       " 'position',\n",
       " 'relevance'}"
      ]
     },
     "execution_count": 5,
     "metadata": {},
     "output_type": "execute_result"
    }
   ],
   "source": [
    "missing_feats = set(train_df.columns) - set(test_df.columns)\n",
    "missing_feats"
   ]
  },
  {
   "cell_type": "code",
   "execution_count": 6,
   "metadata": {},
   "outputs": [
    {
     "name": "stdout",
     "output_type": "stream",
     "text": [
      "booking_count\n",
      "booking_prior\n",
      "click_prior\n",
      "comp1_inv\n",
      "comp1_rate\n",
      "comp1_rate_percent_diff\n",
      "comp2_inv\n",
      "comp2_rate\n",
      "comp2_rate_percent_diff\n",
      "comp3_inv\n",
      "comp3_rate\n",
      "comp3_rate_percent_diff\n",
      "comp4_inv\n",
      "comp4_rate\n",
      "comp4_rate_percent_diff\n",
      "comp5_inv\n",
      "comp5_rate\n",
      "comp5_rate_percent_diff\n",
      "comp6_inv\n",
      "comp6_rate\n",
      "comp6_rate_percent_diff\n",
      "comp7_inv\n",
      "comp7_rate\n",
      "comp7_rate_percent_diff\n",
      "comp8_inv\n",
      "comp8_rate\n",
      "comp8_rate_percent_diff\n",
      "day\n",
      "mean_max_distance_diff\n",
      "mean_train_position\n",
      "month\n",
      "orig_destination_distance\n",
      "orig_destination_distance_mean\n",
      "orig_destination_distance_median\n",
      "orig_destination_distance_std\n",
      "previous_searches\n",
      "price_usd\n",
      "price_usd_mean\n",
      "price_usd_median\n",
      "price_usd_std\n",
      "promotion_flag\n",
      "prop_brand_bool\n",
      "prop_country_id\n",
      "prop_location_score1\n",
      "prop_location_score1_mean\n",
      "prop_location_score1_median\n",
      "prop_location_score1_std\n",
      "prop_location_score2\n",
      "prop_location_score2_mean\n",
      "prop_location_score2_median\n",
      "prop_location_score2_std\n",
      "prop_log_historical_price\n",
      "prop_log_historical_price_mean\n",
      "prop_log_historical_price_median\n",
      "prop_log_historical_price_std\n",
      "prop_review_score\n",
      "prop_review_score_mean\n",
      "prop_review_score_median\n",
      "prop_review_score_std\n",
      "prop_starrating\n",
      "prop_starrating_mean\n",
      "prop_starrating_median\n",
      "prop_starrating_std\n",
      "random_bool\n",
      "site_id\n",
      "srch_adults_count\n",
      "srch_adults_count_mean\n",
      "srch_adults_count_median\n",
      "srch_adults_count_std\n",
      "srch_booking_window\n",
      "srch_booking_window_mean\n",
      "srch_booking_window_median\n",
      "srch_booking_window_std\n",
      "srch_children_count\n",
      "srch_children_count_mean\n",
      "srch_children_count_median\n",
      "srch_children_count_std\n",
      "srch_destination_id\n",
      "srch_length_of_stay\n",
      "srch_length_of_stay_mean\n",
      "srch_length_of_stay_median\n",
      "srch_length_of_stay_std\n",
      "srch_query_affinity_score\n",
      "srch_query_affinity_score_mean\n",
      "srch_query_affinity_score_median\n",
      "srch_query_affinity_score_std\n",
      "srch_room_count\n",
      "srch_room_count_mean\n",
      "srch_room_count_median\n",
      "srch_room_count_std\n",
      "srch_saturday_night_bool\n",
      "visitor_hist_adr_usd\n",
      "visitor_hist_adr_usd_mean\n",
      "visitor_hist_adr_usd_median\n",
      "visitor_hist_adr_usd_std\n",
      "visitor_hist_starrating\n",
      "visitor_hist_starrating_mean\n",
      "visitor_hist_starrating_median\n",
      "visitor_hist_starrating_std\n",
      "visitor_location_country_id\n",
      "year\n"
     ]
    }
   ],
   "source": [
    "features = train_df.columns.difference(['srch_id', 'prop_id', 'booking_bool', 'click_bool', 'relevance', 'Score'] + list(missing_feats))\n",
    "for f in features:\n",
    "    print(f)"
   ]
  },
  {
   "cell_type": "code",
   "execution_count": 7,
   "metadata": {},
   "outputs": [],
   "source": [
    "# Grouping by 'srch_id' before splitting to maintain groups\n",
    "grouped = train_df.groupby('srch_id')\n",
    "gss = GroupShuffleSplit(test_size=0.3, n_splits=1, random_state=42)\n",
    "train_inds, val_inds = next(gss.split(train_df, groups=train_df['srch_id']))"
   ]
  },
  {
   "cell_type": "code",
   "execution_count": 8,
   "metadata": {},
   "outputs": [],
   "source": [
    "# Group sizes for LightGBM\n",
    "train_group = train_df.iloc[train_inds].groupby('srch_id').size().values\n",
    "val_group = train_df.iloc[val_inds].groupby('srch_id').size().values"
   ]
  },
  {
   "cell_type": "code",
   "execution_count": 9,
   "metadata": {},
   "outputs": [],
   "source": [
    "X_train, y_train = train_df[features].iloc[train_inds], train_df['relevance'].iloc[train_inds]\n",
    "X_val, y_val = train_df[features].iloc[val_inds], train_df['relevance'].iloc[val_inds]\n",
    "X_test = test_df[features]\n",
    "\n",
    "assert X_train.shape[1] == X_val.shape[1] == X_test.shape[1]"
   ]
  },
  {
   "cell_type": "code",
   "execution_count": 10,
   "metadata": {},
   "outputs": [],
   "source": [
    "param_grid = {\n",
    "    'learning_rate': [0.01, 0.05],\n",
    "    'subsample': [0.5, 0.8, 1],\n",
    "    'n_estimators':  [1,10,50,100,200]\n",
    "}"
   ]
  },
  {
   "cell_type": "code",
   "execution_count": 12,
   "metadata": {},
   "outputs": [
    {
     "name": "stderr",
     "output_type": "stream",
     "text": [
      "  0%|          | 0/30 [00:00<?, ?it/s]"
     ]
    },
    {
     "name": "stdout",
     "output_type": "stream",
     "text": [
      "<class 'dict'>\n"
     ]
    },
    {
     "name": "stderr",
     "output_type": "stream",
     "text": [
      "c:\\Users\\jaime\\anaconda3\\envs\\DataMiningTechniques\\lib\\site-packages\\joblib\\externals\\loky\\backend\\context.py:136: UserWarning: Could not find the number of physical cores for the following reason:\n",
      "found 0 physical cores < 1\n",
      "Returning the number of logical cores instead. You can silence this warning by setting LOKY_MAX_CPU_COUNT to the number of cores you want to use.\n",
      "  warnings.warn(\n",
      "  File \"c:\\Users\\jaime\\anaconda3\\envs\\DataMiningTechniques\\lib\\site-packages\\joblib\\externals\\loky\\backend\\context.py\", line 282, in _count_physical_cores\n",
      "    raise ValueError(f\"found {cpu_count_physical} physical cores < 1\")\n"
     ]
    },
    {
     "name": "stdout",
     "output_type": "stream",
     "text": [
      "[LightGBM] [Warning] Categorical features with more bins than the configured maximum bin number found.\n",
      "[LightGBM] [Warning] For categorical features, max_bin and max_bin_by_feature may be ignored with a large number of categories.\n"
     ]
    },
    {
     "name": "stderr",
     "output_type": "stream",
     "text": [
      "  3%|▎         | 1/30 [00:36<17:27, 36.13s/it]"
     ]
    },
    {
     "name": "stdout",
     "output_type": "stream",
     "text": [
      "<class 'dict'>\n",
      "[LightGBM] [Warning] Categorical features with more bins than the configured maximum bin number found.\n",
      "[LightGBM] [Warning] For categorical features, max_bin and max_bin_by_feature may be ignored with a large number of categories.\n"
     ]
    },
    {
     "name": "stderr",
     "output_type": "stream",
     "text": [
      "  7%|▋         | 2/30 [00:48<10:27, 22.43s/it]"
     ]
    },
    {
     "name": "stdout",
     "output_type": "stream",
     "text": [
      "<class 'dict'>\n",
      "[LightGBM] [Warning] Categorical features with more bins than the configured maximum bin number found.\n",
      "[LightGBM] [Warning] For categorical features, max_bin and max_bin_by_feature may be ignored with a large number of categories.\n"
     ]
    },
    {
     "name": "stderr",
     "output_type": "stream",
     "text": [
      " 10%|█         | 3/30 [01:00<07:51, 17.47s/it]"
     ]
    },
    {
     "name": "stdout",
     "output_type": "stream",
     "text": [
      "<class 'dict'>\n",
      "[LightGBM] [Warning] Categorical features with more bins than the configured maximum bin number found.\n",
      "[LightGBM] [Warning] For categorical features, max_bin and max_bin_by_feature may be ignored with a large number of categories.\n"
     ]
    },
    {
     "name": "stderr",
     "output_type": "stream",
     "text": [
      " 13%|█▎        | 4/30 [01:14<06:56, 16.03s/it]"
     ]
    },
    {
     "name": "stdout",
     "output_type": "stream",
     "text": [
      "<class 'dict'>\n",
      "[LightGBM] [Warning] Categorical features with more bins than the configured maximum bin number found.\n",
      "[LightGBM] [Warning] For categorical features, max_bin and max_bin_by_feature may be ignored with a large number of categories.\n"
     ]
    },
    {
     "name": "stderr",
     "output_type": "stream",
     "text": [
      " 17%|█▋        | 5/30 [01:28<06:20, 15.21s/it]"
     ]
    },
    {
     "name": "stdout",
     "output_type": "stream",
     "text": [
      "<class 'dict'>\n",
      "[LightGBM] [Warning] Categorical features with more bins than the configured maximum bin number found.\n",
      "[LightGBM] [Warning] For categorical features, max_bin and max_bin_by_feature may be ignored with a large number of categories.\n"
     ]
    },
    {
     "name": "stderr",
     "output_type": "stream",
     "text": [
      " 20%|██        | 6/30 [01:42<05:55, 14.81s/it]"
     ]
    },
    {
     "name": "stdout",
     "output_type": "stream",
     "text": [
      "<class 'dict'>\n",
      "[LightGBM] [Warning] Categorical features with more bins than the configured maximum bin number found.\n",
      "[LightGBM] [Warning] For categorical features, max_bin and max_bin_by_feature may be ignored with a large number of categories.\n"
     ]
    },
    {
     "name": "stderr",
     "output_type": "stream",
     "text": [
      " 23%|██▎       | 7/30 [02:14<07:50, 20.45s/it]"
     ]
    },
    {
     "name": "stdout",
     "output_type": "stream",
     "text": [
      "<class 'dict'>\n",
      "[LightGBM] [Warning] Categorical features with more bins than the configured maximum bin number found.\n",
      "[LightGBM] [Warning] For categorical features, max_bin and max_bin_by_feature may be ignored with a large number of categories.\n"
     ]
    },
    {
     "name": "stderr",
     "output_type": "stream",
     "text": [
      " 27%|██▋       | 8/30 [02:48<09:06, 24.84s/it]"
     ]
    },
    {
     "name": "stdout",
     "output_type": "stream",
     "text": [
      "<class 'dict'>\n",
      "[LightGBM] [Warning] Categorical features with more bins than the configured maximum bin number found.\n",
      "[LightGBM] [Warning] For categorical features, max_bin and max_bin_by_feature may be ignored with a large number of categories.\n"
     ]
    },
    {
     "name": "stderr",
     "output_type": "stream",
     "text": [
      " 30%|███       | 9/30 [03:19<09:24, 26.89s/it]"
     ]
    },
    {
     "name": "stdout",
     "output_type": "stream",
     "text": [
      "<class 'dict'>\n",
      "[LightGBM] [Warning] Categorical features with more bins than the configured maximum bin number found.\n",
      "[LightGBM] [Warning] For categorical features, max_bin and max_bin_by_feature may be ignored with a large number of categories.\n"
     ]
    },
    {
     "name": "stderr",
     "output_type": "stream",
     "text": [
      " 33%|███▎      | 10/30 [04:20<12:23, 37.17s/it]"
     ]
    },
    {
     "name": "stdout",
     "output_type": "stream",
     "text": [
      "<class 'dict'>\n",
      "[LightGBM] [Warning] Categorical features with more bins than the configured maximum bin number found.\n",
      "[LightGBM] [Warning] For categorical features, max_bin and max_bin_by_feature may be ignored with a large number of categories.\n"
     ]
    },
    {
     "name": "stderr",
     "output_type": "stream",
     "text": [
      " 37%|███▋      | 11/30 [05:19<13:55, 43.95s/it]"
     ]
    },
    {
     "name": "stdout",
     "output_type": "stream",
     "text": [
      "<class 'dict'>\n",
      "[LightGBM] [Warning] Categorical features with more bins than the configured maximum bin number found.\n",
      "[LightGBM] [Warning] For categorical features, max_bin and max_bin_by_feature may be ignored with a large number of categories.\n"
     ]
    },
    {
     "name": "stderr",
     "output_type": "stream",
     "text": [
      " 40%|████      | 12/30 [06:20<14:44, 49.15s/it]"
     ]
    },
    {
     "name": "stdout",
     "output_type": "stream",
     "text": [
      "<class 'dict'>\n",
      "[LightGBM] [Warning] Categorical features with more bins than the configured maximum bin number found.\n",
      "[LightGBM] [Warning] For categorical features, max_bin and max_bin_by_feature may be ignored with a large number of categories.\n"
     ]
    },
    {
     "name": "stderr",
     "output_type": "stream",
     "text": [
      " 43%|████▎     | 13/30 [08:40<21:46, 76.84s/it]"
     ]
    },
    {
     "name": "stdout",
     "output_type": "stream",
     "text": [
      "<class 'dict'>\n",
      "[LightGBM] [Warning] Categorical features with more bins than the configured maximum bin number found.\n",
      "[LightGBM] [Warning] For categorical features, max_bin and max_bin_by_feature may be ignored with a large number of categories.\n"
     ]
    },
    {
     "name": "stderr",
     "output_type": "stream",
     "text": [
      " 47%|████▋     | 14/30 [11:01<25:37, 96.07s/it]"
     ]
    },
    {
     "name": "stdout",
     "output_type": "stream",
     "text": [
      "<class 'dict'>\n",
      "[LightGBM] [Warning] Categorical features with more bins than the configured maximum bin number found.\n",
      "[LightGBM] [Warning] For categorical features, max_bin and max_bin_by_feature may be ignored with a large number of categories.\n"
     ]
    },
    {
     "name": "stderr",
     "output_type": "stream",
     "text": [
      " 50%|█████     | 15/30 [13:20<27:16, 109.08s/it]"
     ]
    },
    {
     "name": "stdout",
     "output_type": "stream",
     "text": [
      "<class 'dict'>\n",
      "[LightGBM] [Warning] Categorical features with more bins than the configured maximum bin number found.\n",
      "[LightGBM] [Warning] For categorical features, max_bin and max_bin_by_feature may be ignored with a large number of categories.\n"
     ]
    },
    {
     "name": "stderr",
     "output_type": "stream",
     "text": [
      " 53%|█████▎    | 16/30 [13:30<18:30, 79.30s/it] "
     ]
    },
    {
     "name": "stdout",
     "output_type": "stream",
     "text": [
      "<class 'dict'>\n",
      "[LightGBM] [Warning] Categorical features with more bins than the configured maximum bin number found.\n",
      "[LightGBM] [Warning] For categorical features, max_bin and max_bin_by_feature may be ignored with a large number of categories.\n"
     ]
    },
    {
     "name": "stderr",
     "output_type": "stream",
     "text": [
      " 57%|█████▋    | 17/30 [13:40<12:38, 58.35s/it]"
     ]
    },
    {
     "name": "stdout",
     "output_type": "stream",
     "text": [
      "<class 'dict'>\n",
      "[LightGBM] [Warning] Categorical features with more bins than the configured maximum bin number found.\n",
      "[LightGBM] [Warning] For categorical features, max_bin and max_bin_by_feature may be ignored with a large number of categories.\n"
     ]
    },
    {
     "name": "stderr",
     "output_type": "stream",
     "text": [
      " 60%|██████    | 18/30 [13:50<08:44, 43.74s/it]"
     ]
    },
    {
     "name": "stdout",
     "output_type": "stream",
     "text": [
      "<class 'dict'>\n",
      "[LightGBM] [Warning] Categorical features with more bins than the configured maximum bin number found.\n",
      "[LightGBM] [Warning] For categorical features, max_bin and max_bin_by_feature may be ignored with a large number of categories.\n"
     ]
    },
    {
     "name": "stderr",
     "output_type": "stream",
     "text": [
      " 63%|██████▎   | 19/30 [14:03<06:20, 34.58s/it]"
     ]
    },
    {
     "name": "stdout",
     "output_type": "stream",
     "text": [
      "<class 'dict'>\n",
      "[LightGBM] [Warning] Categorical features with more bins than the configured maximum bin number found.\n",
      "[LightGBM] [Warning] For categorical features, max_bin and max_bin_by_feature may be ignored with a large number of categories.\n"
     ]
    },
    {
     "name": "stderr",
     "output_type": "stream",
     "text": [
      " 67%|██████▋   | 20/30 [14:16<04:42, 28.22s/it]"
     ]
    },
    {
     "name": "stdout",
     "output_type": "stream",
     "text": [
      "<class 'dict'>\n",
      "[LightGBM] [Warning] Categorical features with more bins than the configured maximum bin number found.\n",
      "[LightGBM] [Warning] For categorical features, max_bin and max_bin_by_feature may be ignored with a large number of categories.\n"
     ]
    },
    {
     "name": "stderr",
     "output_type": "stream",
     "text": [
      " 70%|███████   | 21/30 [14:30<03:35, 23.94s/it]"
     ]
    },
    {
     "name": "stdout",
     "output_type": "stream",
     "text": [
      "<class 'dict'>\n",
      "[LightGBM] [Warning] Categorical features with more bins than the configured maximum bin number found.\n",
      "[LightGBM] [Warning] For categorical features, max_bin and max_bin_by_feature may be ignored with a large number of categories.\n"
     ]
    },
    {
     "name": "stderr",
     "output_type": "stream",
     "text": [
      " 73%|███████▎  | 22/30 [15:01<03:27, 25.95s/it]"
     ]
    },
    {
     "name": "stdout",
     "output_type": "stream",
     "text": [
      "<class 'dict'>\n",
      "[LightGBM] [Warning] Categorical features with more bins than the configured maximum bin number found.\n",
      "[LightGBM] [Warning] For categorical features, max_bin and max_bin_by_feature may be ignored with a large number of categories.\n"
     ]
    },
    {
     "name": "stderr",
     "output_type": "stream",
     "text": [
      " 77%|███████▋  | 23/30 [15:34<03:17, 28.15s/it]"
     ]
    },
    {
     "name": "stdout",
     "output_type": "stream",
     "text": [
      "<class 'dict'>\n",
      "[LightGBM] [Warning] Categorical features with more bins than the configured maximum bin number found.\n",
      "[LightGBM] [Warning] For categorical features, max_bin and max_bin_by_feature may be ignored with a large number of categories.\n"
     ]
    },
    {
     "name": "stderr",
     "output_type": "stream",
     "text": [
      " 80%|████████  | 24/30 [16:05<02:54, 29.04s/it]"
     ]
    },
    {
     "name": "stdout",
     "output_type": "stream",
     "text": [
      "<class 'dict'>\n",
      "[LightGBM] [Warning] Categorical features with more bins than the configured maximum bin number found.\n",
      "[LightGBM] [Warning] For categorical features, max_bin and max_bin_by_feature may be ignored with a large number of categories.\n"
     ]
    },
    {
     "name": "stderr",
     "output_type": "stream",
     "text": [
      " 83%|████████▎ | 25/30 [17:14<03:24, 40.86s/it]"
     ]
    },
    {
     "name": "stdout",
     "output_type": "stream",
     "text": [
      "<class 'dict'>\n",
      "[LightGBM] [Warning] Categorical features with more bins than the configured maximum bin number found.\n",
      "[LightGBM] [Warning] For categorical features, max_bin and max_bin_by_feature may be ignored with a large number of categories.\n"
     ]
    },
    {
     "name": "stderr",
     "output_type": "stream",
     "text": [
      " 87%|████████▋ | 26/30 [18:14<03:06, 46.56s/it]"
     ]
    },
    {
     "name": "stdout",
     "output_type": "stream",
     "text": [
      "<class 'dict'>\n",
      "[LightGBM] [Warning] Categorical features with more bins than the configured maximum bin number found.\n",
      "[LightGBM] [Warning] For categorical features, max_bin and max_bin_by_feature may be ignored with a large number of categories.\n"
     ]
    },
    {
     "name": "stderr",
     "output_type": "stream",
     "text": [
      " 90%|█████████ | 27/30 [19:16<02:33, 51.17s/it]"
     ]
    },
    {
     "name": "stdout",
     "output_type": "stream",
     "text": [
      "<class 'dict'>\n",
      "[LightGBM] [Warning] Categorical features with more bins than the configured maximum bin number found.\n",
      "[LightGBM] [Warning] For categorical features, max_bin and max_bin_by_feature may be ignored with a large number of categories.\n"
     ]
    },
    {
     "name": "stderr",
     "output_type": "stream",
     "text": [
      " 93%|█████████▎| 28/30 [21:40<02:38, 79.12s/it]"
     ]
    },
    {
     "name": "stdout",
     "output_type": "stream",
     "text": [
      "<class 'dict'>\n",
      "[LightGBM] [Warning] Categorical features with more bins than the configured maximum bin number found.\n",
      "[LightGBM] [Warning] For categorical features, max_bin and max_bin_by_feature may be ignored with a large number of categories.\n"
     ]
    },
    {
     "name": "stderr",
     "output_type": "stream",
     "text": [
      " 97%|█████████▋| 29/30 [24:02<01:37, 97.92s/it]"
     ]
    },
    {
     "name": "stdout",
     "output_type": "stream",
     "text": [
      "<class 'dict'>\n",
      "[LightGBM] [Warning] Categorical features with more bins than the configured maximum bin number found.\n",
      "[LightGBM] [Warning] For categorical features, max_bin and max_bin_by_feature may be ignored with a large number of categories.\n"
     ]
    },
    {
     "name": "stderr",
     "output_type": "stream",
     "text": [
      "100%|██████████| 30/30 [26:24<00:00, 52.81s/it] "
     ]
    },
    {
     "name": "stdout",
     "output_type": "stream",
     "text": [
      "--------------------------------------------------\n",
      "Best NDCG Score: 0.892507374819291\n",
      "Best Parameters: {'learning_rate': 0.05, 'n_estimators': 50, 'subsample': 0.8}\n"
     ]
    },
    {
     "name": "stderr",
     "output_type": "stream",
     "text": [
      "\n"
     ]
    }
   ],
   "source": [
    "# categorical features should be the categorical features minus the ones that are not in the features\n",
    "categorical_features = [f for f in categorical_features if f in features]\n",
    "best_score = -float('inf')\n",
    "best_params = {}\n",
    "\n",
    "# Iterate over all combinations of parameters\n",
    "for params in tqdm(ParameterGrid(param_grid)):\n",
    "    model = lgb.LGBMRanker(\n",
    "        objective='lambdarank',\n",
    "        boosting_type='dart',\n",
    "        importance_type='gain',\n",
    "        metric='ndcg',\n",
    "        label_gain=[0, 1, 10],\n",
    "        num_leaves=15,\n",
    "        n_estimators=50,\n",
    "        reg_alpha=0.2,\n",
    "        reg_lambda=0.2,\n",
    "        verbose=0,\n",
    "        **params\n",
    "    )\n",
    "    model.fit(\n",
    "        X_train,\n",
    "        y_train,\n",
    "        group=train_group,\n",
    "        eval_set=[(X_val, y_val)],\n",
    "        eval_group=[val_group],\n",
    "        eval_at=[5],\n",
    "        categorical_feature=categorical_features,\n",
    "        # callbacks=[early_stopping(10)]\n",
    "    )\n",
    "    \n",
    "    # Evaluate the model\n",
    "    y_pred_val = model.predict(X_val)\n",
    "    score = ndcg_score([y_val], [y_pred_val])\n",
    "\n",
    "    # Save the best model\n",
    "    if score > best_score:\n",
    "        best_score = score\n",
    "        best_params = params\n",
    "        model.booster_.save_model('best_lambdaMART_model.txt')\n",
    "\n",
    "\n",
    "print('-' * 50)\n",
    "print(f'Best NDCG Score: {best_score}')\n",
    "print(f'Best Parameters: {best_params}')"
   ]
  },
  {
   "cell_type": "code",
   "execution_count": 15,
   "metadata": {},
   "outputs": [
    {
     "data": {
      "text/html": [
       "<div>\n",
       "<style scoped>\n",
       "    .dataframe tbody tr th:only-of-type {\n",
       "        vertical-align: middle;\n",
       "    }\n",
       "\n",
       "    .dataframe tbody tr th {\n",
       "        vertical-align: top;\n",
       "    }\n",
       "\n",
       "    .dataframe thead th {\n",
       "        text-align: right;\n",
       "    }\n",
       "</style>\n",
       "<table border=\"1\" class=\"dataframe\">\n",
       "  <thead>\n",
       "    <tr style=\"text-align: right;\">\n",
       "      <th></th>\n",
       "      <th>booking_count</th>\n",
       "      <th>booking_prior</th>\n",
       "      <th>click_prior</th>\n",
       "      <th>comp1_inv</th>\n",
       "      <th>comp1_rate</th>\n",
       "      <th>comp1_rate_percent_diff</th>\n",
       "      <th>comp2_inv</th>\n",
       "      <th>comp2_rate</th>\n",
       "      <th>comp2_rate_percent_diff</th>\n",
       "      <th>comp3_inv</th>\n",
       "      <th>...</th>\n",
       "      <th>visitor_hist_adr_usd</th>\n",
       "      <th>visitor_hist_adr_usd_mean</th>\n",
       "      <th>visitor_hist_adr_usd_median</th>\n",
       "      <th>visitor_hist_adr_usd_std</th>\n",
       "      <th>visitor_hist_starrating</th>\n",
       "      <th>visitor_hist_starrating_mean</th>\n",
       "      <th>visitor_hist_starrating_median</th>\n",
       "      <th>visitor_hist_starrating_std</th>\n",
       "      <th>visitor_location_country_id</th>\n",
       "      <th>year</th>\n",
       "    </tr>\n",
       "  </thead>\n",
       "  <tbody>\n",
       "    <tr>\n",
       "      <th>2</th>\n",
       "      <td>21</td>\n",
       "      <td>0.039163</td>\n",
       "      <td>0.061445</td>\n",
       "      <td>0.0</td>\n",
       "      <td>1.0</td>\n",
       "      <td>15.0</td>\n",
       "      <td>0.0</td>\n",
       "      <td>0.0</td>\n",
       "      <td>6.0</td>\n",
       "      <td>0.0</td>\n",
       "      <td>...</td>\n",
       "      <td>189.36</td>\n",
       "      <td>231.51617</td>\n",
       "      <td>215.875</td>\n",
       "      <td>89.465390</td>\n",
       "      <td>3.50</td>\n",
       "      <td>3.596489</td>\n",
       "      <td>3.620</td>\n",
       "      <td>0.602721</td>\n",
       "      <td>219</td>\n",
       "      <td>2013</td>\n",
       "    </tr>\n",
       "    <tr>\n",
       "      <th>3</th>\n",
       "      <td>30</td>\n",
       "      <td>0.076294</td>\n",
       "      <td>0.103542</td>\n",
       "      <td>0.0</td>\n",
       "      <td>1.0</td>\n",
       "      <td>16.0</td>\n",
       "      <td>0.0</td>\n",
       "      <td>0.0</td>\n",
       "      <td>9.0</td>\n",
       "      <td>0.0</td>\n",
       "      <td>...</td>\n",
       "      <td>170.76</td>\n",
       "      <td>217.64044</td>\n",
       "      <td>189.060</td>\n",
       "      <td>94.510270</td>\n",
       "      <td>3.85</td>\n",
       "      <td>3.427778</td>\n",
       "      <td>3.520</td>\n",
       "      <td>0.650265</td>\n",
       "      <td>219</td>\n",
       "      <td>2013</td>\n",
       "    </tr>\n",
       "    <tr>\n",
       "      <th>4</th>\n",
       "      <td>8</td>\n",
       "      <td>0.025304</td>\n",
       "      <td>0.037449</td>\n",
       "      <td>0.0</td>\n",
       "      <td>0.0</td>\n",
       "      <td>18.0</td>\n",
       "      <td>0.0</td>\n",
       "      <td>-1.0</td>\n",
       "      <td>15.0</td>\n",
       "      <td>0.0</td>\n",
       "      <td>...</td>\n",
       "      <td>140.17</td>\n",
       "      <td>230.08704</td>\n",
       "      <td>207.340</td>\n",
       "      <td>94.565360</td>\n",
       "      <td>3.59</td>\n",
       "      <td>3.517031</td>\n",
       "      <td>3.620</td>\n",
       "      <td>0.595722</td>\n",
       "      <td>31</td>\n",
       "      <td>2013</td>\n",
       "    </tr>\n",
       "    <tr>\n",
       "      <th>5</th>\n",
       "      <td>13</td>\n",
       "      <td>0.050654</td>\n",
       "      <td>0.070261</td>\n",
       "      <td>0.0</td>\n",
       "      <td>0.0</td>\n",
       "      <td>18.0</td>\n",
       "      <td>0.0</td>\n",
       "      <td>0.0</td>\n",
       "      <td>5.0</td>\n",
       "      <td>0.0</td>\n",
       "      <td>...</td>\n",
       "      <td>277.64</td>\n",
       "      <td>221.44156</td>\n",
       "      <td>205.160</td>\n",
       "      <td>92.324920</td>\n",
       "      <td>4.22</td>\n",
       "      <td>3.504889</td>\n",
       "      <td>3.540</td>\n",
       "      <td>0.542941</td>\n",
       "      <td>219</td>\n",
       "      <td>2013</td>\n",
       "    </tr>\n",
       "    <tr>\n",
       "      <th>6</th>\n",
       "      <td>1</td>\n",
       "      <td>0.027650</td>\n",
       "      <td>0.055300</td>\n",
       "      <td>0.0</td>\n",
       "      <td>0.0</td>\n",
       "      <td>11.0</td>\n",
       "      <td>0.0</td>\n",
       "      <td>0.0</td>\n",
       "      <td>13.0</td>\n",
       "      <td>0.0</td>\n",
       "      <td>...</td>\n",
       "      <td>101.11</td>\n",
       "      <td>176.84636</td>\n",
       "      <td>161.850</td>\n",
       "      <td>80.418330</td>\n",
       "      <td>2.00</td>\n",
       "      <td>3.011818</td>\n",
       "      <td>3.000</td>\n",
       "      <td>0.675690</td>\n",
       "      <td>219</td>\n",
       "      <td>2013</td>\n",
       "    </tr>\n",
       "    <tr>\n",
       "      <th>...</th>\n",
       "      <td>...</td>\n",
       "      <td>...</td>\n",
       "      <td>...</td>\n",
       "      <td>...</td>\n",
       "      <td>...</td>\n",
       "      <td>...</td>\n",
       "      <td>...</td>\n",
       "      <td>...</td>\n",
       "      <td>...</td>\n",
       "      <td>...</td>\n",
       "      <td>...</td>\n",
       "      <td>...</td>\n",
       "      <td>...</td>\n",
       "      <td>...</td>\n",
       "      <td>...</td>\n",
       "      <td>...</td>\n",
       "      <td>...</td>\n",
       "      <td>...</td>\n",
       "      <td>...</td>\n",
       "      <td>...</td>\n",
       "      <td>...</td>\n",
       "    </tr>\n",
       "    <tr>\n",
       "      <th>3718755</th>\n",
       "      <td>5</td>\n",
       "      <td>0.050847</td>\n",
       "      <td>0.067797</td>\n",
       "      <td>NaN</td>\n",
       "      <td>NaN</td>\n",
       "      <td>NaN</td>\n",
       "      <td>NaN</td>\n",
       "      <td>NaN</td>\n",
       "      <td>NaN</td>\n",
       "      <td>NaN</td>\n",
       "      <td>...</td>\n",
       "      <td>NaN</td>\n",
       "      <td>165.38167</td>\n",
       "      <td>175.510</td>\n",
       "      <td>45.664284</td>\n",
       "      <td>NaN</td>\n",
       "      <td>2.781667</td>\n",
       "      <td>2.875</td>\n",
       "      <td>0.328111</td>\n",
       "      <td>100</td>\n",
       "      <td>2013</td>\n",
       "    </tr>\n",
       "    <tr>\n",
       "      <th>3718756</th>\n",
       "      <td>0</td>\n",
       "      <td>0.049180</td>\n",
       "      <td>0.114754</td>\n",
       "      <td>NaN</td>\n",
       "      <td>NaN</td>\n",
       "      <td>NaN</td>\n",
       "      <td>NaN</td>\n",
       "      <td>NaN</td>\n",
       "      <td>NaN</td>\n",
       "      <td>NaN</td>\n",
       "      <td>...</td>\n",
       "      <td>NaN</td>\n",
       "      <td>165.66000</td>\n",
       "      <td>159.770</td>\n",
       "      <td>48.893887</td>\n",
       "      <td>NaN</td>\n",
       "      <td>3.477500</td>\n",
       "      <td>3.670</td>\n",
       "      <td>0.645396</td>\n",
       "      <td>220</td>\n",
       "      <td>2013</td>\n",
       "    </tr>\n",
       "    <tr>\n",
       "      <th>3718757</th>\n",
       "      <td>0</td>\n",
       "      <td>0.000000</td>\n",
       "      <td>0.000000</td>\n",
       "      <td>NaN</td>\n",
       "      <td>NaN</td>\n",
       "      <td>NaN</td>\n",
       "      <td>NaN</td>\n",
       "      <td>NaN</td>\n",
       "      <td>NaN</td>\n",
       "      <td>NaN</td>\n",
       "      <td>...</td>\n",
       "      <td>NaN</td>\n",
       "      <td>155.36000</td>\n",
       "      <td>155.360</td>\n",
       "      <td>35.765460</td>\n",
       "      <td>NaN</td>\n",
       "      <td>3.750000</td>\n",
       "      <td>3.750</td>\n",
       "      <td>0.098995</td>\n",
       "      <td>220</td>\n",
       "      <td>2013</td>\n",
       "    </tr>\n",
       "    <tr>\n",
       "      <th>3718758</th>\n",
       "      <td>1</td>\n",
       "      <td>0.066667</td>\n",
       "      <td>0.133333</td>\n",
       "      <td>NaN</td>\n",
       "      <td>NaN</td>\n",
       "      <td>NaN</td>\n",
       "      <td>NaN</td>\n",
       "      <td>NaN</td>\n",
       "      <td>NaN</td>\n",
       "      <td>NaN</td>\n",
       "      <td>...</td>\n",
       "      <td>NaN</td>\n",
       "      <td>211.66000</td>\n",
       "      <td>211.660</td>\n",
       "      <td>NaN</td>\n",
       "      <td>NaN</td>\n",
       "      <td>3.700000</td>\n",
       "      <td>3.700</td>\n",
       "      <td>NaN</td>\n",
       "      <td>220</td>\n",
       "      <td>2013</td>\n",
       "    </tr>\n",
       "    <tr>\n",
       "      <th>3718759</th>\n",
       "      <td>3</td>\n",
       "      <td>0.053191</td>\n",
       "      <td>0.053191</td>\n",
       "      <td>NaN</td>\n",
       "      <td>NaN</td>\n",
       "      <td>NaN</td>\n",
       "      <td>NaN</td>\n",
       "      <td>NaN</td>\n",
       "      <td>NaN</td>\n",
       "      <td>NaN</td>\n",
       "      <td>...</td>\n",
       "      <td>NaN</td>\n",
       "      <td>NaN</td>\n",
       "      <td>NaN</td>\n",
       "      <td>NaN</td>\n",
       "      <td>NaN</td>\n",
       "      <td>NaN</td>\n",
       "      <td>NaN</td>\n",
       "      <td>NaN</td>\n",
       "      <td>100</td>\n",
       "      <td>2013</td>\n",
       "    </tr>\n",
       "  </tbody>\n",
       "</table>\n",
       "<p>2601536 rows × 101 columns</p>\n",
       "</div>"
      ],
      "text/plain": [
       "         booking_count  booking_prior  click_prior  comp1_inv  comp1_rate  \\\n",
       "2                   21       0.039163     0.061445        0.0         1.0   \n",
       "3                   30       0.076294     0.103542        0.0         1.0   \n",
       "4                    8       0.025304     0.037449        0.0         0.0   \n",
       "5                   13       0.050654     0.070261        0.0         0.0   \n",
       "6                    1       0.027650     0.055300        0.0         0.0   \n",
       "...                ...            ...          ...        ...         ...   \n",
       "3718755              5       0.050847     0.067797        NaN         NaN   \n",
       "3718756              0       0.049180     0.114754        NaN         NaN   \n",
       "3718757              0       0.000000     0.000000        NaN         NaN   \n",
       "3718758              1       0.066667     0.133333        NaN         NaN   \n",
       "3718759              3       0.053191     0.053191        NaN         NaN   \n",
       "\n",
       "         comp1_rate_percent_diff  comp2_inv  comp2_rate  \\\n",
       "2                           15.0        0.0         0.0   \n",
       "3                           16.0        0.0         0.0   \n",
       "4                           18.0        0.0        -1.0   \n",
       "5                           18.0        0.0         0.0   \n",
       "6                           11.0        0.0         0.0   \n",
       "...                          ...        ...         ...   \n",
       "3718755                      NaN        NaN         NaN   \n",
       "3718756                      NaN        NaN         NaN   \n",
       "3718757                      NaN        NaN         NaN   \n",
       "3718758                      NaN        NaN         NaN   \n",
       "3718759                      NaN        NaN         NaN   \n",
       "\n",
       "         comp2_rate_percent_diff  comp3_inv  ...  visitor_hist_adr_usd  \\\n",
       "2                            6.0        0.0  ...                189.36   \n",
       "3                            9.0        0.0  ...                170.76   \n",
       "4                           15.0        0.0  ...                140.17   \n",
       "5                            5.0        0.0  ...                277.64   \n",
       "6                           13.0        0.0  ...                101.11   \n",
       "...                          ...        ...  ...                   ...   \n",
       "3718755                      NaN        NaN  ...                   NaN   \n",
       "3718756                      NaN        NaN  ...                   NaN   \n",
       "3718757                      NaN        NaN  ...                   NaN   \n",
       "3718758                      NaN        NaN  ...                   NaN   \n",
       "3718759                      NaN        NaN  ...                   NaN   \n",
       "\n",
       "         visitor_hist_adr_usd_mean  visitor_hist_adr_usd_median  \\\n",
       "2                        231.51617                      215.875   \n",
       "3                        217.64044                      189.060   \n",
       "4                        230.08704                      207.340   \n",
       "5                        221.44156                      205.160   \n",
       "6                        176.84636                      161.850   \n",
       "...                            ...                          ...   \n",
       "3718755                  165.38167                      175.510   \n",
       "3718756                  165.66000                      159.770   \n",
       "3718757                  155.36000                      155.360   \n",
       "3718758                  211.66000                      211.660   \n",
       "3718759                        NaN                          NaN   \n",
       "\n",
       "         visitor_hist_adr_usd_std  visitor_hist_starrating  \\\n",
       "2                       89.465390                     3.50   \n",
       "3                       94.510270                     3.85   \n",
       "4                       94.565360                     3.59   \n",
       "5                       92.324920                     4.22   \n",
       "6                       80.418330                     2.00   \n",
       "...                           ...                      ...   \n",
       "3718755                 45.664284                      NaN   \n",
       "3718756                 48.893887                      NaN   \n",
       "3718757                 35.765460                      NaN   \n",
       "3718758                       NaN                      NaN   \n",
       "3718759                       NaN                      NaN   \n",
       "\n",
       "         visitor_hist_starrating_mean  visitor_hist_starrating_median  \\\n",
       "2                            3.596489                           3.620   \n",
       "3                            3.427778                           3.520   \n",
       "4                            3.517031                           3.620   \n",
       "5                            3.504889                           3.540   \n",
       "6                            3.011818                           3.000   \n",
       "...                               ...                             ...   \n",
       "3718755                      2.781667                           2.875   \n",
       "3718756                      3.477500                           3.670   \n",
       "3718757                      3.750000                           3.750   \n",
       "3718758                      3.700000                           3.700   \n",
       "3718759                           NaN                             NaN   \n",
       "\n",
       "         visitor_hist_starrating_std  visitor_location_country_id  year  \n",
       "2                           0.602721                          219  2013  \n",
       "3                           0.650265                          219  2013  \n",
       "4                           0.595722                           31  2013  \n",
       "5                           0.542941                          219  2013  \n",
       "6                           0.675690                          219  2013  \n",
       "...                              ...                          ...   ...  \n",
       "3718755                     0.328111                          100  2013  \n",
       "3718756                     0.645396                          220  2013  \n",
       "3718757                     0.098995                          220  2013  \n",
       "3718758                          NaN                          220  2013  \n",
       "3718759                          NaN                          100  2013  \n",
       "\n",
       "[2601536 rows x 101 columns]"
      ]
     },
     "execution_count": 15,
     "metadata": {},
     "output_type": "execute_result"
    }
   ],
   "source": [
    "X_train"
   ]
  },
  {
   "cell_type": "markdown",
   "metadata": {},
   "source": [
    "## hyper-parameter search"
   ]
  },
  {
   "cell_type": "code",
   "execution_count": 36,
   "metadata": {},
   "outputs": [],
   "source": [
    "categorical_features = ['site_id',\n",
    " 'visitor_location_country_id',\n",
    " 'prop_country_id',\n",
    " 'srch_destination_id']"
   ]
  },
  {
   "cell_type": "code",
   "execution_count": 47,
   "metadata": {},
   "outputs": [
    {
     "name": "stderr",
     "output_type": "stream",
     "text": [
      "[I 2024-05-18 22:51:30,332] A new study created in memory with name: no-name-bcce26f3-4381-47e6-8423-7a37b3369c81\n"
     ]
    },
    {
     "name": "stdout",
     "output_type": "stream",
     "text": [
      "[LightGBM] [Warning] Categorical features with more bins than the configured maximum bin number found.\n",
      "[LightGBM] [Warning] For categorical features, max_bin and max_bin_by_feature may be ignored with a large number of categories.\n"
     ]
    },
    {
     "name": "stderr",
     "output_type": "stream",
     "text": [
      "[I 2024-05-18 22:52:01,305] Trial 0 finished with value: 0.7663678527443015 and parameters: {'learning_rate': 0.05, 'n_estimators': 42, 'num_leaves': 28, 'max_depth': 85}. Best is trial 0 with value: 0.7663678527443015.\n"
     ]
    },
    {
     "name": "stdout",
     "output_type": "stream",
     "text": [
      "[LightGBM] [Warning] Categorical features with more bins than the configured maximum bin number found.\n",
      "[LightGBM] [Warning] For categorical features, max_bin and max_bin_by_feature may be ignored with a large number of categories.\n"
     ]
    },
    {
     "name": "stderr",
     "output_type": "stream",
     "text": [
      "[I 2024-05-18 22:52:29,533] Trial 1 finished with value: 0.750148205299846 and parameters: {'learning_rate': 0.03, 'n_estimators': 40, 'num_leaves': 20, 'max_depth': 60}. Best is trial 0 with value: 0.7663678527443015.\n"
     ]
    },
    {
     "name": "stdout",
     "output_type": "stream",
     "text": [
      "[LightGBM] [Warning] Categorical features with more bins than the configured maximum bin number found.\n",
      "[LightGBM] [Warning] For categorical features, max_bin and max_bin_by_feature may be ignored with a large number of categories.\n"
     ]
    },
    {
     "name": "stderr",
     "output_type": "stream",
     "text": [
      "[I 2024-05-18 22:52:45,883] Trial 2 finished with value: 0.7389633623415885 and parameters: {'learning_rate': 0.01, 'n_estimators': 18, 'num_leaves': 20, 'max_depth': 50}. Best is trial 0 with value: 0.7663678527443015.\n"
     ]
    },
    {
     "name": "stdout",
     "output_type": "stream",
     "text": [
      "[LightGBM] [Warning] Categorical features with more bins than the configured maximum bin number found.\n",
      "[LightGBM] [Warning] For categorical features, max_bin and max_bin_by_feature may be ignored with a large number of categories.\n"
     ]
    },
    {
     "name": "stderr",
     "output_type": "stream",
     "text": [
      "[I 2024-05-18 22:53:09,856] Trial 3 finished with value: 0.7398861930572377 and parameters: {'learning_rate': 0.02, 'n_estimators': 38, 'num_leaves': 14, 'max_depth': 95}. Best is trial 0 with value: 0.7663678527443015.\n"
     ]
    },
    {
     "name": "stdout",
     "output_type": "stream",
     "text": [
      "[LightGBM] [Warning] Categorical features with more bins than the configured maximum bin number found.\n",
      "[LightGBM] [Warning] For categorical features, max_bin and max_bin_by_feature may be ignored with a large number of categories.\n"
     ]
    },
    {
     "name": "stderr",
     "output_type": "stream",
     "text": [
      "[I 2024-05-18 22:53:31,021] Trial 4 finished with value: 0.7484319900008378 and parameters: {'learning_rate': 0.03, 'n_estimators': 30, 'num_leaves': 22, 'max_depth': 35}. Best is trial 0 with value: 0.7663678527443015.\n"
     ]
    },
    {
     "name": "stdout",
     "output_type": "stream",
     "text": [
      "[LightGBM] [Warning] Categorical features with more bins than the configured maximum bin number found.\n",
      "[LightGBM] [Warning] For categorical features, max_bin and max_bin_by_feature may be ignored with a large number of categories.\n"
     ]
    },
    {
     "name": "stderr",
     "output_type": "stream",
     "text": [
      "[I 2024-05-18 22:53:49,306] Trial 5 finished with value: 0.7594006362614814 and parameters: {'learning_rate': 0.08, 'n_estimators': 26, 'num_leaves': 18, 'max_depth': 85}. Best is trial 0 with value: 0.7663678527443015.\n"
     ]
    },
    {
     "name": "stdout",
     "output_type": "stream",
     "text": [
      "[LightGBM] [Warning] Categorical features with more bins than the configured maximum bin number found.\n",
      "[LightGBM] [Warning] For categorical features, max_bin and max_bin_by_feature may be ignored with a large number of categories.\n"
     ]
    },
    {
     "name": "stderr",
     "output_type": "stream",
     "text": [
      "[I 2024-05-18 22:54:18,752] Trial 6 finished with value: 0.7438802516311191 and parameters: {'learning_rate': 0.01, 'n_estimators': 46, 'num_leaves': 22, 'max_depth': 40}. Best is trial 0 with value: 0.7663678527443015.\n"
     ]
    },
    {
     "name": "stdout",
     "output_type": "stream",
     "text": [
      "[LightGBM] [Warning] Categorical features with more bins than the configured maximum bin number found.\n",
      "[LightGBM] [Warning] For categorical features, max_bin and max_bin_by_feature may be ignored with a large number of categories.\n"
     ]
    },
    {
     "name": "stderr",
     "output_type": "stream",
     "text": [
      "[I 2024-05-18 22:54:39,679] Trial 7 finished with value: 0.7646619103141881 and parameters: {'learning_rate': 0.06999999999999999, 'n_estimators': 28, 'num_leaves': 26, 'max_depth': 45}. Best is trial 0 with value: 0.7663678527443015.\n"
     ]
    },
    {
     "name": "stdout",
     "output_type": "stream",
     "text": [
      "[LightGBM] [Warning] Categorical features with more bins than the configured maximum bin number found.\n",
      "[LightGBM] [Warning] For categorical features, max_bin and max_bin_by_feature may be ignored with a large number of categories.\n"
     ]
    },
    {
     "name": "stderr",
     "output_type": "stream",
     "text": [
      "[I 2024-05-18 22:55:07,914] Trial 8 finished with value: 0.7692239318460017 and parameters: {'learning_rate': 0.06999999999999999, 'n_estimators': 46, 'num_leaves': 18, 'max_depth': 70}. Best is trial 8 with value: 0.7692239318460017.\n"
     ]
    },
    {
     "name": "stdout",
     "output_type": "stream",
     "text": [
      "[LightGBM] [Warning] Categorical features with more bins than the configured maximum bin number found.\n",
      "[LightGBM] [Warning] For categorical features, max_bin and max_bin_by_feature may be ignored with a large number of categories.\n"
     ]
    },
    {
     "name": "stderr",
     "output_type": "stream",
     "text": [
      "[I 2024-05-18 22:55:23,599] Trial 9 finished with value: 0.7574389688686562 and parameters: {'learning_rate': 0.08, 'n_estimators': 18, 'num_leaves': 24, 'max_depth': 10}. Best is trial 8 with value: 0.7692239318460017.\n"
     ]
    },
    {
     "name": "stdout",
     "output_type": "stream",
     "text": [
      "[LightGBM] [Warning] Categorical features with more bins than the configured maximum bin number found.\n",
      "[LightGBM] [Warning] For categorical features, max_bin and max_bin_by_feature may be ignored with a large number of categories.\n"
     ]
    },
    {
     "name": "stderr",
     "output_type": "stream",
     "text": [
      "[I 2024-05-18 22:55:49,579] Trial 10 finished with value: 0.7516933622375954 and parameters: {'learning_rate': 0.060000000000000005, 'n_estimators': 48, 'num_leaves': 10, 'max_depth': 70}. Best is trial 8 with value: 0.7692239318460017.\n"
     ]
    },
    {
     "name": "stdout",
     "output_type": "stream",
     "text": [
      "[LightGBM] [Warning] Categorical features with more bins than the configured maximum bin number found.\n",
      "[LightGBM] [Warning] For categorical features, max_bin and max_bin_by_feature may be ignored with a large number of categories.\n"
     ]
    },
    {
     "name": "stderr",
     "output_type": "stream",
     "text": [
      "[I 2024-05-18 22:56:16,450] Trial 11 finished with value: 0.7676717359044731 and parameters: {'learning_rate': 0.05, 'n_estimators': 40, 'num_leaves': 30, 'max_depth': 80}. Best is trial 8 with value: 0.7692239318460017.\n"
     ]
    },
    {
     "name": "stdout",
     "output_type": "stream",
     "text": [
      "[LightGBM] [Warning] Categorical features with more bins than the configured maximum bin number found.\n",
      "[LightGBM] [Warning] For categorical features, max_bin and max_bin_by_feature may be ignored with a large number of categories.\n"
     ]
    },
    {
     "name": "stderr",
     "output_type": "stream",
     "text": [
      "[I 2024-05-18 22:56:46,176] Trial 12 finished with value: 0.7582965926451044 and parameters: {'learning_rate': 0.05, 'n_estimators': 50, 'num_leaves': 16, 'max_depth': 70}. Best is trial 8 with value: 0.7692239318460017.\n"
     ]
    },
    {
     "name": "stdout",
     "output_type": "stream",
     "text": [
      "[LightGBM] [Warning] Categorical features with more bins than the configured maximum bin number found.\n",
      "[LightGBM] [Warning] For categorical features, max_bin and max_bin_by_feature may be ignored with a large number of categories.\n"
     ]
    },
    {
     "name": "stderr",
     "output_type": "stream",
     "text": [
      "[I 2024-05-18 22:57:11,397] Trial 13 finished with value: 0.7686532419325557 and parameters: {'learning_rate': 0.060000000000000005, 'n_estimators': 36, 'num_leaves': 30, 'max_depth': 100}. Best is trial 8 with value: 0.7692239318460017.\n"
     ]
    },
    {
     "name": "stdout",
     "output_type": "stream",
     "text": [
      "[LightGBM] [Warning] Categorical features with more bins than the configured maximum bin number found.\n",
      "[LightGBM] [Warning] For categorical features, max_bin and max_bin_by_feature may be ignored with a large number of categories.\n"
     ]
    },
    {
     "name": "stderr",
     "output_type": "stream",
     "text": [
      "[I 2024-05-18 22:57:32,629] Trial 14 finished with value: 0.7535795212346844 and parameters: {'learning_rate': 0.06999999999999999, 'n_estimators': 34, 'num_leaves': 12, 'max_depth': 100}. Best is trial 8 with value: 0.7692239318460017.\n"
     ]
    },
    {
     "name": "stdout",
     "output_type": "stream",
     "text": [
      "[LightGBM] [Warning] Categorical features with more bins than the configured maximum bin number found.\n",
      "[LightGBM] [Warning] For categorical features, max_bin and max_bin_by_feature may be ignored with a large number of categories.\n"
     ]
    },
    {
     "name": "stderr",
     "output_type": "stream",
     "text": [
      "[I 2024-05-18 22:57:46,666] Trial 15 finished with value: 0.7501214324573073 and parameters: {'learning_rate': 0.060000000000000005, 'n_estimators': 12, 'num_leaves': 30, 'max_depth': 0}. Best is trial 8 with value: 0.7692239318460017.\n"
     ]
    },
    {
     "name": "stdout",
     "output_type": "stream",
     "text": [
      "[LightGBM] [Warning] Categorical features with more bins than the configured maximum bin number found.\n",
      "[LightGBM] [Warning] For categorical features, max_bin and max_bin_by_feature may be ignored with a large number of categories.\n"
     ]
    },
    {
     "name": "stderr",
     "output_type": "stream",
     "text": [
      "[I 2024-05-18 22:58:08,657] Trial 16 finished with value: 0.7606848337091442 and parameters: {'learning_rate': 0.06999999999999999, 'n_estimators': 34, 'num_leaves': 16, 'max_depth': 100}. Best is trial 8 with value: 0.7692239318460017.\n"
     ]
    },
    {
     "name": "stdout",
     "output_type": "stream",
     "text": [
      "[LightGBM] [Warning] Categorical features with more bins than the configured maximum bin number found.\n",
      "[LightGBM] [Warning] For categorical features, max_bin and max_bin_by_feature may be ignored with a large number of categories.\n"
     ]
    },
    {
     "name": "stderr",
     "output_type": "stream",
     "text": [
      "[I 2024-05-18 22:58:37,897] Trial 17 finished with value: 0.761075204991165 and parameters: {'learning_rate': 0.04, 'n_estimators': 44, 'num_leaves': 26, 'max_depth': 25}. Best is trial 8 with value: 0.7692239318460017.\n"
     ]
    },
    {
     "name": "stdout",
     "output_type": "stream",
     "text": [
      "[LightGBM] [Warning] Categorical features with more bins than the configured maximum bin number found.\n",
      "[LightGBM] [Warning] For categorical features, max_bin and max_bin_by_feature may be ignored with a large number of categories.\n"
     ]
    },
    {
     "name": "stderr",
     "output_type": "stream",
     "text": [
      "[I 2024-05-18 22:59:00,003] Trial 18 finished with value: 0.7607310987730566 and parameters: {'learning_rate': 0.060000000000000005, 'n_estimators': 34, 'num_leaves': 18, 'max_depth': 60}. Best is trial 8 with value: 0.7692239318460017.\n"
     ]
    },
    {
     "name": "stdout",
     "output_type": "stream",
     "text": [
      "[LightGBM] [Warning] Categorical features with more bins than the configured maximum bin number found.\n",
      "[LightGBM] [Warning] For categorical features, max_bin and max_bin_by_feature may be ignored with a large number of categories.\n"
     ]
    },
    {
     "name": "stderr",
     "output_type": "stream",
     "text": [
      "[I 2024-05-18 22:59:18,076] Trial 19 finished with value: 0.7646898405749626 and parameters: {'learning_rate': 0.08, 'n_estimators': 24, 'num_leaves': 24, 'max_depth': 75}. Best is trial 8 with value: 0.7692239318460017.\n"
     ]
    },
    {
     "name": "stdout",
     "output_type": "stream",
     "text": [
      "[LightGBM] [Warning] Categorical features with more bins than the configured maximum bin number found.\n",
      "[LightGBM] [Warning] For categorical features, max_bin and max_bin_by_feature may be ignored with a large number of categories.\n"
     ]
    },
    {
     "name": "stderr",
     "output_type": "stream",
     "text": [
      "[I 2024-05-18 22:59:46,778] Trial 20 finished with value: 0.751357697000379 and parameters: {'learning_rate': 0.04, 'n_estimators': 50, 'num_leaves': 14, 'max_depth': 90}. Best is trial 8 with value: 0.7692239318460017.\n"
     ]
    },
    {
     "name": "stdout",
     "output_type": "stream",
     "text": [
      "[LightGBM] [Warning] Categorical features with more bins than the configured maximum bin number found.\n",
      "[LightGBM] [Warning] For categorical features, max_bin and max_bin_by_feature may be ignored with a large number of categories.\n"
     ]
    },
    {
     "name": "stderr",
     "output_type": "stream",
     "text": [
      "[I 2024-05-18 23:00:12,599] Trial 21 finished with value: 0.7666305827565705 and parameters: {'learning_rate': 0.05, 'n_estimators': 38, 'num_leaves': 30, 'max_depth': 80}. Best is trial 8 with value: 0.7692239318460017.\n"
     ]
    },
    {
     "name": "stdout",
     "output_type": "stream",
     "text": [
      "[LightGBM] [Warning] Categorical features with more bins than the configured maximum bin number found.\n",
      "[LightGBM] [Warning] For categorical features, max_bin and max_bin_by_feature may be ignored with a large number of categories.\n"
     ]
    },
    {
     "name": "stderr",
     "output_type": "stream",
     "text": [
      "[I 2024-05-18 23:00:41,590] Trial 22 finished with value: 0.7705638180409446 and parameters: {'learning_rate': 0.060000000000000005, 'n_estimators': 44, 'num_leaves': 28, 'max_depth': 60}. Best is trial 22 with value: 0.7705638180409446.\n"
     ]
    },
    {
     "name": "stdout",
     "output_type": "stream",
     "text": [
      "[LightGBM] [Warning] Categorical features with more bins than the configured maximum bin number found.\n",
      "[LightGBM] [Warning] For categorical features, max_bin and max_bin_by_feature may be ignored with a large number of categories.\n"
     ]
    },
    {
     "name": "stderr",
     "output_type": "stream",
     "text": [
      "[I 2024-05-18 23:01:10,409] Trial 23 finished with value: 0.7705638180409446 and parameters: {'learning_rate': 0.060000000000000005, 'n_estimators': 44, 'num_leaves': 28, 'max_depth': 60}. Best is trial 22 with value: 0.7705638180409446.\n"
     ]
    },
    {
     "name": "stdout",
     "output_type": "stream",
     "text": [
      "[LightGBM] [Warning] Categorical features with more bins than the configured maximum bin number found.\n",
      "[LightGBM] [Warning] For categorical features, max_bin and max_bin_by_feature may be ignored with a large number of categories.\n"
     ]
    },
    {
     "name": "stderr",
     "output_type": "stream",
     "text": [
      "[I 2024-05-18 23:01:39,564] Trial 24 finished with value: 0.7725076110853148 and parameters: {'learning_rate': 0.06999999999999999, 'n_estimators': 44, 'num_leaves': 26, 'max_depth': 60}. Best is trial 24 with value: 0.7725076110853148.\n"
     ]
    },
    {
     "name": "stdout",
     "output_type": "stream",
     "text": [
      "[LightGBM] [Warning] Categorical features with more bins than the configured maximum bin number found.\n",
      "[LightGBM] [Warning] For categorical features, max_bin and max_bin_by_feature may be ignored with a large number of categories.\n"
     ]
    },
    {
     "name": "stderr",
     "output_type": "stream",
     "text": [
      "[I 2024-05-18 23:02:08,165] Trial 25 finished with value: 0.7706254773672687 and parameters: {'learning_rate': 0.060000000000000005, 'n_estimators': 44, 'num_leaves': 26, 'max_depth': 60}. Best is trial 24 with value: 0.7725076110853148.\n"
     ]
    },
    {
     "name": "stdout",
     "output_type": "stream",
     "text": [
      "[LightGBM] [Warning] Categorical features with more bins than the configured maximum bin number found.\n",
      "[LightGBM] [Warning] For categorical features, max_bin and max_bin_by_feature may be ignored with a large number of categories.\n"
     ]
    },
    {
     "name": "stderr",
     "output_type": "stream",
     "text": [
      "[I 2024-05-18 23:02:37,277] Trial 26 finished with value: 0.7725076110853148 and parameters: {'learning_rate': 0.06999999999999999, 'n_estimators': 44, 'num_leaves': 26, 'max_depth': 50}. Best is trial 24 with value: 0.7725076110853148.\n"
     ]
    },
    {
     "name": "stdout",
     "output_type": "stream",
     "text": [
      "[LightGBM] [Warning] Categorical features with more bins than the configured maximum bin number found.\n",
      "[LightGBM] [Warning] For categorical features, max_bin and max_bin_by_feature may be ignored with a large number of categories.\n"
     ]
    },
    {
     "name": "stderr",
     "output_type": "stream",
     "text": [
      "[I 2024-05-18 23:03:08,024] Trial 27 finished with value: 0.7735310306913803 and parameters: {'learning_rate': 0.06999999999999999, 'n_estimators': 48, 'num_leaves': 24, 'max_depth': 30}. Best is trial 27 with value: 0.7735310306913803.\n"
     ]
    },
    {
     "name": "stdout",
     "output_type": "stream",
     "text": [
      "[LightGBM] [Warning] Categorical features with more bins than the configured maximum bin number found.\n",
      "[LightGBM] [Warning] For categorical features, max_bin and max_bin_by_feature may be ignored with a large number of categories.\n"
     ]
    },
    {
     "name": "stderr",
     "output_type": "stream",
     "text": [
      "[I 2024-05-18 23:03:39,461] Trial 28 finished with value: 0.7757972953967388 and parameters: {'learning_rate': 0.08, 'n_estimators': 50, 'num_leaves': 24, 'max_depth': 25}. Best is trial 28 with value: 0.7757972953967388.\n"
     ]
    },
    {
     "name": "stdout",
     "output_type": "stream",
     "text": [
      "[LightGBM] [Warning] Categorical features with more bins than the configured maximum bin number found.\n",
      "[LightGBM] [Warning] For categorical features, max_bin and max_bin_by_feature may be ignored with a large number of categories.\n"
     ]
    },
    {
     "name": "stderr",
     "output_type": "stream",
     "text": [
      "[I 2024-05-18 23:04:09,946] Trial 29 finished with value: 0.7759884221642642 and parameters: {'learning_rate': 0.08, 'n_estimators': 48, 'num_leaves': 24, 'max_depth': 25}. Best is trial 29 with value: 0.7759884221642642.\n"
     ]
    },
    {
     "name": "stdout",
     "output_type": "stream",
     "text": [
      "[LightGBM] [Warning] Categorical features with more bins than the configured maximum bin number found.\n",
      "[LightGBM] [Warning] For categorical features, max_bin and max_bin_by_feature may be ignored with a large number of categories.\n"
     ]
    },
    {
     "name": "stderr",
     "output_type": "stream",
     "text": [
      "[I 2024-05-18 23:04:40,945] Trial 30 finished with value: 0.7751099091799065 and parameters: {'learning_rate': 0.08, 'n_estimators': 50, 'num_leaves': 22, 'max_depth': 25}. Best is trial 29 with value: 0.7759884221642642.\n"
     ]
    },
    {
     "name": "stdout",
     "output_type": "stream",
     "text": [
      "[LightGBM] [Warning] Categorical features with more bins than the configured maximum bin number found.\n",
      "[LightGBM] [Warning] For categorical features, max_bin and max_bin_by_feature may be ignored with a large number of categories.\n"
     ]
    },
    {
     "name": "stderr",
     "output_type": "stream",
     "text": [
      "[I 2024-05-18 23:05:11,879] Trial 31 finished with value: 0.7751099091799065 and parameters: {'learning_rate': 0.08, 'n_estimators': 50, 'num_leaves': 22, 'max_depth': 25}. Best is trial 29 with value: 0.7759884221642642.\n"
     ]
    },
    {
     "name": "stdout",
     "output_type": "stream",
     "text": [
      "[LightGBM] [Warning] Categorical features with more bins than the configured maximum bin number found.\n",
      "[LightGBM] [Warning] For categorical features, max_bin and max_bin_by_feature may be ignored with a large number of categories.\n"
     ]
    },
    {
     "name": "stderr",
     "output_type": "stream",
     "text": [
      "[I 2024-05-18 23:05:43,245] Trial 32 finished with value: 0.7751099091799065 and parameters: {'learning_rate': 0.08, 'n_estimators': 50, 'num_leaves': 22, 'max_depth': 20}. Best is trial 29 with value: 0.7759884221642642.\n"
     ]
    },
    {
     "name": "stdout",
     "output_type": "stream",
     "text": [
      "[LightGBM] [Warning] Categorical features with more bins than the configured maximum bin number found.\n",
      "[LightGBM] [Warning] For categorical features, max_bin and max_bin_by_feature may be ignored with a large number of categories.\n"
     ]
    },
    {
     "name": "stderr",
     "output_type": "stream",
     "text": [
      "[I 2024-05-18 23:06:13,467] Trial 33 finished with value: 0.775362432402765 and parameters: {'learning_rate': 0.08, 'n_estimators': 48, 'num_leaves': 22, 'max_depth': 15}. Best is trial 29 with value: 0.7759884221642642.\n"
     ]
    },
    {
     "name": "stdout",
     "output_type": "stream",
     "text": [
      "[LightGBM] [Warning] Categorical features with more bins than the configured maximum bin number found.\n",
      "[LightGBM] [Warning] For categorical features, max_bin and max_bin_by_feature may be ignored with a large number of categories.\n"
     ]
    },
    {
     "name": "stderr",
     "output_type": "stream",
     "text": [
      "[I 2024-05-18 23:06:38,490] Trial 34 finished with value: 0.771838344261536 and parameters: {'learning_rate': 0.08, 'n_estimators': 40, 'num_leaves': 20, 'max_depth': 15}. Best is trial 29 with value: 0.7759884221642642.\n"
     ]
    },
    {
     "name": "stdout",
     "output_type": "stream",
     "text": [
      "[LightGBM] [Warning] Categorical features with more bins than the configured maximum bin number found.\n",
      "[LightGBM] [Warning] For categorical features, max_bin and max_bin_by_feature may be ignored with a large number of categories.\n"
     ]
    },
    {
     "name": "stderr",
     "output_type": "stream",
     "text": [
      "[I 2024-05-18 23:07:08,116] Trial 35 finished with value: 0.774938365718118 and parameters: {'learning_rate': 0.08, 'n_estimators': 48, 'num_leaves': 20, 'max_depth': 0}. Best is trial 29 with value: 0.7759884221642642.\n"
     ]
    },
    {
     "name": "stdout",
     "output_type": "stream",
     "text": [
      "[LightGBM] [Warning] Categorical features with more bins than the configured maximum bin number found.\n",
      "[LightGBM] [Warning] For categorical features, max_bin and max_bin_by_feature may be ignored with a large number of categories.\n"
     ]
    },
    {
     "name": "stderr",
     "output_type": "stream",
     "text": [
      "[I 2024-05-18 23:07:33,973] Trial 36 finished with value: 0.773222032247683 and parameters: {'learning_rate': 0.08, 'n_estimators': 40, 'num_leaves': 24, 'max_depth': 10}. Best is trial 29 with value: 0.7759884221642642.\n"
     ]
    },
    {
     "name": "stdout",
     "output_type": "stream",
     "text": [
      "[LightGBM] [Warning] Categorical features with more bins than the configured maximum bin number found.\n",
      "[LightGBM] [Warning] For categorical features, max_bin and max_bin_by_feature may be ignored with a large number of categories.\n"
     ]
    },
    {
     "name": "stderr",
     "output_type": "stream",
     "text": [
      "[I 2024-05-18 23:08:02,651] Trial 37 finished with value: 0.7747893294330702 and parameters: {'learning_rate': 0.08, 'n_estimators': 46, 'num_leaves': 22, 'max_depth': 35}. Best is trial 29 with value: 0.7759884221642642.\n"
     ]
    },
    {
     "name": "stdout",
     "output_type": "stream",
     "text": [
      "[LightGBM] [Warning] Categorical features with more bins than the configured maximum bin number found.\n",
      "[LightGBM] [Warning] For categorical features, max_bin and max_bin_by_feature may be ignored with a large number of categories.\n"
     ]
    },
    {
     "name": "stderr",
     "output_type": "stream",
     "text": [
      "[I 2024-05-18 23:08:32,298] Trial 38 finished with value: 0.7457338139116796 and parameters: {'learning_rate': 0.02, 'n_estimators': 48, 'num_leaves': 20, 'max_depth': 10}. Best is trial 29 with value: 0.7759884221642642.\n"
     ]
    },
    {
     "name": "stdout",
     "output_type": "stream",
     "text": [
      "[LightGBM] [Warning] Categorical features with more bins than the configured maximum bin number found.\n",
      "[LightGBM] [Warning] For categorical features, max_bin and max_bin_by_feature may be ignored with a large number of categories.\n"
     ]
    },
    {
     "name": "stderr",
     "output_type": "stream",
     "text": [
      "[I 2024-05-18 23:09:01,348] Trial 39 finished with value: 0.7721573436828499 and parameters: {'learning_rate': 0.06999999999999999, 'n_estimators': 46, 'num_leaves': 22, 'max_depth': 20}. Best is trial 29 with value: 0.7759884221642642.\n"
     ]
    },
    {
     "name": "stdout",
     "output_type": "stream",
     "text": [
      "[LightGBM] [Warning] Categorical features with more bins than the configured maximum bin number found.\n",
      "[LightGBM] [Warning] For categorical features, max_bin and max_bin_by_feature may be ignored with a large number of categories.\n"
     ]
    },
    {
     "name": "stderr",
     "output_type": "stream",
     "text": [
      "[I 2024-05-18 23:09:28,288] Trial 40 finished with value: 0.7735560272945663 and parameters: {'learning_rate': 0.08, 'n_estimators': 42, 'num_leaves': 24, 'max_depth': 35}. Best is trial 29 with value: 0.7759884221642642.\n"
     ]
    },
    {
     "name": "stdout",
     "output_type": "stream",
     "text": [
      "[LightGBM] [Warning] Categorical features with more bins than the configured maximum bin number found.\n",
      "[LightGBM] [Warning] For categorical features, max_bin and max_bin_by_feature may be ignored with a large number of categories.\n"
     ]
    },
    {
     "name": "stderr",
     "output_type": "stream",
     "text": [
      "[I 2024-05-18 23:10:00,243] Trial 41 finished with value: 0.7751099091799065 and parameters: {'learning_rate': 0.08, 'n_estimators': 50, 'num_leaves': 22, 'max_depth': 25}. Best is trial 29 with value: 0.7759884221642642.\n"
     ]
    },
    {
     "name": "stdout",
     "output_type": "stream",
     "text": [
      "[LightGBM] [Warning] Categorical features with more bins than the configured maximum bin number found.\n",
      "[LightGBM] [Warning] For categorical features, max_bin and max_bin_by_feature may be ignored with a large number of categories.\n"
     ]
    },
    {
     "name": "stderr",
     "output_type": "stream",
     "text": [
      "[I 2024-05-18 23:10:31,667] Trial 42 finished with value: 0.7751099091799065 and parameters: {'learning_rate': 0.08, 'n_estimators': 50, 'num_leaves': 22, 'max_depth': 25}. Best is trial 29 with value: 0.7759884221642642.\n"
     ]
    },
    {
     "name": "stdout",
     "output_type": "stream",
     "text": [
      "[LightGBM] [Warning] Categorical features with more bins than the configured maximum bin number found.\n",
      "[LightGBM] [Warning] For categorical features, max_bin and max_bin_by_feature may be ignored with a large number of categories.\n"
     ]
    },
    {
     "name": "stderr",
     "output_type": "stream",
     "text": [
      "[I 2024-05-18 23:11:01,007] Trial 43 finished with value: 0.771558466835073 and parameters: {'learning_rate': 0.06999999999999999, 'n_estimators': 48, 'num_leaves': 20, 'max_depth': 40}. Best is trial 29 with value: 0.7759884221642642.\n"
     ]
    },
    {
     "name": "stdout",
     "output_type": "stream",
     "text": [
      "[LightGBM] [Warning] Categorical features with more bins than the configured maximum bin number found.\n",
      "[LightGBM] [Warning] For categorical features, max_bin and max_bin_by_feature may be ignored with a large number of categories.\n"
     ]
    },
    {
     "name": "stderr",
     "output_type": "stream",
     "text": [
      "[I 2024-05-18 23:11:31,468] Trial 44 finished with value: 0.7759884221642642 and parameters: {'learning_rate': 0.08, 'n_estimators': 48, 'num_leaves': 24, 'max_depth': 15}. Best is trial 29 with value: 0.7759884221642642.\n"
     ]
    },
    {
     "name": "stdout",
     "output_type": "stream",
     "text": [
      "[LightGBM] [Warning] Categorical features with more bins than the configured maximum bin number found.\n",
      "[LightGBM] [Warning] For categorical features, max_bin and max_bin_by_feature may be ignored with a large number of categories.\n"
     ]
    },
    {
     "name": "stderr",
     "output_type": "stream",
     "text": [
      "[I 2024-05-18 23:11:57,057] Trial 45 finished with value: 0.7493180816901476 and parameters: {'learning_rate': 0.06999999999999999, 'n_estimators': 42, 'num_leaves': 24, 'max_depth': 5}. Best is trial 29 with value: 0.7759884221642642.\n"
     ]
    },
    {
     "name": "stdout",
     "output_type": "stream",
     "text": [
      "[LightGBM] [Warning] Categorical features with more bins than the configured maximum bin number found.\n",
      "[LightGBM] [Warning] For categorical features, max_bin and max_bin_by_feature may be ignored with a large number of categories.\n"
     ]
    },
    {
     "name": "stderr",
     "output_type": "stream",
     "text": [
      "[I 2024-05-18 23:12:26,976] Trial 46 finished with value: 0.7758620523575267 and parameters: {'learning_rate': 0.08, 'n_estimators': 46, 'num_leaves': 26, 'max_depth': 15}. Best is trial 29 with value: 0.7759884221642642.\n"
     ]
    },
    {
     "name": "stdout",
     "output_type": "stream",
     "text": [
      "[LightGBM] [Warning] Categorical features with more bins than the configured maximum bin number found.\n",
      "[LightGBM] [Warning] For categorical features, max_bin and max_bin_by_feature may be ignored with a large number of categories.\n"
     ]
    },
    {
     "name": "stderr",
     "output_type": "stream",
     "text": [
      "[I 2024-05-18 23:12:57,027] Trial 47 finished with value: 0.7736599072454057 and parameters: {'learning_rate': 0.06999999999999999, 'n_estimators': 46, 'num_leaves': 28, 'max_depth': 10}. Best is trial 29 with value: 0.7759884221642642.\n"
     ]
    },
    {
     "name": "stdout",
     "output_type": "stream",
     "text": [
      "[LightGBM] [Warning] Categorical features with more bins than the configured maximum bin number found.\n",
      "[LightGBM] [Warning] For categorical features, max_bin and max_bin_by_feature may be ignored with a large number of categories.\n"
     ]
    },
    {
     "name": "stderr",
     "output_type": "stream",
     "text": [
      "[I 2024-05-18 23:13:18,368] Trial 48 finished with value: 0.770035806924902 and parameters: {'learning_rate': 0.08, 'n_estimators': 30, 'num_leaves': 26, 'max_depth': 15}. Best is trial 29 with value: 0.7759884221642642.\n"
     ]
    },
    {
     "name": "stdout",
     "output_type": "stream",
     "text": [
      "[LightGBM] [Warning] Categorical features with more bins than the configured maximum bin number found.\n",
      "[LightGBM] [Warning] For categorical features, max_bin and max_bin_by_feature may be ignored with a large number of categories.\n"
     ]
    },
    {
     "name": "stderr",
     "output_type": "stream",
     "text": [
      "[I 2024-05-18 23:13:47,766] Trial 49 finished with value: 0.7550820838336737 and parameters: {'learning_rate': 0.03, 'n_estimators': 46, 'num_leaves': 24, 'max_depth': 15}. Best is trial 29 with value: 0.7759884221642642.\n"
     ]
    },
    {
     "name": "stdout",
     "output_type": "stream",
     "text": [
      "[LightGBM] [Warning] Categorical features with more bins than the configured maximum bin number found.\n",
      "[LightGBM] [Warning] For categorical features, max_bin and max_bin_by_feature may be ignored with a large number of categories.\n",
      "[LightGBM] [Warning] No further splits with positive gain, best gain: -inf\n",
      "[LightGBM] [Warning] No further splits with positive gain, best gain: -inf\n",
      "[LightGBM] [Warning] No further splits with positive gain, best gain: -inf\n",
      "[LightGBM] [Warning] No further splits with positive gain, best gain: -inf\n",
      "[LightGBM] [Warning] No further splits with positive gain, best gain: -inf\n",
      "[LightGBM] [Warning] No further splits with positive gain, best gain: -inf\n",
      "[LightGBM] [Warning] No further splits with positive gain, best gain: -inf\n",
      "[LightGBM] [Warning] No further splits with positive gain, best gain: -inf\n",
      "[LightGBM] [Warning] No further splits with positive gain, best gain: -inf\n",
      "[LightGBM] [Warning] No further splits with positive gain, best gain: -inf\n",
      "[LightGBM] [Warning] No further splits with positive gain, best gain: -inf\n",
      "[LightGBM] [Warning] No further splits with positive gain, best gain: -inf\n",
      "[LightGBM] [Warning] No further splits with positive gain, best gain: -inf\n",
      "[LightGBM] [Warning] No further splits with positive gain, best gain: -inf\n",
      "[LightGBM] [Warning] No further splits with positive gain, best gain: -inf\n",
      "[LightGBM] [Warning] No further splits with positive gain, best gain: -inf\n",
      "[LightGBM] [Warning] No further splits with positive gain, best gain: -inf\n",
      "[LightGBM] [Warning] No further splits with positive gain, best gain: -inf\n",
      "[LightGBM] [Warning] No further splits with positive gain, best gain: -inf\n",
      "[LightGBM] [Warning] No further splits with positive gain, best gain: -inf\n",
      "[LightGBM] [Warning] No further splits with positive gain, best gain: -inf\n"
     ]
    },
    {
     "name": "stderr",
     "output_type": "stream",
     "text": [
      "[I 2024-05-18 23:14:04,272] Trial 50 finished with value: 0.7379069832859559 and parameters: {'learning_rate': 0.06999999999999999, 'n_estimators': 22, 'num_leaves': 28, 'max_depth': 5}. Best is trial 29 with value: 0.7759884221642642.\n"
     ]
    },
    {
     "name": "stdout",
     "output_type": "stream",
     "text": [
      "[LightGBM] [Warning] No further splits with positive gain, best gain: -inf\n",
      "[LightGBM] [Warning] Categorical features with more bins than the configured maximum bin number found.\n",
      "[LightGBM] [Warning] For categorical features, max_bin and max_bin_by_feature may be ignored with a large number of categories.\n"
     ]
    },
    {
     "name": "stderr",
     "output_type": "stream",
     "text": [
      "[I 2024-05-18 23:14:35,099] Trial 51 finished with value: 0.7768649829574892 and parameters: {'learning_rate': 0.08, 'n_estimators': 48, 'num_leaves': 26, 'max_depth': 20}. Best is trial 51 with value: 0.7768649829574892.\n"
     ]
    },
    {
     "name": "stdout",
     "output_type": "stream",
     "text": [
      "[LightGBM] [Warning] Categorical features with more bins than the configured maximum bin number found.\n",
      "[LightGBM] [Warning] For categorical features, max_bin and max_bin_by_feature may be ignored with a large number of categories.\n"
     ]
    },
    {
     "name": "stderr",
     "output_type": "stream",
     "text": [
      "[I 2024-05-18 23:15:05,128] Trial 52 finished with value: 0.7759884221642642 and parameters: {'learning_rate': 0.08, 'n_estimators': 48, 'num_leaves': 24, 'max_depth': 20}. Best is trial 51 with value: 0.7768649829574892.\n"
     ]
    },
    {
     "name": "stdout",
     "output_type": "stream",
     "text": [
      "[LightGBM] [Warning] Categorical features with more bins than the configured maximum bin number found.\n",
      "[LightGBM] [Warning] For categorical features, max_bin and max_bin_by_feature may be ignored with a large number of categories.\n"
     ]
    },
    {
     "name": "stderr",
     "output_type": "stream",
     "text": [
      "[I 2024-05-18 23:15:35,253] Trial 53 finished with value: 0.7758620523575267 and parameters: {'learning_rate': 0.08, 'n_estimators': 46, 'num_leaves': 26, 'max_depth': 30}. Best is trial 51 with value: 0.7768649829574892.\n"
     ]
    },
    {
     "name": "stdout",
     "output_type": "stream",
     "text": [
      "[LightGBM] [Warning] Categorical features with more bins than the configured maximum bin number found.\n",
      "[LightGBM] [Warning] For categorical features, max_bin and max_bin_by_feature may be ignored with a large number of categories.\n"
     ]
    },
    {
     "name": "stderr",
     "output_type": "stream",
     "text": [
      "[I 2024-05-18 23:16:02,916] Trial 54 finished with value: 0.772344164200821 and parameters: {'learning_rate': 0.06999999999999999, 'n_estimators': 42, 'num_leaves': 26, 'max_depth': 30}. Best is trial 51 with value: 0.7768649829574892.\n"
     ]
    },
    {
     "name": "stdout",
     "output_type": "stream",
     "text": [
      "[LightGBM] [Warning] Categorical features with more bins than the configured maximum bin number found.\n",
      "[LightGBM] [Warning] For categorical features, max_bin and max_bin_by_feature may be ignored with a large number of categories.\n"
     ]
    },
    {
     "name": "stderr",
     "output_type": "stream",
     "text": [
      "[I 2024-05-18 23:16:33,083] Trial 55 finished with value: 0.7758620523575267 and parameters: {'learning_rate': 0.08, 'n_estimators': 46, 'num_leaves': 26, 'max_depth': 20}. Best is trial 51 with value: 0.7768649829574892.\n"
     ]
    },
    {
     "name": "stdout",
     "output_type": "stream",
     "text": [
      "[LightGBM] [Warning] Categorical features with more bins than the configured maximum bin number found.\n",
      "[LightGBM] [Warning] For categorical features, max_bin and max_bin_by_feature may be ignored with a large number of categories.\n"
     ]
    },
    {
     "name": "stderr",
     "output_type": "stream",
     "text": [
      "[I 2024-05-18 23:16:59,780] Trial 56 finished with value: 0.7746564350117225 and parameters: {'learning_rate': 0.08, 'n_estimators': 40, 'num_leaves': 28, 'max_depth': 40}. Best is trial 51 with value: 0.7768649829574892.\n"
     ]
    },
    {
     "name": "stdout",
     "output_type": "stream",
     "text": [
      "[LightGBM] [Warning] Categorical features with more bins than the configured maximum bin number found.\n",
      "[LightGBM] [Warning] For categorical features, max_bin and max_bin_by_feature may be ignored with a large number of categories.\n"
     ]
    },
    {
     "name": "stderr",
     "output_type": "stream",
     "text": [
      "[I 2024-05-18 23:17:13,690] Trial 57 finished with value: 0.740748716309665 and parameters: {'learning_rate': 0.01, 'n_estimators': 12, 'num_leaves': 26, 'max_depth': 30}. Best is trial 51 with value: 0.7768649829574892.\n"
     ]
    },
    {
     "name": "stdout",
     "output_type": "stream",
     "text": [
      "[LightGBM] [Warning] Categorical features with more bins than the configured maximum bin number found.\n",
      "[LightGBM] [Warning] For categorical features, max_bin and max_bin_by_feature may be ignored with a large number of categories.\n",
      "[LightGBM] [Warning] No further splits with positive gain, best gain: -inf\n",
      "[LightGBM] [Warning] No further splits with positive gain, best gain: -inf\n",
      "[LightGBM] [Warning] No further splits with positive gain, best gain: -inf\n",
      "[LightGBM] [Warning] No further splits with positive gain, best gain: -inf\n",
      "[LightGBM] [Warning] No further splits with positive gain, best gain: -inf\n",
      "[LightGBM] [Warning] No further splits with positive gain, best gain: -inf\n",
      "[LightGBM] [Warning] No further splits with positive gain, best gain: -inf\n",
      "[LightGBM] [Warning] No further splits with positive gain, best gain: -inf\n",
      "[LightGBM] [Warning] No further splits with positive gain, best gain: -inf\n",
      "[LightGBM] [Warning] No further splits with positive gain, best gain: -inf\n",
      "[LightGBM] [Warning] No further splits with positive gain, best gain: -inf\n",
      "[LightGBM] [Warning] No further splits with positive gain, best gain: -inf\n",
      "[LightGBM] [Warning] No further splits with positive gain, best gain: -inf\n",
      "[LightGBM] [Warning] No further splits with positive gain, best gain: -inf\n",
      "[LightGBM] [Warning] No further splits with positive gain, best gain: -inf\n",
      "[LightGBM] [Warning] No further splits with positive gain, best gain: -inf\n",
      "[LightGBM] [Warning] No further splits with positive gain, best gain: -inf\n",
      "[LightGBM] [Warning] No further splits with positive gain, best gain: -inf\n",
      "[LightGBM] [Warning] No further splits with positive gain, best gain: -inf\n",
      "[LightGBM] [Warning] No further splits with positive gain, best gain: -inf\n",
      "[LightGBM] [Warning] No further splits with positive gain, best gain: -inf\n",
      "[LightGBM] [Warning] No further splits with positive gain, best gain: -inf\n",
      "[LightGBM] [Warning] No further splits with positive gain, best gain: -inf\n",
      "[LightGBM] [Warning] No further splits with positive gain, best gain: -inf\n",
      "[LightGBM] [Warning] No further splits with positive gain, best gain: -inf\n",
      "[LightGBM] [Warning] No further splits with positive gain, best gain: -inf\n",
      "[LightGBM] [Warning] No further splits with positive gain, best gain: -inf\n",
      "[LightGBM] [Warning] No further splits with positive gain, best gain: -inf\n",
      "[LightGBM] [Warning] No further splits with positive gain, best gain: -inf\n",
      "[LightGBM] [Warning] No further splits with positive gain, best gain: -inf\n",
      "[LightGBM] [Warning] No further splits with positive gain, best gain: -inf\n",
      "[LightGBM] [Warning] No further splits with positive gain, best gain: -inf\n",
      "[LightGBM] [Warning] No further splits with positive gain, best gain: -inf\n",
      "[LightGBM] [Warning] No further splits with positive gain, best gain: -inf\n",
      "[LightGBM] [Warning] No further splits with positive gain, best gain: -inf\n",
      "[LightGBM] [Warning] No further splits with positive gain, best gain: -inf\n",
      "[LightGBM] [Warning] No further splits with positive gain, best gain: -inf\n",
      "[LightGBM] [Warning] No further splits with positive gain, best gain: -inf\n",
      "[LightGBM] [Warning] No further splits with positive gain, best gain: -inf\n",
      "[LightGBM] [Warning] No further splits with positive gain, best gain: -inf\n",
      "[LightGBM] [Warning] No further splits with positive gain, best gain: -inf\n",
      "[LightGBM] [Warning] No further splits with positive gain, best gain: -inf\n",
      "[LightGBM] [Warning] No further splits with positive gain, best gain: -inf\n",
      "[LightGBM] [Warning] No further splits with positive gain, best gain: -inf\n",
      "[LightGBM] [Warning] No further splits with positive gain, best gain: -inf\n"
     ]
    },
    {
     "name": "stderr",
     "output_type": "stream",
     "text": [
      "[I 2024-05-18 23:17:44,451] Trial 58 finished with value: 0.751928611544748 and parameters: {'learning_rate': 0.06999999999999999, 'n_estimators': 48, 'num_leaves': 30, 'max_depth': 5}. Best is trial 51 with value: 0.7768649829574892.\n"
     ]
    },
    {
     "name": "stdout",
     "output_type": "stream",
     "text": [
      "[LightGBM] [Warning] Categorical features with more bins than the configured maximum bin number found.\n",
      "[LightGBM] [Warning] For categorical features, max_bin and max_bin_by_feature may be ignored with a large number of categories.\n"
     ]
    },
    {
     "name": "stderr",
     "output_type": "stream",
     "text": [
      "[I 2024-05-18 23:18:15,826] Trial 59 finished with value: 0.7712388768877843 and parameters: {'learning_rate': 0.08, 'n_estimators': 36, 'num_leaves': 24, 'max_depth': 20}. Best is trial 51 with value: 0.7768649829574892.\n"
     ]
    },
    {
     "name": "stdout",
     "output_type": "stream",
     "text": [
      "[LightGBM] [Warning] Categorical features with more bins than the configured maximum bin number found.\n",
      "[LightGBM] [Warning] For categorical features, max_bin and max_bin_by_feature may be ignored with a large number of categories.\n"
     ]
    },
    {
     "name": "stderr",
     "output_type": "stream",
     "text": [
      "[I 2024-05-18 23:18:45,445] Trial 60 finished with value: 0.7714030608909108 and parameters: {'learning_rate': 0.06999999999999999, 'n_estimators': 38, 'num_leaves': 28, 'max_depth': 45}. Best is trial 51 with value: 0.7768649829574892.\n"
     ]
    },
    {
     "name": "stdout",
     "output_type": "stream",
     "text": [
      "[LightGBM] [Warning] Categorical features with more bins than the configured maximum bin number found.\n",
      "[LightGBM] [Warning] For categorical features, max_bin and max_bin_by_feature may be ignored with a large number of categories.\n"
     ]
    },
    {
     "name": "stderr",
     "output_type": "stream",
     "text": [
      "[I 2024-05-18 23:19:15,835] Trial 61 finished with value: 0.7758620523575267 and parameters: {'learning_rate': 0.08, 'n_estimators': 46, 'num_leaves': 26, 'max_depth': 20}. Best is trial 51 with value: 0.7768649829574892.\n"
     ]
    },
    {
     "name": "stdout",
     "output_type": "stream",
     "text": [
      "[LightGBM] [Warning] Categorical features with more bins than the configured maximum bin number found.\n",
      "[LightGBM] [Warning] For categorical features, max_bin and max_bin_by_feature may be ignored with a large number of categories.\n"
     ]
    },
    {
     "name": "stderr",
     "output_type": "stream",
     "text": [
      "[I 2024-05-18 23:19:45,630] Trial 62 finished with value: 0.7758620523575267 and parameters: {'learning_rate': 0.08, 'n_estimators': 46, 'num_leaves': 26, 'max_depth': 15}. Best is trial 51 with value: 0.7768649829574892.\n"
     ]
    },
    {
     "name": "stdout",
     "output_type": "stream",
     "text": [
      "[LightGBM] [Warning] Categorical features with more bins than the configured maximum bin number found.\n",
      "[LightGBM] [Warning] For categorical features, max_bin and max_bin_by_feature may be ignored with a large number of categories.\n"
     ]
    },
    {
     "name": "stderr",
     "output_type": "stream",
     "text": [
      "[I 2024-05-18 23:20:14,386] Trial 63 finished with value: 0.775206013117862 and parameters: {'learning_rate': 0.08, 'n_estimators': 44, 'num_leaves': 26, 'max_depth': 30}. Best is trial 51 with value: 0.7768649829574892.\n"
     ]
    },
    {
     "name": "stdout",
     "output_type": "stream",
     "text": [
      "[LightGBM] [Warning] Categorical features with more bins than the configured maximum bin number found.\n",
      "[LightGBM] [Warning] For categorical features, max_bin and max_bin_by_feature may be ignored with a large number of categories.\n"
     ]
    },
    {
     "name": "stderr",
     "output_type": "stream",
     "text": [
      "[I 2024-05-18 23:20:45,866] Trial 64 finished with value: 0.7752856973486779 and parameters: {'learning_rate': 0.06999999999999999, 'n_estimators': 48, 'num_leaves': 28, 'max_depth': 20}. Best is trial 51 with value: 0.7768649829574892.\n"
     ]
    },
    {
     "name": "stdout",
     "output_type": "stream",
     "text": [
      "[LightGBM] [Warning] Categorical features with more bins than the configured maximum bin number found.\n",
      "[LightGBM] [Warning] For categorical features, max_bin and max_bin_by_feature may be ignored with a large number of categories.\n"
     ]
    },
    {
     "name": "stderr",
     "output_type": "stream",
     "text": [
      "[I 2024-05-18 23:21:12,519] Trial 65 finished with value: 0.7735560272945663 and parameters: {'learning_rate': 0.08, 'n_estimators': 42, 'num_leaves': 24, 'max_depth': 35}. Best is trial 51 with value: 0.7768649829574892.\n"
     ]
    },
    {
     "name": "stdout",
     "output_type": "stream",
     "text": [
      "[LightGBM] [Warning] Categorical features with more bins than the configured maximum bin number found.\n",
      "[LightGBM] [Warning] For categorical features, max_bin and max_bin_by_feature may be ignored with a large number of categories.\n",
      "[LightGBM] [Warning] No further splits with positive gain, best gain: -inf\n",
      "[LightGBM] [Warning] No further splits with positive gain, best gain: -inf\n",
      "[LightGBM] [Warning] No further splits with positive gain, best gain: -inf\n",
      "[LightGBM] [Warning] No further splits with positive gain, best gain: -inf\n",
      "[LightGBM] [Warning] No further splits with positive gain, best gain: -inf\n",
      "[LightGBM] [Warning] No further splits with positive gain, best gain: -inf\n",
      "[LightGBM] [Warning] No further splits with positive gain, best gain: -inf\n",
      "[LightGBM] [Warning] No further splits with positive gain, best gain: -inf\n",
      "[LightGBM] [Warning] No further splits with positive gain, best gain: -inf\n",
      "[LightGBM] [Warning] No further splits with positive gain, best gain: -inf\n",
      "[LightGBM] [Warning] No further splits with positive gain, best gain: -inf\n",
      "[LightGBM] [Warning] No further splits with positive gain, best gain: -inf\n",
      "[LightGBM] [Warning] No further splits with positive gain, best gain: -inf\n",
      "[LightGBM] [Warning] No further splits with positive gain, best gain: -inf\n",
      "[LightGBM] [Warning] No further splits with positive gain, best gain: -inf\n"
     ]
    },
    {
     "name": "stderr",
     "output_type": "stream",
     "text": [
      "[I 2024-05-18 23:21:26,766] Trial 66 finished with value: 0.7345132632455056 and parameters: {'learning_rate': 0.08, 'n_estimators': 16, 'num_leaves': 28, 'max_depth': 5}. Best is trial 51 with value: 0.7768649829574892.\n"
     ]
    },
    {
     "name": "stdout",
     "output_type": "stream",
     "text": [
      "[LightGBM] [Warning] No further splits with positive gain, best gain: -inf\n",
      "[LightGBM] [Warning] Categorical features with more bins than the configured maximum bin number found.\n",
      "[LightGBM] [Warning] For categorical features, max_bin and max_bin_by_feature may be ignored with a large number of categories.\n"
     ]
    },
    {
     "name": "stderr",
     "output_type": "stream",
     "text": [
      "[I 2024-05-18 23:21:56,677] Trial 67 finished with value: 0.7755375808849737 and parameters: {'learning_rate': 0.08, 'n_estimators': 46, 'num_leaves': 26, 'max_depth': 10}. Best is trial 51 with value: 0.7768649829574892.\n"
     ]
    },
    {
     "name": "stdout",
     "output_type": "stream",
     "text": [
      "[LightGBM] [Warning] Categorical features with more bins than the configured maximum bin number found.\n",
      "[LightGBM] [Warning] For categorical features, max_bin and max_bin_by_feature may be ignored with a large number of categories.\n"
     ]
    },
    {
     "name": "stderr",
     "output_type": "stream",
     "text": [
      "[I 2024-05-18 23:22:25,441] Trial 68 finished with value: 0.7719249502008804 and parameters: {'learning_rate': 0.06999999999999999, 'n_estimators': 44, 'num_leaves': 24, 'max_depth': 20}. Best is trial 51 with value: 0.7768649829574892.\n"
     ]
    },
    {
     "name": "stdout",
     "output_type": "stream",
     "text": [
      "[LightGBM] [Warning] Categorical features with more bins than the configured maximum bin number found.\n",
      "[LightGBM] [Warning] For categorical features, max_bin and max_bin_by_feature may be ignored with a large number of categories.\n"
     ]
    },
    {
     "name": "stderr",
     "output_type": "stream",
     "text": [
      "[I 2024-05-18 23:22:56,265] Trial 69 finished with value: 0.7630840541278489 and parameters: {'learning_rate': 0.04, 'n_estimators': 48, 'num_leaves': 26, 'max_depth': 15}. Best is trial 51 with value: 0.7768649829574892.\n"
     ]
    },
    {
     "name": "stdout",
     "output_type": "stream",
     "text": [
      "[LightGBM] [Warning] Categorical features with more bins than the configured maximum bin number found.\n",
      "[LightGBM] [Warning] For categorical features, max_bin and max_bin_by_feature may be ignored with a large number of categories.\n"
     ]
    },
    {
     "name": "stderr",
     "output_type": "stream",
     "text": [
      "[I 2024-05-18 23:23:24,409] Trial 70 finished with value: 0.7652496812226229 and parameters: {'learning_rate': 0.060000000000000005, 'n_estimators': 44, 'num_leaves': 18, 'max_depth': 0}. Best is trial 51 with value: 0.7768649829574892.\n"
     ]
    },
    {
     "name": "stdout",
     "output_type": "stream",
     "text": [
      "[LightGBM] [Warning] Categorical features with more bins than the configured maximum bin number found.\n",
      "[LightGBM] [Warning] For categorical features, max_bin and max_bin_by_feature may be ignored with a large number of categories.\n"
     ]
    },
    {
     "name": "stderr",
     "output_type": "stream",
     "text": [
      "[I 2024-05-18 23:23:54,431] Trial 71 finished with value: 0.7758620523575267 and parameters: {'learning_rate': 0.08, 'n_estimators': 46, 'num_leaves': 26, 'max_depth': 20}. Best is trial 51 with value: 0.7768649829574892.\n"
     ]
    },
    {
     "name": "stdout",
     "output_type": "stream",
     "text": [
      "[LightGBM] [Warning] Categorical features with more bins than the configured maximum bin number found.\n",
      "[LightGBM] [Warning] For categorical features, max_bin and max_bin_by_feature may be ignored with a large number of categories.\n"
     ]
    },
    {
     "name": "stderr",
     "output_type": "stream",
     "text": [
      "[I 2024-05-18 23:24:25,439] Trial 72 finished with value: 0.7759884221642642 and parameters: {'learning_rate': 0.08, 'n_estimators': 48, 'num_leaves': 24, 'max_depth': 30}. Best is trial 51 with value: 0.7768649829574892.\n"
     ]
    },
    {
     "name": "stdout",
     "output_type": "stream",
     "text": [
      "[LightGBM] [Warning] Categorical features with more bins than the configured maximum bin number found.\n",
      "[LightGBM] [Warning] For categorical features, max_bin and max_bin_by_feature may be ignored with a large number of categories.\n"
     ]
    },
    {
     "name": "stderr",
     "output_type": "stream",
     "text": [
      "[I 2024-05-18 23:24:57,499] Trial 73 finished with value: 0.7757972953967388 and parameters: {'learning_rate': 0.08, 'n_estimators': 50, 'num_leaves': 24, 'max_depth': 30}. Best is trial 51 with value: 0.7768649829574892.\n"
     ]
    },
    {
     "name": "stdout",
     "output_type": "stream",
     "text": [
      "[LightGBM] [Warning] Categorical features with more bins than the configured maximum bin number found.\n",
      "[LightGBM] [Warning] For categorical features, max_bin and max_bin_by_feature may be ignored with a large number of categories.\n"
     ]
    },
    {
     "name": "stderr",
     "output_type": "stream",
     "text": [
      "[I 2024-05-18 23:25:27,258] Trial 74 finished with value: 0.7759884221642642 and parameters: {'learning_rate': 0.08, 'n_estimators': 48, 'num_leaves': 24, 'max_depth': 25}. Best is trial 51 with value: 0.7768649829574892.\n"
     ]
    },
    {
     "name": "stdout",
     "output_type": "stream",
     "text": [
      "[LightGBM] [Warning] Categorical features with more bins than the configured maximum bin number found.\n",
      "[LightGBM] [Warning] For categorical features, max_bin and max_bin_by_feature may be ignored with a large number of categories.\n"
     ]
    },
    {
     "name": "stderr",
     "output_type": "stream",
     "text": [
      "[I 2024-05-18 23:25:57,366] Trial 75 finished with value: 0.7759884221642642 and parameters: {'learning_rate': 0.08, 'n_estimators': 48, 'num_leaves': 24, 'max_depth': 35}. Best is trial 51 with value: 0.7768649829574892.\n"
     ]
    },
    {
     "name": "stdout",
     "output_type": "stream",
     "text": [
      "[LightGBM] [Warning] Categorical features with more bins than the configured maximum bin number found.\n",
      "[LightGBM] [Warning] For categorical features, max_bin and max_bin_by_feature may be ignored with a large number of categories.\n"
     ]
    },
    {
     "name": "stderr",
     "output_type": "stream",
     "text": [
      "[I 2024-05-18 23:26:28,308] Trial 76 finished with value: 0.7735310306913803 and parameters: {'learning_rate': 0.06999999999999999, 'n_estimators': 48, 'num_leaves': 24, 'max_depth': 35}. Best is trial 51 with value: 0.7768649829574892.\n"
     ]
    },
    {
     "name": "stdout",
     "output_type": "stream",
     "text": [
      "[LightGBM] [Warning] Categorical features with more bins than the configured maximum bin number found.\n",
      "[LightGBM] [Warning] For categorical features, max_bin and max_bin_by_feature may be ignored with a large number of categories.\n"
     ]
    },
    {
     "name": "stderr",
     "output_type": "stream",
     "text": [
      "[I 2024-05-18 23:26:59,737] Trial 77 finished with value: 0.7751099091799065 and parameters: {'learning_rate': 0.08, 'n_estimators': 50, 'num_leaves': 22, 'max_depth': 25}. Best is trial 51 with value: 0.7768649829574892.\n"
     ]
    },
    {
     "name": "stdout",
     "output_type": "stream",
     "text": [
      "[LightGBM] [Warning] Categorical features with more bins than the configured maximum bin number found.\n",
      "[LightGBM] [Warning] For categorical features, max_bin and max_bin_by_feature may be ignored with a large number of categories.\n"
     ]
    },
    {
     "name": "stderr",
     "output_type": "stream",
     "text": [
      "[I 2024-05-18 23:27:29,673] Trial 78 finished with value: 0.7759884221642642 and parameters: {'learning_rate': 0.08, 'n_estimators': 48, 'num_leaves': 24, 'max_depth': 40}. Best is trial 51 with value: 0.7768649829574892.\n"
     ]
    },
    {
     "name": "stdout",
     "output_type": "stream",
     "text": [
      "[LightGBM] [Warning] Categorical features with more bins than the configured maximum bin number found.\n",
      "[LightGBM] [Warning] For categorical features, max_bin and max_bin_by_feature may be ignored with a large number of categories.\n"
     ]
    },
    {
     "name": "stderr",
     "output_type": "stream",
     "text": [
      "[I 2024-05-18 23:27:56,054] Trial 79 finished with value: 0.753615267494261 and parameters: {'learning_rate': 0.06999999999999999, 'n_estimators': 48, 'num_leaves': 10, 'max_depth': 40}. Best is trial 51 with value: 0.7768649829574892.\n"
     ]
    },
    {
     "name": "stdout",
     "output_type": "stream",
     "text": [
      "[LightGBM] [Warning] Categorical features with more bins than the configured maximum bin number found.\n",
      "[LightGBM] [Warning] For categorical features, max_bin and max_bin_by_feature may be ignored with a large number of categories.\n"
     ]
    },
    {
     "name": "stderr",
     "output_type": "stream",
     "text": [
      "[I 2024-05-18 23:28:15,040] Trial 80 finished with value: 0.7670364227429919 and parameters: {'learning_rate': 0.08, 'n_estimators': 26, 'num_leaves': 24, 'max_depth': 50}. Best is trial 51 with value: 0.7768649829574892.\n"
     ]
    },
    {
     "name": "stdout",
     "output_type": "stream",
     "text": [
      "[LightGBM] [Warning] Categorical features with more bins than the configured maximum bin number found.\n",
      "[LightGBM] [Warning] For categorical features, max_bin and max_bin_by_feature may be ignored with a large number of categories.\n"
     ]
    },
    {
     "name": "stderr",
     "output_type": "stream",
     "text": [
      "[I 2024-05-18 23:28:36,645] Trial 81 finished with value: 0.7702827638372888 and parameters: {'learning_rate': 0.08, 'n_estimators': 32, 'num_leaves': 24, 'max_depth': 45}. Best is trial 51 with value: 0.7768649829574892.\n"
     ]
    },
    {
     "name": "stdout",
     "output_type": "stream",
     "text": [
      "[LightGBM] [Warning] Categorical features with more bins than the configured maximum bin number found.\n",
      "[LightGBM] [Warning] For categorical features, max_bin and max_bin_by_feature may be ignored with a large number of categories.\n"
     ]
    },
    {
     "name": "stderr",
     "output_type": "stream",
     "text": [
      "[I 2024-05-18 23:29:08,050] Trial 82 finished with value: 0.7757972953967388 and parameters: {'learning_rate': 0.08, 'n_estimators': 50, 'num_leaves': 24, 'max_depth': 25}. Best is trial 51 with value: 0.7768649829574892.\n"
     ]
    },
    {
     "name": "stdout",
     "output_type": "stream",
     "text": [
      "[LightGBM] [Warning] Categorical features with more bins than the configured maximum bin number found.\n",
      "[LightGBM] [Warning] For categorical features, max_bin and max_bin_by_feature may be ignored with a large number of categories.\n"
     ]
    },
    {
     "name": "stderr",
     "output_type": "stream",
     "text": [
      "[I 2024-05-18 23:29:39,066] Trial 83 finished with value: 0.775362432402765 and parameters: {'learning_rate': 0.08, 'n_estimators': 48, 'num_leaves': 22, 'max_depth': 35}. Best is trial 51 with value: 0.7768649829574892.\n"
     ]
    },
    {
     "name": "stdout",
     "output_type": "stream",
     "text": [
      "[LightGBM] [Warning] Categorical features with more bins than the configured maximum bin number found.\n",
      "[LightGBM] [Warning] For categorical features, max_bin and max_bin_by_feature may be ignored with a large number of categories.\n"
     ]
    },
    {
     "name": "stderr",
     "output_type": "stream",
     "text": [
      "[I 2024-05-18 23:30:09,239] Trial 84 finished with value: 0.7759884221642642 and parameters: {'learning_rate': 0.08, 'n_estimators': 48, 'num_leaves': 24, 'max_depth': 45}. Best is trial 51 with value: 0.7768649829574892.\n"
     ]
    },
    {
     "name": "stdout",
     "output_type": "stream",
     "text": [
      "[LightGBM] [Warning] Categorical features with more bins than the configured maximum bin number found.\n",
      "[LightGBM] [Warning] For categorical features, max_bin and max_bin_by_feature may be ignored with a large number of categories.\n"
     ]
    },
    {
     "name": "stderr",
     "output_type": "stream",
     "text": [
      "[I 2024-05-18 23:30:40,552] Trial 85 finished with value: 0.7757972953967388 and parameters: {'learning_rate': 0.08, 'n_estimators': 50, 'num_leaves': 24, 'max_depth': 50}. Best is trial 51 with value: 0.7768649829574892.\n"
     ]
    },
    {
     "name": "stdout",
     "output_type": "stream",
     "text": [
      "[LightGBM] [Warning] Categorical features with more bins than the configured maximum bin number found.\n",
      "[LightGBM] [Warning] For categorical features, max_bin and max_bin_by_feature may be ignored with a large number of categories.\n"
     ]
    },
    {
     "name": "stderr",
     "output_type": "stream",
     "text": [
      "[I 2024-05-18 23:31:10,120] Trial 86 finished with value: 0.775362432402765 and parameters: {'learning_rate': 0.08, 'n_estimators': 48, 'num_leaves': 22, 'max_depth': 55}. Best is trial 51 with value: 0.7768649829574892.\n"
     ]
    },
    {
     "name": "stdout",
     "output_type": "stream",
     "text": [
      "[LightGBM] [Warning] Categorical features with more bins than the configured maximum bin number found.\n",
      "[LightGBM] [Warning] For categorical features, max_bin and max_bin_by_feature may be ignored with a large number of categories.\n"
     ]
    },
    {
     "name": "stderr",
     "output_type": "stream",
     "text": [
      "[I 2024-05-18 23:31:22,281] Trial 87 finished with value: 0.7450281210723502 and parameters: {'learning_rate': 0.06999999999999999, 'n_estimators': 10, 'num_leaves': 22, 'max_depth': 45}. Best is trial 51 with value: 0.7768649829574892.\n"
     ]
    },
    {
     "name": "stdout",
     "output_type": "stream",
     "text": [
      "[LightGBM] [Warning] Categorical features with more bins than the configured maximum bin number found.\n",
      "[LightGBM] [Warning] For categorical features, max_bin and max_bin_by_feature may be ignored with a large number of categories.\n"
     ]
    },
    {
     "name": "stderr",
     "output_type": "stream",
     "text": [
      "[I 2024-05-18 23:31:48,993] Trial 88 finished with value: 0.7651012046520199 and parameters: {'learning_rate': 0.05, 'n_estimators': 42, 'num_leaves': 24, 'max_depth': 40}. Best is trial 51 with value: 0.7768649829574892.\n"
     ]
    },
    {
     "name": "stdout",
     "output_type": "stream",
     "text": [
      "[LightGBM] [Warning] Categorical features with more bins than the configured maximum bin number found.\n",
      "[LightGBM] [Warning] For categorical features, max_bin and max_bin_by_feature may be ignored with a large number of categories.\n"
     ]
    },
    {
     "name": "stderr",
     "output_type": "stream",
     "text": [
      "[I 2024-05-18 23:32:19,429] Trial 89 finished with value: 0.7735310306913803 and parameters: {'learning_rate': 0.06999999999999999, 'n_estimators': 48, 'num_leaves': 24, 'max_depth': 40}. Best is trial 51 with value: 0.7768649829574892.\n"
     ]
    },
    {
     "name": "stdout",
     "output_type": "stream",
     "text": [
      "[LightGBM] [Warning] Categorical features with more bins than the configured maximum bin number found.\n",
      "[LightGBM] [Warning] For categorical features, max_bin and max_bin_by_feature may be ignored with a large number of categories.\n"
     ]
    },
    {
     "name": "stderr",
     "output_type": "stream",
     "text": [
      "[I 2024-05-18 23:32:47,061] Trial 90 finished with value: 0.7739928432076874 and parameters: {'learning_rate': 0.08, 'n_estimators': 44, 'num_leaves': 22, 'max_depth': 30}. Best is trial 51 with value: 0.7768649829574892.\n"
     ]
    },
    {
     "name": "stdout",
     "output_type": "stream",
     "text": [
      "[LightGBM] [Warning] Categorical features with more bins than the configured maximum bin number found.\n",
      "[LightGBM] [Warning] For categorical features, max_bin and max_bin_by_feature may be ignored with a large number of categories.\n"
     ]
    },
    {
     "name": "stderr",
     "output_type": "stream",
     "text": [
      "[I 2024-05-18 23:33:19,753] Trial 91 finished with value: 0.7757972953967388 and parameters: {'learning_rate': 0.08, 'n_estimators': 50, 'num_leaves': 24, 'max_depth': 25}. Best is trial 51 with value: 0.7768649829574892.\n"
     ]
    },
    {
     "name": "stdout",
     "output_type": "stream",
     "text": [
      "[LightGBM] [Warning] Categorical features with more bins than the configured maximum bin number found.\n",
      "[LightGBM] [Warning] For categorical features, max_bin and max_bin_by_feature may be ignored with a large number of categories.\n"
     ]
    },
    {
     "name": "stderr",
     "output_type": "stream",
     "text": [
      "[I 2024-05-18 23:33:49,865] Trial 92 finished with value: 0.7758620523575267 and parameters: {'learning_rate': 0.08, 'n_estimators': 46, 'num_leaves': 26, 'max_depth': 15}. Best is trial 51 with value: 0.7768649829574892.\n"
     ]
    },
    {
     "name": "stdout",
     "output_type": "stream",
     "text": [
      "[LightGBM] [Warning] Categorical features with more bins than the configured maximum bin number found.\n",
      "[LightGBM] [Warning] For categorical features, max_bin and max_bin_by_feature may be ignored with a large number of categories.\n"
     ]
    },
    {
     "name": "stderr",
     "output_type": "stream",
     "text": [
      "[I 2024-05-18 23:34:21,552] Trial 93 finished with value: 0.7757972953967388 and parameters: {'learning_rate': 0.08, 'n_estimators': 50, 'num_leaves': 24, 'max_depth': 35}. Best is trial 51 with value: 0.7768649829574892.\n"
     ]
    },
    {
     "name": "stdout",
     "output_type": "stream",
     "text": [
      "[LightGBM] [Warning] Categorical features with more bins than the configured maximum bin number found.\n",
      "[LightGBM] [Warning] For categorical features, max_bin and max_bin_by_feature may be ignored with a large number of categories.\n"
     ]
    },
    {
     "name": "stderr",
     "output_type": "stream",
     "text": [
      "[I 2024-05-18 23:34:51,815] Trial 94 finished with value: 0.7759884221642642 and parameters: {'learning_rate': 0.08, 'n_estimators': 48, 'num_leaves': 24, 'max_depth': 25}. Best is trial 51 with value: 0.7768649829574892.\n"
     ]
    },
    {
     "name": "stdout",
     "output_type": "stream",
     "text": [
      "[LightGBM] [Warning] Categorical features with more bins than the configured maximum bin number found.\n",
      "[LightGBM] [Warning] For categorical features, max_bin and max_bin_by_feature may be ignored with a large number of categories.\n"
     ]
    },
    {
     "name": "stderr",
     "output_type": "stream",
     "text": [
      "[I 2024-05-18 23:35:21,460] Trial 95 finished with value: 0.775362432402765 and parameters: {'learning_rate': 0.08, 'n_estimators': 48, 'num_leaves': 22, 'max_depth': 25}. Best is trial 51 with value: 0.7768649829574892.\n"
     ]
    },
    {
     "name": "stdout",
     "output_type": "stream",
     "text": [
      "[LightGBM] [Warning] Categorical features with more bins than the configured maximum bin number found.\n",
      "[LightGBM] [Warning] For categorical features, max_bin and max_bin_by_feature may be ignored with a large number of categories.\n"
     ]
    },
    {
     "name": "stderr",
     "output_type": "stream",
     "text": [
      "[I 2024-05-18 23:35:49,408] Trial 96 finished with value: 0.7743234527292422 and parameters: {'learning_rate': 0.08, 'n_estimators': 44, 'num_leaves': 24, 'max_depth': 30}. Best is trial 51 with value: 0.7768649829574892.\n"
     ]
    },
    {
     "name": "stdout",
     "output_type": "stream",
     "text": [
      "[LightGBM] [Warning] Categorical features with more bins than the configured maximum bin number found.\n",
      "[LightGBM] [Warning] For categorical features, max_bin and max_bin_by_feature may be ignored with a large number of categories.\n"
     ]
    },
    {
     "name": "stderr",
     "output_type": "stream",
     "text": [
      "[I 2024-05-18 23:36:18,810] Trial 97 finished with value: 0.771558466835073 and parameters: {'learning_rate': 0.06999999999999999, 'n_estimators': 48, 'num_leaves': 20, 'max_depth': 55}. Best is trial 51 with value: 0.7768649829574892.\n"
     ]
    },
    {
     "name": "stdout",
     "output_type": "stream",
     "text": [
      "[LightGBM] [Warning] Categorical features with more bins than the configured maximum bin number found.\n",
      "[LightGBM] [Warning] For categorical features, max_bin and max_bin_by_feature may be ignored with a large number of categories.\n"
     ]
    },
    {
     "name": "stderr",
     "output_type": "stream",
     "text": [
      "[I 2024-05-18 23:36:50,204] Trial 98 finished with value: 0.7757972953967388 and parameters: {'learning_rate': 0.08, 'n_estimators': 50, 'num_leaves': 24, 'max_depth': 45}. Best is trial 51 with value: 0.7768649829574892.\n"
     ]
    },
    {
     "name": "stdout",
     "output_type": "stream",
     "text": [
      "[LightGBM] [Warning] Categorical features with more bins than the configured maximum bin number found.\n",
      "[LightGBM] [Warning] For categorical features, max_bin and max_bin_by_feature may be ignored with a large number of categories.\n"
     ]
    },
    {
     "name": "stderr",
     "output_type": "stream",
     "text": [
      "[I 2024-05-18 23:37:20,077] Trial 99 finished with value: 0.7747893294330702 and parameters: {'learning_rate': 0.08, 'n_estimators': 46, 'num_leaves': 22, 'max_depth': 25}. Best is trial 51 with value: 0.7768649829574892.\n"
     ]
    },
    {
     "name": "stdout",
     "output_type": "stream",
     "text": [
      "[LightGBM] [Warning] Categorical features with more bins than the configured maximum bin number found.\n",
      "[LightGBM] [Warning] For categorical features, max_bin and max_bin_by_feature may be ignored with a large number of categories.\n"
     ]
    },
    {
     "name": "stderr",
     "output_type": "stream",
     "text": [
      "[I 2024-05-18 23:37:46,828] Trial 100 finished with value: 0.7605709029967483 and parameters: {'learning_rate': 0.08, 'n_estimators': 48, 'num_leaves': 12, 'max_depth': 35}. Best is trial 51 with value: 0.7768649829574892.\n"
     ]
    },
    {
     "name": "stdout",
     "output_type": "stream",
     "text": [
      "[LightGBM] [Warning] Categorical features with more bins than the configured maximum bin number found.\n",
      "[LightGBM] [Warning] For categorical features, max_bin and max_bin_by_feature may be ignored with a large number of categories.\n"
     ]
    },
    {
     "name": "stderr",
     "output_type": "stream",
     "text": [
      "[I 2024-05-18 23:38:16,357] Trial 101 finished with value: 0.7758620523575267 and parameters: {'learning_rate': 0.08, 'n_estimators': 46, 'num_leaves': 26, 'max_depth': 20}. Best is trial 51 with value: 0.7768649829574892.\n"
     ]
    },
    {
     "name": "stdout",
     "output_type": "stream",
     "text": [
      "[LightGBM] [Warning] Categorical features with more bins than the configured maximum bin number found.\n",
      "[LightGBM] [Warning] For categorical features, max_bin and max_bin_by_feature may be ignored with a large number of categories.\n"
     ]
    },
    {
     "name": "stderr",
     "output_type": "stream",
     "text": [
      "[I 2024-05-18 23:38:45,974] Trial 102 finished with value: 0.7755375808849737 and parameters: {'learning_rate': 0.08, 'n_estimators': 46, 'num_leaves': 26, 'max_depth': 10}. Best is trial 51 with value: 0.7768649829574892.\n"
     ]
    },
    {
     "name": "stdout",
     "output_type": "stream",
     "text": [
      "[LightGBM] [Warning] Categorical features with more bins than the configured maximum bin number found.\n",
      "[LightGBM] [Warning] For categorical features, max_bin and max_bin_by_feature may be ignored with a large number of categories.\n"
     ]
    },
    {
     "name": "stderr",
     "output_type": "stream",
     "text": [
      "[I 2024-05-18 23:39:16,002] Trial 103 finished with value: 0.7759884221642642 and parameters: {'learning_rate': 0.08, 'n_estimators': 48, 'num_leaves': 24, 'max_depth': 15}. Best is trial 51 with value: 0.7768649829574892.\n"
     ]
    },
    {
     "name": "stdout",
     "output_type": "stream",
     "text": [
      "[LightGBM] [Warning] Categorical features with more bins than the configured maximum bin number found.\n",
      "[LightGBM] [Warning] For categorical features, max_bin and max_bin_by_feature may be ignored with a large number of categories.\n"
     ]
    },
    {
     "name": "stderr",
     "output_type": "stream",
     "text": [
      "[I 2024-05-18 23:39:46,177] Trial 104 finished with value: 0.7759884221642642 and parameters: {'learning_rate': 0.08, 'n_estimators': 48, 'num_leaves': 24, 'max_depth': 30}. Best is trial 51 with value: 0.7768649829574892.\n"
     ]
    },
    {
     "name": "stdout",
     "output_type": "stream",
     "text": [
      "[LightGBM] [Warning] Categorical features with more bins than the configured maximum bin number found.\n",
      "[LightGBM] [Warning] For categorical features, max_bin and max_bin_by_feature may be ignored with a large number of categories.\n"
     ]
    },
    {
     "name": "stderr",
     "output_type": "stream",
     "text": [
      "[I 2024-05-18 23:40:17,508] Trial 105 finished with value: 0.7757972953967388 and parameters: {'learning_rate': 0.08, 'n_estimators': 50, 'num_leaves': 24, 'max_depth': 20}. Best is trial 51 with value: 0.7768649829574892.\n"
     ]
    },
    {
     "name": "stdout",
     "output_type": "stream",
     "text": [
      "[LightGBM] [Warning] Categorical features with more bins than the configured maximum bin number found.\n",
      "[LightGBM] [Warning] For categorical features, max_bin and max_bin_by_feature may be ignored with a large number of categories.\n"
     ]
    },
    {
     "name": "stderr",
     "output_type": "stream",
     "text": [
      "[I 2024-05-18 23:40:45,251] Trial 106 finished with value: 0.7743234527292422 and parameters: {'learning_rate': 0.08, 'n_estimators': 44, 'num_leaves': 24, 'max_depth': 15}. Best is trial 51 with value: 0.7768649829574892.\n"
     ]
    },
    {
     "name": "stdout",
     "output_type": "stream",
     "text": [
      "[LightGBM] [Warning] Categorical features with more bins than the configured maximum bin number found.\n",
      "[LightGBM] [Warning] For categorical features, max_bin and max_bin_by_feature may be ignored with a large number of categories.\n"
     ]
    },
    {
     "name": "stderr",
     "output_type": "stream",
     "text": [
      "[I 2024-05-18 23:41:16,955] Trial 107 finished with value: 0.7712332017761373 and parameters: {'learning_rate': 0.06999999999999999, 'n_estimators': 50, 'num_leaves': 22, 'max_depth': 10}. Best is trial 51 with value: 0.7768649829574892.\n"
     ]
    },
    {
     "name": "stdout",
     "output_type": "stream",
     "text": [
      "[LightGBM] [Warning] Categorical features with more bins than the configured maximum bin number found.\n",
      "[LightGBM] [Warning] For categorical features, max_bin and max_bin_by_feature may be ignored with a large number of categories.\n"
     ]
    },
    {
     "name": "stderr",
     "output_type": "stream",
     "text": [
      "[I 2024-05-18 23:41:47,197] Trial 108 finished with value: 0.7759884221642642 and parameters: {'learning_rate': 0.08, 'n_estimators': 48, 'num_leaves': 24, 'max_depth': 25}. Best is trial 51 with value: 0.7768649829574892.\n"
     ]
    },
    {
     "name": "stdout",
     "output_type": "stream",
     "text": [
      "[LightGBM] [Warning] Categorical features with more bins than the configured maximum bin number found.\n",
      "[LightGBM] [Warning] For categorical features, max_bin and max_bin_by_feature may be ignored with a large number of categories.\n"
     ]
    },
    {
     "name": "stderr",
     "output_type": "stream",
     "text": [
      "[I 2024-05-18 23:42:15,119] Trial 109 finished with value: 0.7532666355546549 and parameters: {'learning_rate': 0.03, 'n_estimators': 44, 'num_leaves': 22, 'max_depth': 40}. Best is trial 51 with value: 0.7768649829574892.\n"
     ]
    },
    {
     "name": "stdout",
     "output_type": "stream",
     "text": [
      "[LightGBM] [Warning] Categorical features with more bins than the configured maximum bin number found.\n",
      "[LightGBM] [Warning] For categorical features, max_bin and max_bin_by_feature may be ignored with a large number of categories.\n"
     ]
    },
    {
     "name": "stderr",
     "output_type": "stream",
     "text": [
      "[I 2024-05-18 23:42:32,410] Trial 110 finished with value: 0.7605065495761012 and parameters: {'learning_rate': 0.08, 'n_estimators': 20, 'num_leaves': 26, 'max_depth': 35}. Best is trial 51 with value: 0.7768649829574892.\n"
     ]
    },
    {
     "name": "stdout",
     "output_type": "stream",
     "text": [
      "[LightGBM] [Warning] Categorical features with more bins than the configured maximum bin number found.\n",
      "[LightGBM] [Warning] For categorical features, max_bin and max_bin_by_feature may be ignored with a large number of categories.\n"
     ]
    },
    {
     "name": "stderr",
     "output_type": "stream",
     "text": [
      "[I 2024-05-18 23:43:03,072] Trial 111 finished with value: 0.7759884221642642 and parameters: {'learning_rate': 0.08, 'n_estimators': 48, 'num_leaves': 24, 'max_depth': 30}. Best is trial 51 with value: 0.7768649829574892.\n"
     ]
    },
    {
     "name": "stdout",
     "output_type": "stream",
     "text": [
      "[LightGBM] [Warning] Categorical features with more bins than the configured maximum bin number found.\n",
      "[LightGBM] [Warning] For categorical features, max_bin and max_bin_by_feature may be ignored with a large number of categories.\n"
     ]
    },
    {
     "name": "stderr",
     "output_type": "stream",
     "text": [
      "[I 2024-05-18 23:43:32,614] Trial 112 finished with value: 0.7753376887815088 and parameters: {'learning_rate': 0.08, 'n_estimators': 46, 'num_leaves': 24, 'max_depth': 30}. Best is trial 51 with value: 0.7768649829574892.\n"
     ]
    },
    {
     "name": "stdout",
     "output_type": "stream",
     "text": [
      "[LightGBM] [Warning] Categorical features with more bins than the configured maximum bin number found.\n",
      "[LightGBM] [Warning] For categorical features, max_bin and max_bin_by_feature may be ignored with a large number of categories.\n"
     ]
    },
    {
     "name": "stderr",
     "output_type": "stream",
     "text": [
      "[I 2024-05-18 23:44:02,942] Trial 113 finished with value: 0.7759884221642642 and parameters: {'learning_rate': 0.08, 'n_estimators': 48, 'num_leaves': 24, 'max_depth': 20}. Best is trial 51 with value: 0.7768649829574892.\n"
     ]
    },
    {
     "name": "stdout",
     "output_type": "stream",
     "text": [
      "[LightGBM] [Warning] Categorical features with more bins than the configured maximum bin number found.\n",
      "[LightGBM] [Warning] For categorical features, max_bin and max_bin_by_feature may be ignored with a large number of categories.\n"
     ]
    },
    {
     "name": "stderr",
     "output_type": "stream",
     "text": [
      "[I 2024-05-18 23:44:34,262] Trial 114 finished with value: 0.7757972953967388 and parameters: {'learning_rate': 0.08, 'n_estimators': 50, 'num_leaves': 24, 'max_depth': 30}. Best is trial 51 with value: 0.7768649829574892.\n"
     ]
    },
    {
     "name": "stdout",
     "output_type": "stream",
     "text": [
      "[LightGBM] [Warning] Categorical features with more bins than the configured maximum bin number found.\n",
      "[LightGBM] [Warning] For categorical features, max_bin and max_bin_by_feature may be ignored with a large number of categories.\n"
     ]
    },
    {
     "name": "stderr",
     "output_type": "stream",
     "text": [
      "[I 2024-05-18 23:45:04,189] Trial 115 finished with value: 0.7503945242750211 and parameters: {'learning_rate': 0.02, 'n_estimators': 46, 'num_leaves': 26, 'max_depth': 25}. Best is trial 51 with value: 0.7768649829574892.\n"
     ]
    },
    {
     "name": "stdout",
     "output_type": "stream",
     "text": [
      "[LightGBM] [Warning] Categorical features with more bins than the configured maximum bin number found.\n",
      "[LightGBM] [Warning] For categorical features, max_bin and max_bin_by_feature may be ignored with a large number of categories.\n"
     ]
    },
    {
     "name": "stderr",
     "output_type": "stream",
     "text": [
      "[I 2024-05-18 23:45:35,427] Trial 116 finished with value: 0.7759884221642642 and parameters: {'learning_rate': 0.08, 'n_estimators': 48, 'num_leaves': 24, 'max_depth': 45}. Best is trial 51 with value: 0.7768649829574892.\n"
     ]
    },
    {
     "name": "stdout",
     "output_type": "stream",
     "text": [
      "[LightGBM] [Warning] Categorical features with more bins than the configured maximum bin number found.\n",
      "[LightGBM] [Warning] For categorical features, max_bin and max_bin_by_feature may be ignored with a large number of categories.\n"
     ]
    },
    {
     "name": "stderr",
     "output_type": "stream",
     "text": [
      "[I 2024-05-18 23:46:07,152] Trial 117 finished with value: 0.7751099091799065 and parameters: {'learning_rate': 0.08, 'n_estimators': 50, 'num_leaves': 22, 'max_depth': 20}. Best is trial 51 with value: 0.7768649829574892.\n"
     ]
    },
    {
     "name": "stdout",
     "output_type": "stream",
     "text": [
      "[LightGBM] [Warning] Categorical features with more bins than the configured maximum bin number found.\n",
      "[LightGBM] [Warning] For categorical features, max_bin and max_bin_by_feature may be ignored with a large number of categories.\n"
     ]
    },
    {
     "name": "stderr",
     "output_type": "stream",
     "text": [
      "[I 2024-05-18 23:46:37,689] Trial 118 finished with value: 0.7735310306913803 and parameters: {'learning_rate': 0.06999999999999999, 'n_estimators': 48, 'num_leaves': 24, 'max_depth': 35}. Best is trial 51 with value: 0.7768649829574892.\n"
     ]
    },
    {
     "name": "stdout",
     "output_type": "stream",
     "text": [
      "[LightGBM] [Warning] Categorical features with more bins than the configured maximum bin number found.\n",
      "[LightGBM] [Warning] For categorical features, max_bin and max_bin_by_feature may be ignored with a large number of categories.\n"
     ]
    },
    {
     "name": "stderr",
     "output_type": "stream",
     "text": [
      "[I 2024-05-18 23:47:07,461] Trial 119 finished with value: 0.7768649829574892 and parameters: {'learning_rate': 0.08, 'n_estimators': 48, 'num_leaves': 26, 'max_depth': 15}. Best is trial 51 with value: 0.7768649829574892.\n"
     ]
    },
    {
     "name": "stdout",
     "output_type": "stream",
     "text": [
      "[LightGBM] [Warning] Categorical features with more bins than the configured maximum bin number found.\n",
      "[LightGBM] [Warning] For categorical features, max_bin and max_bin_by_feature may be ignored with a large number of categories.\n"
     ]
    },
    {
     "name": "stderr",
     "output_type": "stream",
     "text": [
      "[I 2024-05-18 23:47:37,346] Trial 120 finished with value: 0.7758620523575267 and parameters: {'learning_rate': 0.08, 'n_estimators': 46, 'num_leaves': 26, 'max_depth': 15}. Best is trial 51 with value: 0.7768649829574892.\n"
     ]
    },
    {
     "name": "stdout",
     "output_type": "stream",
     "text": [
      "[LightGBM] [Warning] Categorical features with more bins than the configured maximum bin number found.\n",
      "[LightGBM] [Warning] For categorical features, max_bin and max_bin_by_feature may be ignored with a large number of categories.\n"
     ]
    },
    {
     "name": "stderr",
     "output_type": "stream",
     "text": [
      "[I 2024-05-18 23:48:07,427] Trial 121 finished with value: 0.7759884221642642 and parameters: {'learning_rate': 0.08, 'n_estimators': 48, 'num_leaves': 24, 'max_depth': 25}. Best is trial 51 with value: 0.7768649829574892.\n"
     ]
    },
    {
     "name": "stdout",
     "output_type": "stream",
     "text": [
      "[LightGBM] [Warning] Categorical features with more bins than the configured maximum bin number found.\n",
      "[LightGBM] [Warning] For categorical features, max_bin and max_bin_by_feature may be ignored with a large number of categories.\n"
     ]
    },
    {
     "name": "stderr",
     "output_type": "stream",
     "text": [
      "[I 2024-05-18 23:48:39,848] Trial 122 finished with value: 0.7765645025720485 and parameters: {'learning_rate': 0.08, 'n_estimators': 50, 'num_leaves': 26, 'max_depth': 15}. Best is trial 51 with value: 0.7768649829574892.\n"
     ]
    },
    {
     "name": "stdout",
     "output_type": "stream",
     "text": [
      "[LightGBM] [Warning] Categorical features with more bins than the configured maximum bin number found.\n",
      "[LightGBM] [Warning] For categorical features, max_bin and max_bin_by_feature may be ignored with a large number of categories.\n"
     ]
    },
    {
     "name": "stderr",
     "output_type": "stream",
     "text": [
      "[I 2024-05-18 23:49:11,435] Trial 123 finished with value: 0.7765645025720485 and parameters: {'learning_rate': 0.08, 'n_estimators': 50, 'num_leaves': 26, 'max_depth': 15}. Best is trial 51 with value: 0.7768649829574892.\n"
     ]
    },
    {
     "name": "stdout",
     "output_type": "stream",
     "text": [
      "[LightGBM] [Warning] Categorical features with more bins than the configured maximum bin number found.\n",
      "[LightGBM] [Warning] For categorical features, max_bin and max_bin_by_feature may be ignored with a large number of categories.\n"
     ]
    },
    {
     "name": "stderr",
     "output_type": "stream",
     "text": [
      "[I 2024-05-18 23:49:45,265] Trial 124 finished with value: 0.7766708520784184 and parameters: {'learning_rate': 0.08, 'n_estimators': 50, 'num_leaves': 28, 'max_depth': 10}. Best is trial 51 with value: 0.7768649829574892.\n"
     ]
    },
    {
     "name": "stdout",
     "output_type": "stream",
     "text": [
      "[LightGBM] [Warning] Categorical features with more bins than the configured maximum bin number found.\n",
      "[LightGBM] [Warning] For categorical features, max_bin and max_bin_by_feature may be ignored with a large number of categories.\n"
     ]
    },
    {
     "name": "stderr",
     "output_type": "stream",
     "text": [
      "[I 2024-05-18 23:50:17,850] Trial 125 finished with value: 0.7766708520784184 and parameters: {'learning_rate': 0.08, 'n_estimators': 50, 'num_leaves': 28, 'max_depth': 10}. Best is trial 51 with value: 0.7768649829574892.\n"
     ]
    },
    {
     "name": "stdout",
     "output_type": "stream",
     "text": [
      "[LightGBM] [Warning] Categorical features with more bins than the configured maximum bin number found.\n",
      "[LightGBM] [Warning] For categorical features, max_bin and max_bin_by_feature may be ignored with a large number of categories.\n"
     ]
    },
    {
     "name": "stderr",
     "output_type": "stream",
     "text": [
      "[I 2024-05-18 23:51:12,417] Trial 126 finished with value: 0.7774313222699242 and parameters: {'learning_rate': 0.08, 'n_estimators': 50, 'num_leaves': 30, 'max_depth': 10}. Best is trial 126 with value: 0.7774313222699242.\n"
     ]
    },
    {
     "name": "stdout",
     "output_type": "stream",
     "text": [
      "[LightGBM] [Warning] Categorical features with more bins than the configured maximum bin number found.\n",
      "[LightGBM] [Warning] For categorical features, max_bin and max_bin_by_feature may be ignored with a large number of categories.\n"
     ]
    },
    {
     "name": "stderr",
     "output_type": "stream",
     "text": [
      "[I 2024-05-18 23:52:10,977] Trial 127 finished with value: 0.7766708520784184 and parameters: {'learning_rate': 0.08, 'n_estimators': 50, 'num_leaves': 28, 'max_depth': 10}. Best is trial 126 with value: 0.7774313222699242.\n"
     ]
    },
    {
     "name": "stdout",
     "output_type": "stream",
     "text": [
      "[LightGBM] [Warning] Categorical features with more bins than the configured maximum bin number found.\n",
      "[LightGBM] [Warning] For categorical features, max_bin and max_bin_by_feature may be ignored with a large number of categories.\n"
     ]
    },
    {
     "name": "stderr",
     "output_type": "stream",
     "text": [
      "[I 2024-05-18 23:53:11,111] Trial 128 finished with value: 0.7642769475219389 and parameters: {'learning_rate': 0.04, 'n_estimators': 50, 'num_leaves': 30, 'max_depth': 10}. Best is trial 126 with value: 0.7774313222699242.\n"
     ]
    },
    {
     "name": "stdout",
     "output_type": "stream",
     "text": [
      "[LightGBM] [Warning] Categorical features with more bins than the configured maximum bin number found.\n",
      "[LightGBM] [Warning] For categorical features, max_bin and max_bin_by_feature may be ignored with a large number of categories.\n",
      "[LightGBM] [Warning] No further splits with positive gain, best gain: -inf\n",
      "[LightGBM] [Warning] No further splits with positive gain, best gain: -inf\n",
      "[LightGBM] [Warning] No further splits with positive gain, best gain: -inf\n",
      "[LightGBM] [Warning] No further splits with positive gain, best gain: -inf\n",
      "[LightGBM] [Warning] No further splits with positive gain, best gain: -inf\n",
      "[LightGBM] [Warning] No further splits with positive gain, best gain: -inf\n",
      "[LightGBM] [Warning] No further splits with positive gain, best gain: -inf\n",
      "[LightGBM] [Warning] No further splits with positive gain, best gain: -inf\n",
      "[LightGBM] [Warning] No further splits with positive gain, best gain: -inf\n",
      "[LightGBM] [Warning] No further splits with positive gain, best gain: -inf\n",
      "[LightGBM] [Warning] No further splits with positive gain, best gain: -inf\n",
      "[LightGBM] [Warning] No further splits with positive gain, best gain: -inf\n",
      "[LightGBM] [Warning] No further splits with positive gain, best gain: -inf\n",
      "[LightGBM] [Warning] No further splits with positive gain, best gain: -inf\n",
      "[LightGBM] [Warning] No further splits with positive gain, best gain: -inf\n",
      "[LightGBM] [Warning] No further splits with positive gain, best gain: -inf\n",
      "[LightGBM] [Warning] No further splits with positive gain, best gain: -inf\n",
      "[LightGBM] [Warning] No further splits with positive gain, best gain: -inf\n",
      "[LightGBM] [Warning] No further splits with positive gain, best gain: -inf\n",
      "[LightGBM] [Warning] No further splits with positive gain, best gain: -inf\n",
      "[LightGBM] [Warning] No further splits with positive gain, best gain: -inf\n",
      "[LightGBM] [Warning] No further splits with positive gain, best gain: -inf\n",
      "[LightGBM] [Warning] No further splits with positive gain, best gain: -inf\n",
      "[LightGBM] [Warning] No further splits with positive gain, best gain: -inf\n",
      "[LightGBM] [Warning] No further splits with positive gain, best gain: -inf\n",
      "[LightGBM] [Warning] No further splits with positive gain, best gain: -inf\n",
      "[LightGBM] [Warning] No further splits with positive gain, best gain: -inf\n",
      "[LightGBM] [Warning] No further splits with positive gain, best gain: -inf\n",
      "[LightGBM] [Warning] No further splits with positive gain, best gain: -inf\n",
      "[LightGBM] [Warning] No further splits with positive gain, best gain: -inf\n",
      "[LightGBM] [Warning] No further splits with positive gain, best gain: -inf\n",
      "[LightGBM] [Warning] No further splits with positive gain, best gain: -inf\n",
      "[LightGBM] [Warning] No further splits with positive gain, best gain: -inf\n",
      "[LightGBM] [Warning] No further splits with positive gain, best gain: -inf\n",
      "[LightGBM] [Warning] No further splits with positive gain, best gain: -inf\n",
      "[LightGBM] [Warning] No further splits with positive gain, best gain: -inf\n",
      "[LightGBM] [Warning] No further splits with positive gain, best gain: -inf\n"
     ]
    },
    {
     "name": "stderr",
     "output_type": "stream",
     "text": [
      "[I 2024-05-18 23:54:26,512] Trial 129 finished with value: 0.7516310292154018 and parameters: {'learning_rate': 0.06999999999999999, 'n_estimators': 50, 'num_leaves': 28, 'max_depth': 5}. Best is trial 126 with value: 0.7774313222699242.\n"
     ]
    },
    {
     "name": "stdout",
     "output_type": "stream",
     "text": [
      "[LightGBM] [Warning] Categorical features with more bins than the configured maximum bin number found.\n",
      "[LightGBM] [Warning] For categorical features, max_bin and max_bin_by_feature may be ignored with a large number of categories.\n"
     ]
    },
    {
     "name": "stderr",
     "output_type": "stream",
     "text": [
      "[I 2024-05-18 23:55:23,957] Trial 130 finished with value: 0.7774313222699242 and parameters: {'learning_rate': 0.08, 'n_estimators': 50, 'num_leaves': 30, 'max_depth': 10}. Best is trial 126 with value: 0.7774313222699242.\n"
     ]
    },
    {
     "name": "stdout",
     "output_type": "stream",
     "text": [
      "[LightGBM] [Warning] Categorical features with more bins than the configured maximum bin number found.\n",
      "[LightGBM] [Warning] For categorical features, max_bin and max_bin_by_feature may be ignored with a large number of categories.\n"
     ]
    },
    {
     "name": "stderr",
     "output_type": "stream",
     "text": [
      "[I 2024-05-18 23:56:01,249] Trial 131 finished with value: 0.7774313222699242 and parameters: {'learning_rate': 0.08, 'n_estimators': 50, 'num_leaves': 30, 'max_depth': 10}. Best is trial 126 with value: 0.7774313222699242.\n"
     ]
    },
    {
     "name": "stdout",
     "output_type": "stream",
     "text": [
      "[LightGBM] [Warning] Categorical features with more bins than the configured maximum bin number found.\n",
      "[LightGBM] [Warning] For categorical features, max_bin and max_bin_by_feature may be ignored with a large number of categories.\n"
     ]
    },
    {
     "name": "stderr",
     "output_type": "stream",
     "text": [
      "[I 2024-05-18 23:56:45,322] Trial 132 finished with value: 0.7774313222699242 and parameters: {'learning_rate': 0.08, 'n_estimators': 50, 'num_leaves': 30, 'max_depth': 10}. Best is trial 126 with value: 0.7774313222699242.\n"
     ]
    },
    {
     "name": "stdout",
     "output_type": "stream",
     "text": [
      "[LightGBM] [Warning] Categorical features with more bins than the configured maximum bin number found.\n",
      "[LightGBM] [Warning] For categorical features, max_bin and max_bin_by_feature may be ignored with a large number of categories.\n",
      "[LightGBM] [Warning] No further splits with positive gain, best gain: -inf\n",
      "[LightGBM] [Warning] No further splits with positive gain, best gain: -inf\n",
      "[LightGBM] [Warning] No further splits with positive gain, best gain: -inf\n",
      "[LightGBM] [Warning] No further splits with positive gain, best gain: -inf\n",
      "[LightGBM] [Warning] No further splits with positive gain, best gain: -inf\n",
      "[LightGBM] [Warning] No further splits with positive gain, best gain: -inf\n",
      "[LightGBM] [Warning] No further splits with positive gain, best gain: -inf\n",
      "[LightGBM] [Warning] No further splits with positive gain, best gain: -inf\n",
      "[LightGBM] [Warning] No further splits with positive gain, best gain: -inf\n",
      "[LightGBM] [Warning] No further splits with positive gain, best gain: -inf\n",
      "[LightGBM] [Warning] No further splits with positive gain, best gain: -inf\n",
      "[LightGBM] [Warning] No further splits with positive gain, best gain: -inf\n",
      "[LightGBM] [Warning] No further splits with positive gain, best gain: -inf\n",
      "[LightGBM] [Warning] No further splits with positive gain, best gain: -inf\n",
      "[LightGBM] [Warning] No further splits with positive gain, best gain: -inf\n",
      "[LightGBM] [Warning] No further splits with positive gain, best gain: -inf\n",
      "[LightGBM] [Warning] No further splits with positive gain, best gain: -inf\n",
      "[LightGBM] [Warning] No further splits with positive gain, best gain: -inf\n",
      "[LightGBM] [Warning] No further splits with positive gain, best gain: -inf\n",
      "[LightGBM] [Warning] No further splits with positive gain, best gain: -inf\n",
      "[LightGBM] [Warning] No further splits with positive gain, best gain: -inf\n",
      "[LightGBM] [Warning] No further splits with positive gain, best gain: -inf\n",
      "[LightGBM] [Warning] No further splits with positive gain, best gain: -inf\n",
      "[LightGBM] [Warning] No further splits with positive gain, best gain: -inf\n",
      "[LightGBM] [Warning] No further splits with positive gain, best gain: -inf\n",
      "[LightGBM] [Warning] No further splits with positive gain, best gain: -inf\n",
      "[LightGBM] [Warning] No further splits with positive gain, best gain: -inf\n",
      "[LightGBM] [Warning] No further splits with positive gain, best gain: -inf\n",
      "[LightGBM] [Warning] No further splits with positive gain, best gain: -inf\n",
      "[LightGBM] [Warning] No further splits with positive gain, best gain: -inf\n",
      "[LightGBM] [Warning] No further splits with positive gain, best gain: -inf\n",
      "[LightGBM] [Warning] No further splits with positive gain, best gain: -inf\n",
      "[LightGBM] [Warning] No further splits with positive gain, best gain: -inf\n",
      "[LightGBM] [Warning] No further splits with positive gain, best gain: -inf\n",
      "[LightGBM] [Warning] No further splits with positive gain, best gain: -inf\n",
      "[LightGBM] [Warning] No further splits with positive gain, best gain: -inf\n",
      "[LightGBM] [Warning] No further splits with positive gain, best gain: -inf\n",
      "[LightGBM] [Warning] No further splits with positive gain, best gain: -inf\n",
      "[LightGBM] [Warning] No further splits with positive gain, best gain: -inf\n",
      "[LightGBM] [Warning] No further splits with positive gain, best gain: -inf\n",
      "[LightGBM] [Warning] No further splits with positive gain, best gain: -inf\n",
      "[LightGBM] [Warning] No further splits with positive gain, best gain: -inf\n",
      "[LightGBM] [Warning] No further splits with positive gain, best gain: -inf\n"
     ]
    },
    {
     "name": "stderr",
     "output_type": "stream",
     "text": [
      "[I 2024-05-18 23:57:27,543] Trial 133 finished with value: 0.7558426813420487 and parameters: {'learning_rate': 0.08, 'n_estimators': 50, 'num_leaves': 30, 'max_depth': 5}. Best is trial 126 with value: 0.7774313222699242.\n"
     ]
    },
    {
     "name": "stdout",
     "output_type": "stream",
     "text": [
      "[LightGBM] [Warning] Categorical features with more bins than the configured maximum bin number found.\n",
      "[LightGBM] [Warning] For categorical features, max_bin and max_bin_by_feature may be ignored with a large number of categories.\n"
     ]
    },
    {
     "name": "stderr",
     "output_type": "stream",
     "text": [
      "[I 2024-05-18 23:58:21,664] Trial 134 finished with value: 0.7774313222699242 and parameters: {'learning_rate': 0.08, 'n_estimators': 50, 'num_leaves': 30, 'max_depth': 10}. Best is trial 126 with value: 0.7774313222699242.\n"
     ]
    },
    {
     "name": "stdout",
     "output_type": "stream",
     "text": [
      "[LightGBM] [Warning] Categorical features with more bins than the configured maximum bin number found.\n",
      "[LightGBM] [Warning] For categorical features, max_bin and max_bin_by_feature may be ignored with a large number of categories.\n"
     ]
    },
    {
     "name": "stderr",
     "output_type": "stream",
     "text": [
      "[I 2024-05-18 23:59:16,236] Trial 135 finished with value: 0.7774313222699242 and parameters: {'learning_rate': 0.08, 'n_estimators': 50, 'num_leaves': 30, 'max_depth': 10}. Best is trial 126 with value: 0.7774313222699242.\n"
     ]
    },
    {
     "name": "stdout",
     "output_type": "stream",
     "text": [
      "[LightGBM] [Warning] Categorical features with more bins than the configured maximum bin number found.\n",
      "[LightGBM] [Warning] For categorical features, max_bin and max_bin_by_feature may be ignored with a large number of categories.\n"
     ]
    },
    {
     "name": "stderr",
     "output_type": "stream",
     "text": [
      "[I 2024-05-19 00:00:04,518] Trial 136 finished with value: 0.7774313222699242 and parameters: {'learning_rate': 0.08, 'n_estimators': 50, 'num_leaves': 30, 'max_depth': 10}. Best is trial 126 with value: 0.7774313222699242.\n"
     ]
    },
    {
     "name": "stdout",
     "output_type": "stream",
     "text": [
      "[LightGBM] [Warning] Categorical features with more bins than the configured maximum bin number found.\n",
      "[LightGBM] [Warning] For categorical features, max_bin and max_bin_by_feature may be ignored with a large number of categories.\n"
     ]
    },
    {
     "name": "stderr",
     "output_type": "stream",
     "text": [
      "[I 2024-05-19 00:00:53,157] Trial 137 finished with value: 0.7774313222699242 and parameters: {'learning_rate': 0.08, 'n_estimators': 50, 'num_leaves': 30, 'max_depth': 10}. Best is trial 126 with value: 0.7774313222699242.\n"
     ]
    },
    {
     "name": "stdout",
     "output_type": "stream",
     "text": [
      "[LightGBM] [Warning] Categorical features with more bins than the configured maximum bin number found.\n",
      "[LightGBM] [Warning] For categorical features, max_bin and max_bin_by_feature may be ignored with a large number of categories.\n",
      "[LightGBM] [Warning] No further splits with positive gain, best gain: -inf\n",
      "[LightGBM] [Warning] No further splits with positive gain, best gain: -inf\n",
      "[LightGBM] [Warning] No further splits with positive gain, best gain: -inf\n",
      "[LightGBM] [Warning] No further splits with positive gain, best gain: -inf\n",
      "[LightGBM] [Warning] No further splits with positive gain, best gain: -inf\n",
      "[LightGBM] [Warning] No further splits with positive gain, best gain: -inf\n",
      "[LightGBM] [Warning] No further splits with positive gain, best gain: -inf\n",
      "[LightGBM] [Warning] No further splits with positive gain, best gain: -inf\n",
      "[LightGBM] [Warning] No further splits with positive gain, best gain: -inf\n",
      "[LightGBM] [Warning] No further splits with positive gain, best gain: -inf\n",
      "[LightGBM] [Warning] No further splits with positive gain, best gain: -inf\n",
      "[LightGBM] [Warning] No further splits with positive gain, best gain: -inf\n",
      "[LightGBM] [Warning] No further splits with positive gain, best gain: -inf\n",
      "[LightGBM] [Warning] No further splits with positive gain, best gain: -inf\n",
      "[LightGBM] [Warning] No further splits with positive gain, best gain: -inf\n",
      "[LightGBM] [Warning] No further splits with positive gain, best gain: -inf\n",
      "[LightGBM] [Warning] No further splits with positive gain, best gain: -inf\n",
      "[LightGBM] [Warning] No further splits with positive gain, best gain: -inf\n",
      "[LightGBM] [Warning] No further splits with positive gain, best gain: -inf\n",
      "[LightGBM] [Warning] No further splits with positive gain, best gain: -inf\n",
      "[LightGBM] [Warning] No further splits with positive gain, best gain: -inf\n",
      "[LightGBM] [Warning] No further splits with positive gain, best gain: -inf\n",
      "[LightGBM] [Warning] No further splits with positive gain, best gain: -inf\n",
      "[LightGBM] [Warning] No further splits with positive gain, best gain: -inf\n",
      "[LightGBM] [Warning] No further splits with positive gain, best gain: -inf\n",
      "[LightGBM] [Warning] No further splits with positive gain, best gain: -inf\n",
      "[LightGBM] [Warning] No further splits with positive gain, best gain: -inf\n",
      "[LightGBM] [Warning] No further splits with positive gain, best gain: -inf\n",
      "[LightGBM] [Warning] No further splits with positive gain, best gain: -inf\n",
      "[LightGBM] [Warning] No further splits with positive gain, best gain: -inf\n",
      "[LightGBM] [Warning] No further splits with positive gain, best gain: -inf\n",
      "[LightGBM] [Warning] No further splits with positive gain, best gain: -inf\n",
      "[LightGBM] [Warning] No further splits with positive gain, best gain: -inf\n",
      "[LightGBM] [Warning] No further splits with positive gain, best gain: -inf\n",
      "[LightGBM] [Warning] No further splits with positive gain, best gain: -inf\n",
      "[LightGBM] [Warning] No further splits with positive gain, best gain: -inf\n",
      "[LightGBM] [Warning] No further splits with positive gain, best gain: -inf\n",
      "[LightGBM] [Warning] No further splits with positive gain, best gain: -inf\n",
      "[LightGBM] [Warning] No further splits with positive gain, best gain: -inf\n",
      "[LightGBM] [Warning] No further splits with positive gain, best gain: -inf\n",
      "[LightGBM] [Warning] No further splits with positive gain, best gain: -inf\n",
      "[LightGBM] [Warning] No further splits with positive gain, best gain: -inf\n",
      "[LightGBM] [Warning] No further splits with positive gain, best gain: -inf\n"
     ]
    },
    {
     "name": "stderr",
     "output_type": "stream",
     "text": [
      "[I 2024-05-19 00:01:27,848] Trial 138 finished with value: 0.7558426813420487 and parameters: {'learning_rate': 0.08, 'n_estimators': 50, 'num_leaves': 30, 'max_depth': 5}. Best is trial 126 with value: 0.7774313222699242.\n"
     ]
    },
    {
     "name": "stdout",
     "output_type": "stream",
     "text": [
      "[LightGBM] [Warning] Categorical features with more bins than the configured maximum bin number found.\n",
      "[LightGBM] [Warning] For categorical features, max_bin and max_bin_by_feature may be ignored with a large number of categories.\n"
     ]
    },
    {
     "name": "stderr",
     "output_type": "stream",
     "text": [
      "[I 2024-05-19 00:02:07,568] Trial 139 finished with value: 0.7774313222699242 and parameters: {'learning_rate': 0.08, 'n_estimators': 50, 'num_leaves': 30, 'max_depth': 10}. Best is trial 126 with value: 0.7774313222699242.\n"
     ]
    },
    {
     "name": "stdout",
     "output_type": "stream",
     "text": [
      "[LightGBM] [Warning] Categorical features with more bins than the configured maximum bin number found.\n",
      "[LightGBM] [Warning] For categorical features, max_bin and max_bin_by_feature may be ignored with a large number of categories.\n"
     ]
    },
    {
     "name": "stderr",
     "output_type": "stream",
     "text": [
      "[I 2024-05-19 00:03:00,594] Trial 140 finished with value: 0.7772260933134352 and parameters: {'learning_rate': 0.08, 'n_estimators': 50, 'num_leaves': 30, 'max_depth': 0}. Best is trial 126 with value: 0.7774313222699242.\n"
     ]
    },
    {
     "name": "stdout",
     "output_type": "stream",
     "text": [
      "[LightGBM] [Warning] Categorical features with more bins than the configured maximum bin number found.\n",
      "[LightGBM] [Warning] For categorical features, max_bin and max_bin_by_feature may be ignored with a large number of categories.\n"
     ]
    },
    {
     "name": "stderr",
     "output_type": "stream",
     "text": [
      "[I 2024-05-19 00:03:52,818] Trial 141 finished with value: 0.7780971055198359 and parameters: {'learning_rate': 0.08, 'n_estimators': 50, 'num_leaves': 30, 'max_depth': 10}. Best is trial 141 with value: 0.7780971055198359.\n"
     ]
    },
    {
     "name": "stdout",
     "output_type": "stream",
     "text": [
      "[LightGBM] [Warning] Categorical features with more bins than the configured maximum bin number found.\n",
      "[LightGBM] [Warning] For categorical features, max_bin and max_bin_by_feature may be ignored with a large number of categories.\n"
     ]
    },
    {
     "name": "stderr",
     "output_type": "stream",
     "text": [
      "[I 2024-05-19 00:04:47,263] Trial 142 finished with value: 0.7772260933134352 and parameters: {'learning_rate': 0.08, 'n_estimators': 50, 'num_leaves': 30, 'max_depth': 0}. Best is trial 141 with value: 0.7780971055198359.\n"
     ]
    },
    {
     "name": "stdout",
     "output_type": "stream",
     "text": [
      "[LightGBM] [Warning] Categorical features with more bins than the configured maximum bin number found.\n",
      "[LightGBM] [Warning] For categorical features, max_bin and max_bin_by_feature may be ignored with a large number of categories.\n"
     ]
    },
    {
     "name": "stderr",
     "output_type": "stream",
     "text": [
      "[I 2024-05-19 00:05:42,391] Trial 143 finished with value: 0.7772260933134352 and parameters: {'learning_rate': 0.08, 'n_estimators': 50, 'num_leaves': 30, 'max_depth': 0}. Best is trial 141 with value: 0.7780971055198359.\n"
     ]
    },
    {
     "name": "stdout",
     "output_type": "stream",
     "text": [
      "[LightGBM] [Warning] Categorical features with more bins than the configured maximum bin number found.\n",
      "[LightGBM] [Warning] For categorical features, max_bin and max_bin_by_feature may be ignored with a large number of categories.\n"
     ]
    },
    {
     "name": "stderr",
     "output_type": "stream",
     "text": [
      "[I 2024-05-19 00:06:24,067] Trial 144 finished with value: 0.7772260933134352 and parameters: {'learning_rate': 0.08, 'n_estimators': 50, 'num_leaves': 30, 'max_depth': 0}. Best is trial 141 with value: 0.7780971055198359.\n"
     ]
    },
    {
     "name": "stdout",
     "output_type": "stream",
     "text": [
      "[LightGBM] [Warning] Categorical features with more bins than the configured maximum bin number found.\n",
      "[LightGBM] [Warning] For categorical features, max_bin and max_bin_by_feature may be ignored with a large number of categories.\n"
     ]
    },
    {
     "name": "stderr",
     "output_type": "stream",
     "text": [
      "[I 2024-05-19 00:06:59,514] Trial 145 finished with value: 0.7772260933134352 and parameters: {'learning_rate': 0.08, 'n_estimators': 50, 'num_leaves': 30, 'max_depth': 0}. Best is trial 141 with value: 0.7780971055198359.\n"
     ]
    },
    {
     "name": "stdout",
     "output_type": "stream",
     "text": [
      "[LightGBM] [Warning] Categorical features with more bins than the configured maximum bin number found.\n",
      "[LightGBM] [Warning] For categorical features, max_bin and max_bin_by_feature may be ignored with a large number of categories.\n"
     ]
    },
    {
     "name": "stderr",
     "output_type": "stream",
     "text": [
      "[I 2024-05-19 00:07:32,802] Trial 146 finished with value: 0.7772260933134352 and parameters: {'learning_rate': 0.08, 'n_estimators': 50, 'num_leaves': 30, 'max_depth': 0}. Best is trial 141 with value: 0.7780971055198359.\n"
     ]
    },
    {
     "name": "stdout",
     "output_type": "stream",
     "text": [
      "[LightGBM] [Warning] Categorical features with more bins than the configured maximum bin number found.\n",
      "[LightGBM] [Warning] For categorical features, max_bin and max_bin_by_feature may be ignored with a large number of categories.\n"
     ]
    },
    {
     "name": "stderr",
     "output_type": "stream",
     "text": [
      "[I 2024-05-19 00:08:05,917] Trial 147 finished with value: 0.7772260933134352 and parameters: {'learning_rate': 0.08, 'n_estimators': 50, 'num_leaves': 30, 'max_depth': 0}. Best is trial 141 with value: 0.7780971055198359.\n"
     ]
    },
    {
     "name": "stdout",
     "output_type": "stream",
     "text": [
      "[LightGBM] [Warning] Categorical features with more bins than the configured maximum bin number found.\n",
      "[LightGBM] [Warning] For categorical features, max_bin and max_bin_by_feature may be ignored with a large number of categories.\n"
     ]
    },
    {
     "name": "stderr",
     "output_type": "stream",
     "text": [
      "[I 2024-05-19 00:08:39,850] Trial 148 finished with value: 0.7772260933134352 and parameters: {'learning_rate': 0.08, 'n_estimators': 50, 'num_leaves': 30, 'max_depth': 0}. Best is trial 141 with value: 0.7780971055198359.\n"
     ]
    },
    {
     "name": "stdout",
     "output_type": "stream",
     "text": [
      "[LightGBM] [Warning] Categorical features with more bins than the configured maximum bin number found.\n",
      "[LightGBM] [Warning] For categorical features, max_bin and max_bin_by_feature may be ignored with a large number of categories.\n",
      "[LightGBM] [Warning] No further splits with positive gain, best gain: -inf\n",
      "[LightGBM] [Warning] No further splits with positive gain, best gain: -inf\n",
      "[LightGBM] [Warning] No further splits with positive gain, best gain: -inf\n",
      "[LightGBM] [Warning] No further splits with positive gain, best gain: -inf\n",
      "[LightGBM] [Warning] No further splits with positive gain, best gain: -inf\n",
      "[LightGBM] [Warning] No further splits with positive gain, best gain: -inf\n",
      "[LightGBM] [Warning] No further splits with positive gain, best gain: -inf\n",
      "[LightGBM] [Warning] No further splits with positive gain, best gain: -inf\n",
      "[LightGBM] [Warning] No further splits with positive gain, best gain: -inf\n",
      "[LightGBM] [Warning] No further splits with positive gain, best gain: -inf\n",
      "[LightGBM] [Warning] No further splits with positive gain, best gain: -inf\n",
      "[LightGBM] [Warning] No further splits with positive gain, best gain: -inf\n",
      "[LightGBM] [Warning] No further splits with positive gain, best gain: -inf\n",
      "[LightGBM] [Warning] No further splits with positive gain, best gain: -inf\n",
      "[LightGBM] [Warning] No further splits with positive gain, best gain: -inf\n",
      "[LightGBM] [Warning] No further splits with positive gain, best gain: -inf\n",
      "[LightGBM] [Warning] No further splits with positive gain, best gain: -inf\n",
      "[LightGBM] [Warning] No further splits with positive gain, best gain: -inf\n",
      "[LightGBM] [Warning] No further splits with positive gain, best gain: -inf\n",
      "[LightGBM] [Warning] No further splits with positive gain, best gain: -inf\n",
      "[LightGBM] [Warning] No further splits with positive gain, best gain: -inf\n",
      "[LightGBM] [Warning] No further splits with positive gain, best gain: -inf\n",
      "[LightGBM] [Warning] No further splits with positive gain, best gain: -inf\n",
      "[LightGBM] [Warning] No further splits with positive gain, best gain: -inf\n",
      "[LightGBM] [Warning] No further splits with positive gain, best gain: -inf\n",
      "[LightGBM] [Warning] No further splits with positive gain, best gain: -inf\n",
      "[LightGBM] [Warning] No further splits with positive gain, best gain: -inf\n",
      "[LightGBM] [Warning] No further splits with positive gain, best gain: -inf\n",
      "[LightGBM] [Warning] No further splits with positive gain, best gain: -inf\n",
      "[LightGBM] [Warning] No further splits with positive gain, best gain: -inf\n",
      "[LightGBM] [Warning] No further splits with positive gain, best gain: -inf\n",
      "[LightGBM] [Warning] No further splits with positive gain, best gain: -inf\n",
      "[LightGBM] [Warning] No further splits with positive gain, best gain: -inf\n",
      "[LightGBM] [Warning] No further splits with positive gain, best gain: -inf\n",
      "[LightGBM] [Warning] No further splits with positive gain, best gain: -inf\n",
      "[LightGBM] [Warning] No further splits with positive gain, best gain: -inf\n",
      "[LightGBM] [Warning] No further splits with positive gain, best gain: -inf\n",
      "[LightGBM] [Warning] No further splits with positive gain, best gain: -inf\n",
      "[LightGBM] [Warning] No further splits with positive gain, best gain: -inf\n",
      "[LightGBM] [Warning] No further splits with positive gain, best gain: -inf\n",
      "[LightGBM] [Warning] No further splits with positive gain, best gain: -inf\n",
      "[LightGBM] [Warning] No further splits with positive gain, best gain: -inf\n",
      "[LightGBM] [Warning] No further splits with positive gain, best gain: -inf\n"
     ]
    },
    {
     "name": "stderr",
     "output_type": "stream",
     "text": [
      "[I 2024-05-19 00:09:13,470] Trial 149 finished with value: 0.7558426813420487 and parameters: {'learning_rate': 0.08, 'n_estimators': 50, 'num_leaves': 30, 'max_depth': 5}. Best is trial 141 with value: 0.7780971055198359.\n"
     ]
    },
    {
     "name": "stdout",
     "output_type": "stream",
     "text": [
      "[LightGBM] [Warning] Categorical features with more bins than the configured maximum bin number found.\n",
      "[LightGBM] [Warning] For categorical features, max_bin and max_bin_by_feature may be ignored with a large number of categories.\n"
     ]
    },
    {
     "name": "stderr",
     "output_type": "stream",
     "text": [
      "[I 2024-05-19 00:09:48,681] Trial 150 finished with value: 0.7772260933134352 and parameters: {'learning_rate': 0.08, 'n_estimators': 50, 'num_leaves': 30, 'max_depth': 0}. Best is trial 141 with value: 0.7780971055198359.\n"
     ]
    },
    {
     "name": "stdout",
     "output_type": "stream",
     "text": [
      "[LightGBM] [Warning] Categorical features with more bins than the configured maximum bin number found.\n",
      "[LightGBM] [Warning] For categorical features, max_bin and max_bin_by_feature may be ignored with a large number of categories.\n"
     ]
    },
    {
     "name": "stderr",
     "output_type": "stream",
     "text": [
      "[I 2024-05-19 00:10:21,894] Trial 151 finished with value: 0.7772260933134352 and parameters: {'learning_rate': 0.08, 'n_estimators': 50, 'num_leaves': 30, 'max_depth': 0}. Best is trial 141 with value: 0.7780971055198359.\n"
     ]
    },
    {
     "name": "stdout",
     "output_type": "stream",
     "text": [
      "[LightGBM] [Warning] Categorical features with more bins than the configured maximum bin number found.\n",
      "[LightGBM] [Warning] For categorical features, max_bin and max_bin_by_feature may be ignored with a large number of categories.\n",
      "[LightGBM] [Warning] No further splits with positive gain, best gain: -inf\n",
      "[LightGBM] [Warning] No further splits with positive gain, best gain: -inf\n",
      "[LightGBM] [Warning] No further splits with positive gain, best gain: -inf\n",
      "[LightGBM] [Warning] No further splits with positive gain, best gain: -inf\n",
      "[LightGBM] [Warning] No further splits with positive gain, best gain: -inf\n",
      "[LightGBM] [Warning] No further splits with positive gain, best gain: -inf\n",
      "[LightGBM] [Warning] No further splits with positive gain, best gain: -inf\n",
      "[LightGBM] [Warning] No further splits with positive gain, best gain: -inf\n",
      "[LightGBM] [Warning] No further splits with positive gain, best gain: -inf\n",
      "[LightGBM] [Warning] No further splits with positive gain, best gain: -inf\n",
      "[LightGBM] [Warning] No further splits with positive gain, best gain: -inf\n",
      "[LightGBM] [Warning] No further splits with positive gain, best gain: -inf\n",
      "[LightGBM] [Warning] No further splits with positive gain, best gain: -inf\n",
      "[LightGBM] [Warning] No further splits with positive gain, best gain: -inf\n",
      "[LightGBM] [Warning] No further splits with positive gain, best gain: -inf\n",
      "[LightGBM] [Warning] No further splits with positive gain, best gain: -inf\n",
      "[LightGBM] [Warning] No further splits with positive gain, best gain: -inf\n",
      "[LightGBM] [Warning] No further splits with positive gain, best gain: -inf\n",
      "[LightGBM] [Warning] No further splits with positive gain, best gain: -inf\n",
      "[LightGBM] [Warning] No further splits with positive gain, best gain: -inf\n",
      "[LightGBM] [Warning] No further splits with positive gain, best gain: -inf\n",
      "[LightGBM] [Warning] No further splits with positive gain, best gain: -inf\n",
      "[LightGBM] [Warning] No further splits with positive gain, best gain: -inf\n",
      "[LightGBM] [Warning] No further splits with positive gain, best gain: -inf\n",
      "[LightGBM] [Warning] No further splits with positive gain, best gain: -inf\n",
      "[LightGBM] [Warning] No further splits with positive gain, best gain: -inf\n",
      "[LightGBM] [Warning] No further splits with positive gain, best gain: -inf\n",
      "[LightGBM] [Warning] No further splits with positive gain, best gain: -inf\n",
      "[LightGBM] [Warning] No further splits with positive gain, best gain: -inf\n",
      "[LightGBM] [Warning] No further splits with positive gain, best gain: -inf\n",
      "[LightGBM] [Warning] No further splits with positive gain, best gain: -inf\n",
      "[LightGBM] [Warning] No further splits with positive gain, best gain: -inf\n",
      "[LightGBM] [Warning] No further splits with positive gain, best gain: -inf\n",
      "[LightGBM] [Warning] No further splits with positive gain, best gain: -inf\n",
      "[LightGBM] [Warning] No further splits with positive gain, best gain: -inf\n",
      "[LightGBM] [Warning] No further splits with positive gain, best gain: -inf\n",
      "[LightGBM] [Warning] No further splits with positive gain, best gain: -inf\n",
      "[LightGBM] [Warning] No further splits with positive gain, best gain: -inf\n",
      "[LightGBM] [Warning] No further splits with positive gain, best gain: -inf\n",
      "[LightGBM] [Warning] No further splits with positive gain, best gain: -inf\n",
      "[LightGBM] [Warning] No further splits with positive gain, best gain: -inf\n",
      "[LightGBM] [Warning] No further splits with positive gain, best gain: -inf\n",
      "[LightGBM] [Warning] No further splits with positive gain, best gain: -inf\n"
     ]
    },
    {
     "name": "stderr",
     "output_type": "stream",
     "text": [
      "[I 2024-05-19 00:10:52,819] Trial 152 finished with value: 0.7558426813420487 and parameters: {'learning_rate': 0.08, 'n_estimators': 50, 'num_leaves': 30, 'max_depth': 5}. Best is trial 141 with value: 0.7780971055198359.\n"
     ]
    },
    {
     "name": "stdout",
     "output_type": "stream",
     "text": [
      "[LightGBM] [Warning] Categorical features with more bins than the configured maximum bin number found.\n",
      "[LightGBM] [Warning] For categorical features, max_bin and max_bin_by_feature may be ignored with a large number of categories.\n"
     ]
    },
    {
     "name": "stderr",
     "output_type": "stream",
     "text": [
      "[I 2024-05-19 00:11:26,991] Trial 153 finished with value: 0.7772260933134352 and parameters: {'learning_rate': 0.08, 'n_estimators': 50, 'num_leaves': 30, 'max_depth': 0}. Best is trial 141 with value: 0.7780971055198359.\n"
     ]
    },
    {
     "name": "stdout",
     "output_type": "stream",
     "text": [
      "[LightGBM] [Warning] Categorical features with more bins than the configured maximum bin number found.\n",
      "[LightGBM] [Warning] For categorical features, max_bin and max_bin_by_feature may be ignored with a large number of categories.\n"
     ]
    },
    {
     "name": "stderr",
     "output_type": "stream",
     "text": [
      "[I 2024-05-19 00:12:05,827] Trial 154 finished with value: 0.7772260933134352 and parameters: {'learning_rate': 0.08, 'n_estimators': 50, 'num_leaves': 30, 'max_depth': 0}. Best is trial 141 with value: 0.7780971055198359.\n"
     ]
    },
    {
     "name": "stdout",
     "output_type": "stream",
     "text": [
      "[LightGBM] [Warning] Categorical features with more bins than the configured maximum bin number found.\n",
      "[LightGBM] [Warning] For categorical features, max_bin and max_bin_by_feature may be ignored with a large number of categories.\n",
      "[LightGBM] [Warning] No further splits with positive gain, best gain: -inf\n",
      "[LightGBM] [Warning] No further splits with positive gain, best gain: -inf\n",
      "[LightGBM] [Warning] No further splits with positive gain, best gain: -inf\n",
      "[LightGBM] [Warning] No further splits with positive gain, best gain: -inf\n",
      "[LightGBM] [Warning] No further splits with positive gain, best gain: -inf\n",
      "[LightGBM] [Warning] No further splits with positive gain, best gain: -inf\n",
      "[LightGBM] [Warning] No further splits with positive gain, best gain: -inf\n",
      "[LightGBM] [Warning] No further splits with positive gain, best gain: -inf\n",
      "[LightGBM] [Warning] No further splits with positive gain, best gain: -inf\n",
      "[LightGBM] [Warning] No further splits with positive gain, best gain: -inf\n",
      "[LightGBM] [Warning] No further splits with positive gain, best gain: -inf\n",
      "[LightGBM] [Warning] No further splits with positive gain, best gain: -inf\n",
      "[LightGBM] [Warning] No further splits with positive gain, best gain: -inf\n",
      "[LightGBM] [Warning] No further splits with positive gain, best gain: -inf\n",
      "[LightGBM] [Warning] No further splits with positive gain, best gain: -inf\n",
      "[LightGBM] [Warning] No further splits with positive gain, best gain: -inf\n",
      "[LightGBM] [Warning] No further splits with positive gain, best gain: -inf\n",
      "[LightGBM] [Warning] No further splits with positive gain, best gain: -inf\n",
      "[LightGBM] [Warning] No further splits with positive gain, best gain: -inf\n",
      "[LightGBM] [Warning] No further splits with positive gain, best gain: -inf\n",
      "[LightGBM] [Warning] No further splits with positive gain, best gain: -inf\n",
      "[LightGBM] [Warning] No further splits with positive gain, best gain: -inf\n",
      "[LightGBM] [Warning] No further splits with positive gain, best gain: -inf\n",
      "[LightGBM] [Warning] No further splits with positive gain, best gain: -inf\n",
      "[LightGBM] [Warning] No further splits with positive gain, best gain: -inf\n",
      "[LightGBM] [Warning] No further splits with positive gain, best gain: -inf\n",
      "[LightGBM] [Warning] No further splits with positive gain, best gain: -inf\n",
      "[LightGBM] [Warning] No further splits with positive gain, best gain: -inf\n",
      "[LightGBM] [Warning] No further splits with positive gain, best gain: -inf\n",
      "[LightGBM] [Warning] No further splits with positive gain, best gain: -inf\n",
      "[LightGBM] [Warning] No further splits with positive gain, best gain: -inf\n",
      "[LightGBM] [Warning] No further splits with positive gain, best gain: -inf\n",
      "[LightGBM] [Warning] No further splits with positive gain, best gain: -inf\n",
      "[LightGBM] [Warning] No further splits with positive gain, best gain: -inf\n",
      "[LightGBM] [Warning] No further splits with positive gain, best gain: -inf\n",
      "[LightGBM] [Warning] No further splits with positive gain, best gain: -inf\n",
      "[LightGBM] [Warning] No further splits with positive gain, best gain: -inf\n",
      "[LightGBM] [Warning] No further splits with positive gain, best gain: -inf\n",
      "[LightGBM] [Warning] No further splits with positive gain, best gain: -inf\n",
      "[LightGBM] [Warning] No further splits with positive gain, best gain: -inf\n",
      "[LightGBM] [Warning] No further splits with positive gain, best gain: -inf\n",
      "[LightGBM] [Warning] No further splits with positive gain, best gain: -inf\n",
      "[LightGBM] [Warning] No further splits with positive gain, best gain: -inf\n"
     ]
    },
    {
     "name": "stderr",
     "output_type": "stream",
     "text": [
      "[I 2024-05-19 00:12:37,513] Trial 155 finished with value: 0.7558426813420487 and parameters: {'learning_rate': 0.08, 'n_estimators': 50, 'num_leaves': 30, 'max_depth': 5}. Best is trial 141 with value: 0.7780971055198359.\n"
     ]
    },
    {
     "name": "stdout",
     "output_type": "stream",
     "text": [
      "[LightGBM] [Warning] Categorical features with more bins than the configured maximum bin number found.\n",
      "[LightGBM] [Warning] For categorical features, max_bin and max_bin_by_feature may be ignored with a large number of categories.\n"
     ]
    },
    {
     "name": "stderr",
     "output_type": "stream",
     "text": [
      "[I 2024-05-19 00:13:10,306] Trial 156 finished with value: 0.7772260933134352 and parameters: {'learning_rate': 0.08, 'n_estimators': 50, 'num_leaves': 30, 'max_depth': 0}. Best is trial 141 with value: 0.7780971055198359.\n"
     ]
    },
    {
     "name": "stdout",
     "output_type": "stream",
     "text": [
      "[LightGBM] [Warning] Categorical features with more bins than the configured maximum bin number found.\n",
      "[LightGBM] [Warning] For categorical features, max_bin and max_bin_by_feature may be ignored with a large number of categories.\n",
      "[LightGBM] [Warning] No further splits with positive gain, best gain: -inf\n",
      "[LightGBM] [Warning] No further splits with positive gain, best gain: -inf\n",
      "[LightGBM] [Warning] No further splits with positive gain, best gain: -inf\n",
      "[LightGBM] [Warning] No further splits with positive gain, best gain: -inf\n",
      "[LightGBM] [Warning] No further splits with positive gain, best gain: -inf\n",
      "[LightGBM] [Warning] No further splits with positive gain, best gain: -inf\n",
      "[LightGBM] [Warning] No further splits with positive gain, best gain: -inf\n",
      "[LightGBM] [Warning] No further splits with positive gain, best gain: -inf\n",
      "[LightGBM] [Warning] No further splits with positive gain, best gain: -inf\n",
      "[LightGBM] [Warning] No further splits with positive gain, best gain: -inf\n",
      "[LightGBM] [Warning] No further splits with positive gain, best gain: -inf\n",
      "[LightGBM] [Warning] No further splits with positive gain, best gain: -inf\n",
      "[LightGBM] [Warning] No further splits with positive gain, best gain: -inf\n",
      "[LightGBM] [Warning] No further splits with positive gain, best gain: -inf\n",
      "[LightGBM] [Warning] No further splits with positive gain, best gain: -inf\n",
      "[LightGBM] [Warning] No further splits with positive gain, best gain: -inf\n",
      "[LightGBM] [Warning] No further splits with positive gain, best gain: -inf\n",
      "[LightGBM] [Warning] No further splits with positive gain, best gain: -inf\n",
      "[LightGBM] [Warning] No further splits with positive gain, best gain: -inf\n",
      "[LightGBM] [Warning] No further splits with positive gain, best gain: -inf\n",
      "[LightGBM] [Warning] No further splits with positive gain, best gain: -inf\n",
      "[LightGBM] [Warning] No further splits with positive gain, best gain: -inf\n",
      "[LightGBM] [Warning] No further splits with positive gain, best gain: -inf\n",
      "[LightGBM] [Warning] No further splits with positive gain, best gain: -inf\n",
      "[LightGBM] [Warning] No further splits with positive gain, best gain: -inf\n",
      "[LightGBM] [Warning] No further splits with positive gain, best gain: -inf\n",
      "[LightGBM] [Warning] No further splits with positive gain, best gain: -inf\n",
      "[LightGBM] [Warning] No further splits with positive gain, best gain: -inf\n",
      "[LightGBM] [Warning] No further splits with positive gain, best gain: -inf\n",
      "[LightGBM] [Warning] No further splits with positive gain, best gain: -inf\n",
      "[LightGBM] [Warning] No further splits with positive gain, best gain: -inf\n",
      "[LightGBM] [Warning] No further splits with positive gain, best gain: -inf\n",
      "[LightGBM] [Warning] No further splits with positive gain, best gain: -inf\n",
      "[LightGBM] [Warning] No further splits with positive gain, best gain: -inf\n",
      "[LightGBM] [Warning] No further splits with positive gain, best gain: -inf\n",
      "[LightGBM] [Warning] No further splits with positive gain, best gain: -inf\n",
      "[LightGBM] [Warning] No further splits with positive gain, best gain: -inf\n",
      "[LightGBM] [Warning] No further splits with positive gain, best gain: -inf\n",
      "[LightGBM] [Warning] No further splits with positive gain, best gain: -inf\n",
      "[LightGBM] [Warning] No further splits with positive gain, best gain: -inf\n",
      "[LightGBM] [Warning] No further splits with positive gain, best gain: -inf\n",
      "[LightGBM] [Warning] No further splits with positive gain, best gain: -inf\n",
      "[LightGBM] [Warning] No further splits with positive gain, best gain: -inf\n"
     ]
    },
    {
     "name": "stderr",
     "output_type": "stream",
     "text": [
      "[I 2024-05-19 00:13:41,138] Trial 157 finished with value: 0.7558426813420487 and parameters: {'learning_rate': 0.08, 'n_estimators': 50, 'num_leaves': 30, 'max_depth': 5}. Best is trial 141 with value: 0.7780971055198359.\n"
     ]
    },
    {
     "name": "stdout",
     "output_type": "stream",
     "text": [
      "[LightGBM] [Warning] Categorical features with more bins than the configured maximum bin number found.\n",
      "[LightGBM] [Warning] For categorical features, max_bin and max_bin_by_feature may be ignored with a large number of categories.\n"
     ]
    },
    {
     "name": "stderr",
     "output_type": "stream",
     "text": [
      "[I 2024-05-19 00:14:04,403] Trial 158 finished with value: 0.7689755775137547 and parameters: {'learning_rate': 0.08, 'n_estimators': 28, 'num_leaves': 30, 'max_depth': 10}. Best is trial 141 with value: 0.7780971055198359.\n"
     ]
    },
    {
     "name": "stdout",
     "output_type": "stream",
     "text": [
      "[LightGBM] [Warning] Categorical features with more bins than the configured maximum bin number found.\n",
      "[LightGBM] [Warning] For categorical features, max_bin and max_bin_by_feature may be ignored with a large number of categories.\n",
      "[LightGBM] [Warning] No further splits with positive gain, best gain: -inf\n",
      "[LightGBM] [Warning] No further splits with positive gain, best gain: -inf\n",
      "[LightGBM] [Warning] No further splits with positive gain, best gain: -inf\n",
      "[LightGBM] [Warning] No further splits with positive gain, best gain: -inf\n",
      "[LightGBM] [Warning] No further splits with positive gain, best gain: -inf\n",
      "[LightGBM] [Warning] No further splits with positive gain, best gain: -inf\n",
      "[LightGBM] [Warning] No further splits with positive gain, best gain: -inf\n",
      "[LightGBM] [Warning] No further splits with positive gain, best gain: -inf\n",
      "[LightGBM] [Warning] No further splits with positive gain, best gain: -inf\n",
      "[LightGBM] [Warning] No further splits with positive gain, best gain: -inf\n",
      "[LightGBM] [Warning] No further splits with positive gain, best gain: -inf\n",
      "[LightGBM] [Warning] No further splits with positive gain, best gain: -inf\n",
      "[LightGBM] [Warning] No further splits with positive gain, best gain: -inf\n",
      "[LightGBM] [Warning] No further splits with positive gain, best gain: -inf\n",
      "[LightGBM] [Warning] No further splits with positive gain, best gain: -inf\n",
      "[LightGBM] [Warning] No further splits with positive gain, best gain: -inf\n",
      "[LightGBM] [Warning] No further splits with positive gain, best gain: -inf\n",
      "[LightGBM] [Warning] No further splits with positive gain, best gain: -inf\n",
      "[LightGBM] [Warning] No further splits with positive gain, best gain: -inf\n",
      "[LightGBM] [Warning] No further splits with positive gain, best gain: -inf\n",
      "[LightGBM] [Warning] No further splits with positive gain, best gain: -inf\n",
      "[LightGBM] [Warning] No further splits with positive gain, best gain: -inf\n",
      "[LightGBM] [Warning] No further splits with positive gain, best gain: -inf\n",
      "[LightGBM] [Warning] No further splits with positive gain, best gain: -inf\n",
      "[LightGBM] [Warning] No further splits with positive gain, best gain: -inf\n",
      "[LightGBM] [Warning] No further splits with positive gain, best gain: -inf\n",
      "[LightGBM] [Warning] No further splits with positive gain, best gain: -inf\n",
      "[LightGBM] [Warning] No further splits with positive gain, best gain: -inf\n",
      "[LightGBM] [Warning] No further splits with positive gain, best gain: -inf\n",
      "[LightGBM] [Warning] No further splits with positive gain, best gain: -inf\n",
      "[LightGBM] [Warning] No further splits with positive gain, best gain: -inf\n",
      "[LightGBM] [Warning] No further splits with positive gain, best gain: -inf\n",
      "[LightGBM] [Warning] No further splits with positive gain, best gain: -inf\n",
      "[LightGBM] [Warning] No further splits with positive gain, best gain: -inf\n",
      "[LightGBM] [Warning] No further splits with positive gain, best gain: -inf\n",
      "[LightGBM] [Warning] No further splits with positive gain, best gain: -inf\n",
      "[LightGBM] [Warning] No further splits with positive gain, best gain: -inf\n",
      "[LightGBM] [Warning] No further splits with positive gain, best gain: -inf\n",
      "[LightGBM] [Warning] No further splits with positive gain, best gain: -inf\n",
      "[LightGBM] [Warning] No further splits with positive gain, best gain: -inf\n",
      "[LightGBM] [Warning] No further splits with positive gain, best gain: -inf\n",
      "[LightGBM] [Warning] No further splits with positive gain, best gain: -inf\n",
      "[LightGBM] [Warning] No further splits with positive gain, best gain: -inf\n",
      "[LightGBM] [Warning] No further splits with positive gain, best gain: -inf\n",
      "[LightGBM] [Warning] No further splits with positive gain, best gain: -inf\n",
      "[LightGBM] [Warning] No further splits with positive gain, best gain: -inf\n",
      "[LightGBM] [Warning] No further splits with positive gain, best gain: -inf\n"
     ]
    },
    {
     "name": "stderr",
     "output_type": "stream",
     "text": [
      "[I 2024-05-19 00:14:35,634] Trial 159 finished with value: 0.7516434965066816 and parameters: {'learning_rate': 0.06999999999999999, 'n_estimators': 50, 'num_leaves': 30, 'max_depth': 5}. Best is trial 141 with value: 0.7780971055198359.\n"
     ]
    },
    {
     "name": "stdout",
     "output_type": "stream",
     "text": [
      "[LightGBM] [Warning] Categorical features with more bins than the configured maximum bin number found.\n",
      "[LightGBM] [Warning] For categorical features, max_bin and max_bin_by_feature may be ignored with a large number of categories.\n",
      "[LightGBM] [Warning] No further splits with positive gain, best gain: -inf\n",
      "[LightGBM] [Warning] No further splits with positive gain, best gain: -inf\n",
      "[LightGBM] [Warning] No further splits with positive gain, best gain: -inf\n",
      "[LightGBM] [Warning] No further splits with positive gain, best gain: -inf\n",
      "[LightGBM] [Warning] No further splits with positive gain, best gain: -inf\n",
      "[LightGBM] [Warning] No further splits with positive gain, best gain: -inf\n",
      "[LightGBM] [Warning] No further splits with positive gain, best gain: -inf\n",
      "[LightGBM] [Warning] No further splits with positive gain, best gain: -inf\n",
      "[LightGBM] [Warning] No further splits with positive gain, best gain: -inf\n",
      "[LightGBM] [Warning] No further splits with positive gain, best gain: -inf\n",
      "[LightGBM] [Warning] No further splits with positive gain, best gain: -inf\n",
      "[LightGBM] [Warning] No further splits with positive gain, best gain: -inf\n",
      "[LightGBM] [Warning] No further splits with positive gain, best gain: -inf\n",
      "[LightGBM] [Warning] No further splits with positive gain, best gain: -inf\n",
      "[LightGBM] [Warning] No further splits with positive gain, best gain: -inf\n",
      "[LightGBM] [Warning] No further splits with positive gain, best gain: -inf\n",
      "[LightGBM] [Warning] No further splits with positive gain, best gain: -inf\n",
      "[LightGBM] [Warning] No further splits with positive gain, best gain: -inf\n",
      "[LightGBM] [Warning] No further splits with positive gain, best gain: -inf\n",
      "[LightGBM] [Warning] No further splits with positive gain, best gain: -inf\n",
      "[LightGBM] [Warning] No further splits with positive gain, best gain: -inf\n",
      "[LightGBM] [Warning] No further splits with positive gain, best gain: -inf\n",
      "[LightGBM] [Warning] No further splits with positive gain, best gain: -inf\n",
      "[LightGBM] [Warning] No further splits with positive gain, best gain: -inf\n",
      "[LightGBM] [Warning] No further splits with positive gain, best gain: -inf\n",
      "[LightGBM] [Warning] No further splits with positive gain, best gain: -inf\n",
      "[LightGBM] [Warning] No further splits with positive gain, best gain: -inf\n",
      "[LightGBM] [Warning] No further splits with positive gain, best gain: -inf\n",
      "[LightGBM] [Warning] No further splits with positive gain, best gain: -inf\n",
      "[LightGBM] [Warning] No further splits with positive gain, best gain: -inf\n",
      "[LightGBM] [Warning] No further splits with positive gain, best gain: -inf\n",
      "[LightGBM] [Warning] No further splits with positive gain, best gain: -inf\n",
      "[LightGBM] [Warning] No further splits with positive gain, best gain: -inf\n",
      "[LightGBM] [Warning] No further splits with positive gain, best gain: -inf\n",
      "[LightGBM] [Warning] No further splits with positive gain, best gain: -inf\n",
      "[LightGBM] [Warning] No further splits with positive gain, best gain: -inf\n",
      "[LightGBM] [Warning] No further splits with positive gain, best gain: -inf\n",
      "[LightGBM] [Warning] No further splits with positive gain, best gain: -inf\n",
      "[LightGBM] [Warning] No further splits with positive gain, best gain: -inf\n",
      "[LightGBM] [Warning] No further splits with positive gain, best gain: -inf\n",
      "[LightGBM] [Warning] No further splits with positive gain, best gain: -inf\n",
      "[LightGBM] [Warning] No further splits with positive gain, best gain: -inf\n",
      "[LightGBM] [Warning] No further splits with positive gain, best gain: -inf\n",
      "[LightGBM] [Warning] No further splits with positive gain, best gain: -inf\n",
      "[LightGBM] [Warning] No further splits with positive gain, best gain: -inf\n",
      "[LightGBM] [Warning] No further splits with positive gain, best gain: -inf\n",
      "[LightGBM] [Warning] No further splits with positive gain, best gain: -inf\n",
      "[LightGBM] [Warning] No further splits with positive gain, best gain: -inf\n",
      "[LightGBM] [Warning] No further splits with positive gain, best gain: -inf\n",
      "[LightGBM] [Warning] No further splits with positive gain, best gain: -inf\n"
     ]
    },
    {
     "name": "stderr",
     "output_type": "stream",
     "text": [
      "[I 2024-05-19 00:15:05,933] Trial 160 finished with value: 0.742773065257412 and parameters: {'learning_rate': 0.05, 'n_estimators': 50, 'num_leaves': 30, 'max_depth': 5}. Best is trial 141 with value: 0.7780971055198359.\n"
     ]
    },
    {
     "name": "stdout",
     "output_type": "stream",
     "text": [
      "[LightGBM] [Warning] Categorical features with more bins than the configured maximum bin number found.\n",
      "[LightGBM] [Warning] For categorical features, max_bin and max_bin_by_feature may be ignored with a large number of categories.\n"
     ]
    },
    {
     "name": "stderr",
     "output_type": "stream",
     "text": [
      "[I 2024-05-19 00:15:39,187] Trial 161 finished with value: 0.7772260933134352 and parameters: {'learning_rate': 0.08, 'n_estimators': 50, 'num_leaves': 30, 'max_depth': 0}. Best is trial 141 with value: 0.7780971055198359.\n"
     ]
    },
    {
     "name": "stdout",
     "output_type": "stream",
     "text": [
      "[LightGBM] [Warning] Categorical features with more bins than the configured maximum bin number found.\n",
      "[LightGBM] [Warning] For categorical features, max_bin and max_bin_by_feature may be ignored with a large number of categories.\n"
     ]
    },
    {
     "name": "stderr",
     "output_type": "stream",
     "text": [
      "[I 2024-05-19 00:16:12,300] Trial 162 finished with value: 0.7772260933134352 and parameters: {'learning_rate': 0.08, 'n_estimators': 50, 'num_leaves': 30, 'max_depth': 0}. Best is trial 141 with value: 0.7780971055198359.\n"
     ]
    },
    {
     "name": "stdout",
     "output_type": "stream",
     "text": [
      "[LightGBM] [Warning] Categorical features with more bins than the configured maximum bin number found.\n",
      "[LightGBM] [Warning] For categorical features, max_bin and max_bin_by_feature may be ignored with a large number of categories.\n"
     ]
    },
    {
     "name": "stderr",
     "output_type": "stream",
     "text": [
      "[I 2024-05-19 00:16:46,533] Trial 163 finished with value: 0.7772260933134352 and parameters: {'learning_rate': 0.08, 'n_estimators': 50, 'num_leaves': 30, 'max_depth': 0}. Best is trial 141 with value: 0.7780971055198359.\n"
     ]
    },
    {
     "name": "stdout",
     "output_type": "stream",
     "text": [
      "[LightGBM] [Warning] Categorical features with more bins than the configured maximum bin number found.\n",
      "[LightGBM] [Warning] For categorical features, max_bin and max_bin_by_feature may be ignored with a large number of categories.\n"
     ]
    },
    {
     "name": "stderr",
     "output_type": "stream",
     "text": [
      "[I 2024-05-19 00:17:18,445] Trial 164 finished with value: 0.7777906361918567 and parameters: {'learning_rate': 0.08, 'n_estimators': 48, 'num_leaves': 30, 'max_depth': 10}. Best is trial 141 with value: 0.7780971055198359.\n"
     ]
    },
    {
     "name": "stdout",
     "output_type": "stream",
     "text": [
      "[LightGBM] [Warning] Categorical features with more bins than the configured maximum bin number found.\n",
      "[LightGBM] [Warning] For categorical features, max_bin and max_bin_by_feature may be ignored with a large number of categories.\n"
     ]
    },
    {
     "name": "stderr",
     "output_type": "stream",
     "text": [
      "[I 2024-05-19 00:17:50,265] Trial 165 finished with value: 0.7777906361918567 and parameters: {'learning_rate': 0.08, 'n_estimators': 48, 'num_leaves': 30, 'max_depth': 10}. Best is trial 141 with value: 0.7780971055198359.\n"
     ]
    },
    {
     "name": "stdout",
     "output_type": "stream",
     "text": [
      "[LightGBM] [Warning] Categorical features with more bins than the configured maximum bin number found.\n",
      "[LightGBM] [Warning] For categorical features, max_bin and max_bin_by_feature may be ignored with a large number of categories.\n"
     ]
    },
    {
     "name": "stderr",
     "output_type": "stream",
     "text": [
      "[I 2024-05-19 00:18:21,647] Trial 166 finished with value: 0.7767898582259006 and parameters: {'learning_rate': 0.08, 'n_estimators': 48, 'num_leaves': 28, 'max_depth': 10}. Best is trial 141 with value: 0.7780971055198359.\n"
     ]
    },
    {
     "name": "stdout",
     "output_type": "stream",
     "text": [
      "[LightGBM] [Warning] Categorical features with more bins than the configured maximum bin number found.\n",
      "[LightGBM] [Warning] For categorical features, max_bin and max_bin_by_feature may be ignored with a large number of categories.\n"
     ]
    },
    {
     "name": "stderr",
     "output_type": "stream",
     "text": [
      "[I 2024-05-19 00:18:53,508] Trial 167 finished with value: 0.7777906361918567 and parameters: {'learning_rate': 0.08, 'n_estimators': 48, 'num_leaves': 30, 'max_depth': 10}. Best is trial 141 with value: 0.7780971055198359.\n"
     ]
    },
    {
     "name": "stdout",
     "output_type": "stream",
     "text": [
      "[LightGBM] [Warning] Categorical features with more bins than the configured maximum bin number found.\n",
      "[LightGBM] [Warning] For categorical features, max_bin and max_bin_by_feature may be ignored with a large number of categories.\n"
     ]
    },
    {
     "name": "stderr",
     "output_type": "stream",
     "text": [
      "[I 2024-05-19 00:19:25,965] Trial 168 finished with value: 0.7777906361918567 and parameters: {'learning_rate': 0.08, 'n_estimators': 48, 'num_leaves': 30, 'max_depth': 10}. Best is trial 141 with value: 0.7780971055198359.\n"
     ]
    },
    {
     "name": "stdout",
     "output_type": "stream",
     "text": [
      "[LightGBM] [Warning] Categorical features with more bins than the configured maximum bin number found.\n",
      "[LightGBM] [Warning] For categorical features, max_bin and max_bin_by_feature may be ignored with a large number of categories.\n"
     ]
    },
    {
     "name": "stderr",
     "output_type": "stream",
     "text": [
      "[I 2024-05-19 00:19:58,513] Trial 169 finished with value: 0.7777906361918567 and parameters: {'learning_rate': 0.08, 'n_estimators': 48, 'num_leaves': 30, 'max_depth': 10}. Best is trial 141 with value: 0.7780971055198359.\n"
     ]
    },
    {
     "name": "stdout",
     "output_type": "stream",
     "text": [
      "[LightGBM] [Warning] Categorical features with more bins than the configured maximum bin number found.\n",
      "[LightGBM] [Warning] For categorical features, max_bin and max_bin_by_feature may be ignored with a large number of categories.\n"
     ]
    },
    {
     "name": "stderr",
     "output_type": "stream",
     "text": [
      "[I 2024-05-19 00:20:30,279] Trial 170 finished with value: 0.7767898582259006 and parameters: {'learning_rate': 0.08, 'n_estimators': 48, 'num_leaves': 28, 'max_depth': 10}. Best is trial 141 with value: 0.7780971055198359.\n"
     ]
    },
    {
     "name": "stdout",
     "output_type": "stream",
     "text": [
      "[LightGBM] [Warning] Categorical features with more bins than the configured maximum bin number found.\n",
      "[LightGBM] [Warning] For categorical features, max_bin and max_bin_by_feature may be ignored with a large number of categories.\n"
     ]
    },
    {
     "name": "stderr",
     "output_type": "stream",
     "text": [
      "[I 2024-05-19 00:21:01,896] Trial 171 finished with value: 0.7777906361918567 and parameters: {'learning_rate': 0.08, 'n_estimators': 48, 'num_leaves': 30, 'max_depth': 10}. Best is trial 141 with value: 0.7780971055198359.\n"
     ]
    },
    {
     "name": "stdout",
     "output_type": "stream",
     "text": [
      "[LightGBM] [Warning] Categorical features with more bins than the configured maximum bin number found.\n",
      "[LightGBM] [Warning] For categorical features, max_bin and max_bin_by_feature may be ignored with a large number of categories.\n"
     ]
    },
    {
     "name": "stderr",
     "output_type": "stream",
     "text": [
      "[I 2024-05-19 00:21:33,593] Trial 172 finished with value: 0.7777906361918567 and parameters: {'learning_rate': 0.08, 'n_estimators': 48, 'num_leaves': 30, 'max_depth': 10}. Best is trial 141 with value: 0.7780971055198359.\n"
     ]
    },
    {
     "name": "stdout",
     "output_type": "stream",
     "text": [
      "[LightGBM] [Warning] Categorical features with more bins than the configured maximum bin number found.\n",
      "[LightGBM] [Warning] For categorical features, max_bin and max_bin_by_feature may be ignored with a large number of categories.\n"
     ]
    },
    {
     "name": "stderr",
     "output_type": "stream",
     "text": [
      "[I 2024-05-19 00:22:05,071] Trial 173 finished with value: 0.7777906361918567 and parameters: {'learning_rate': 0.08, 'n_estimators': 48, 'num_leaves': 30, 'max_depth': 10}. Best is trial 141 with value: 0.7780971055198359.\n"
     ]
    },
    {
     "name": "stdout",
     "output_type": "stream",
     "text": [
      "[LightGBM] [Warning] Categorical features with more bins than the configured maximum bin number found.\n",
      "[LightGBM] [Warning] For categorical features, max_bin and max_bin_by_feature may be ignored with a large number of categories.\n"
     ]
    },
    {
     "name": "stderr",
     "output_type": "stream",
     "text": [
      "[I 2024-05-19 00:22:37,071] Trial 174 finished with value: 0.7777906361918567 and parameters: {'learning_rate': 0.08, 'n_estimators': 48, 'num_leaves': 30, 'max_depth': 10}. Best is trial 141 with value: 0.7780971055198359.\n"
     ]
    },
    {
     "name": "stdout",
     "output_type": "stream",
     "text": [
      "[LightGBM] [Warning] Categorical features with more bins than the configured maximum bin number found.\n",
      "[LightGBM] [Warning] For categorical features, max_bin and max_bin_by_feature may be ignored with a large number of categories.\n"
     ]
    },
    {
     "name": "stderr",
     "output_type": "stream",
     "text": [
      "[I 2024-05-19 00:23:07,646] Trial 175 finished with value: 0.7769694613723064 and parameters: {'learning_rate': 0.08, 'n_estimators': 46, 'num_leaves': 30, 'max_depth': 10}. Best is trial 141 with value: 0.7780971055198359.\n"
     ]
    },
    {
     "name": "stdout",
     "output_type": "stream",
     "text": [
      "[LightGBM] [Warning] Categorical features with more bins than the configured maximum bin number found.\n",
      "[LightGBM] [Warning] For categorical features, max_bin and max_bin_by_feature may be ignored with a large number of categories.\n"
     ]
    },
    {
     "name": "stderr",
     "output_type": "stream",
     "text": [
      "[I 2024-05-19 00:23:39,563] Trial 176 finished with value: 0.7777906361918567 and parameters: {'learning_rate': 0.08, 'n_estimators': 48, 'num_leaves': 30, 'max_depth': 10}. Best is trial 141 with value: 0.7780971055198359.\n"
     ]
    },
    {
     "name": "stdout",
     "output_type": "stream",
     "text": [
      "[LightGBM] [Warning] Categorical features with more bins than the configured maximum bin number found.\n",
      "[LightGBM] [Warning] For categorical features, max_bin and max_bin_by_feature may be ignored with a large number of categories.\n"
     ]
    },
    {
     "name": "stderr",
     "output_type": "stream",
     "text": [
      "[I 2024-05-19 00:24:10,361] Trial 177 finished with value: 0.7763322959272666 and parameters: {'learning_rate': 0.08, 'n_estimators': 46, 'num_leaves': 28, 'max_depth': 10}. Best is trial 141 with value: 0.7780971055198359.\n"
     ]
    },
    {
     "name": "stdout",
     "output_type": "stream",
     "text": [
      "[LightGBM] [Warning] Categorical features with more bins than the configured maximum bin number found.\n",
      "[LightGBM] [Warning] For categorical features, max_bin and max_bin_by_feature may be ignored with a large number of categories.\n"
     ]
    },
    {
     "name": "stderr",
     "output_type": "stream",
     "text": [
      "[I 2024-05-19 00:24:42,093] Trial 178 finished with value: 0.7777906361918567 and parameters: {'learning_rate': 0.08, 'n_estimators': 48, 'num_leaves': 30, 'max_depth': 10}. Best is trial 141 with value: 0.7780971055198359.\n"
     ]
    },
    {
     "name": "stdout",
     "output_type": "stream",
     "text": [
      "[LightGBM] [Warning] Categorical features with more bins than the configured maximum bin number found.\n",
      "[LightGBM] [Warning] For categorical features, max_bin and max_bin_by_feature may be ignored with a large number of categories.\n"
     ]
    },
    {
     "name": "stderr",
     "output_type": "stream",
     "text": [
      "[I 2024-05-19 00:25:13,711] Trial 179 finished with value: 0.7773234742242215 and parameters: {'learning_rate': 0.08, 'n_estimators': 48, 'num_leaves': 30, 'max_depth': 15}. Best is trial 141 with value: 0.7780971055198359.\n"
     ]
    },
    {
     "name": "stdout",
     "output_type": "stream",
     "text": [
      "[LightGBM] [Warning] Categorical features with more bins than the configured maximum bin number found.\n",
      "[LightGBM] [Warning] For categorical features, max_bin and max_bin_by_feature may be ignored with a large number of categories.\n"
     ]
    },
    {
     "name": "stderr",
     "output_type": "stream",
     "text": [
      "[I 2024-05-19 00:25:44,201] Trial 180 finished with value: 0.7763322959272666 and parameters: {'learning_rate': 0.08, 'n_estimators': 46, 'num_leaves': 28, 'max_depth': 10}. Best is trial 141 with value: 0.7780971055198359.\n"
     ]
    },
    {
     "name": "stdout",
     "output_type": "stream",
     "text": [
      "[LightGBM] [Warning] Categorical features with more bins than the configured maximum bin number found.\n",
      "[LightGBM] [Warning] For categorical features, max_bin and max_bin_by_feature may be ignored with a large number of categories.\n"
     ]
    },
    {
     "name": "stderr",
     "output_type": "stream",
     "text": [
      "[I 2024-05-19 00:26:15,639] Trial 181 finished with value: 0.7777906361918567 and parameters: {'learning_rate': 0.08, 'n_estimators': 48, 'num_leaves': 30, 'max_depth': 10}. Best is trial 141 with value: 0.7780971055198359.\n"
     ]
    },
    {
     "name": "stdout",
     "output_type": "stream",
     "text": [
      "[LightGBM] [Warning] Categorical features with more bins than the configured maximum bin number found.\n",
      "[LightGBM] [Warning] For categorical features, max_bin and max_bin_by_feature may be ignored with a large number of categories.\n"
     ]
    },
    {
     "name": "stderr",
     "output_type": "stream",
     "text": [
      "[I 2024-05-19 00:26:46,964] Trial 182 finished with value: 0.7773234742242215 and parameters: {'learning_rate': 0.08, 'n_estimators': 48, 'num_leaves': 30, 'max_depth': 15}. Best is trial 141 with value: 0.7780971055198359.\n"
     ]
    },
    {
     "name": "stdout",
     "output_type": "stream",
     "text": [
      "[LightGBM] [Warning] Categorical features with more bins than the configured maximum bin number found.\n",
      "[LightGBM] [Warning] For categorical features, max_bin and max_bin_by_feature may be ignored with a large number of categories.\n"
     ]
    },
    {
     "name": "stderr",
     "output_type": "stream",
     "text": [
      "[I 2024-05-19 00:27:18,785] Trial 183 finished with value: 0.7777906361918567 and parameters: {'learning_rate': 0.08, 'n_estimators': 48, 'num_leaves': 30, 'max_depth': 10}. Best is trial 141 with value: 0.7780971055198359.\n"
     ]
    },
    {
     "name": "stdout",
     "output_type": "stream",
     "text": [
      "[LightGBM] [Warning] Categorical features with more bins than the configured maximum bin number found.\n",
      "[LightGBM] [Warning] For categorical features, max_bin and max_bin_by_feature may be ignored with a large number of categories.\n",
      "[LightGBM] [Warning] No further splits with positive gain, best gain: -inf\n",
      "[LightGBM] [Warning] No further splits with positive gain, best gain: -inf\n",
      "[LightGBM] [Warning] No further splits with positive gain, best gain: -inf\n",
      "[LightGBM] [Warning] No further splits with positive gain, best gain: -inf\n",
      "[LightGBM] [Warning] No further splits with positive gain, best gain: -inf\n",
      "[LightGBM] [Warning] No further splits with positive gain, best gain: -inf\n",
      "[LightGBM] [Warning] No further splits with positive gain, best gain: -inf\n",
      "[LightGBM] [Warning] No further splits with positive gain, best gain: -inf\n",
      "[LightGBM] [Warning] No further splits with positive gain, best gain: -inf\n",
      "[LightGBM] [Warning] No further splits with positive gain, best gain: -inf\n",
      "[LightGBM] [Warning] No further splits with positive gain, best gain: -inf\n",
      "[LightGBM] [Warning] No further splits with positive gain, best gain: -inf\n",
      "[LightGBM] [Warning] No further splits with positive gain, best gain: -inf\n",
      "[LightGBM] [Warning] No further splits with positive gain, best gain: -inf\n",
      "[LightGBM] [Warning] No further splits with positive gain, best gain: -inf\n",
      "[LightGBM] [Warning] No further splits with positive gain, best gain: -inf\n",
      "[LightGBM] [Warning] No further splits with positive gain, best gain: -inf\n",
      "[LightGBM] [Warning] No further splits with positive gain, best gain: -inf\n",
      "[LightGBM] [Warning] No further splits with positive gain, best gain: -inf\n",
      "[LightGBM] [Warning] No further splits with positive gain, best gain: -inf\n",
      "[LightGBM] [Warning] No further splits with positive gain, best gain: -inf\n",
      "[LightGBM] [Warning] No further splits with positive gain, best gain: -inf\n",
      "[LightGBM] [Warning] No further splits with positive gain, best gain: -inf\n",
      "[LightGBM] [Warning] No further splits with positive gain, best gain: -inf\n",
      "[LightGBM] [Warning] No further splits with positive gain, best gain: -inf\n",
      "[LightGBM] [Warning] No further splits with positive gain, best gain: -inf\n",
      "[LightGBM] [Warning] No further splits with positive gain, best gain: -inf\n",
      "[LightGBM] [Warning] No further splits with positive gain, best gain: -inf\n",
      "[LightGBM] [Warning] No further splits with positive gain, best gain: -inf\n",
      "[LightGBM] [Warning] No further splits with positive gain, best gain: -inf\n",
      "[LightGBM] [Warning] No further splits with positive gain, best gain: -inf\n",
      "[LightGBM] [Warning] No further splits with positive gain, best gain: -inf\n",
      "[LightGBM] [Warning] No further splits with positive gain, best gain: -inf\n",
      "[LightGBM] [Warning] No further splits with positive gain, best gain: -inf\n",
      "[LightGBM] [Warning] No further splits with positive gain, best gain: -inf\n",
      "[LightGBM] [Warning] No further splits with positive gain, best gain: -inf\n",
      "[LightGBM] [Warning] No further splits with positive gain, best gain: -inf\n",
      "[LightGBM] [Warning] No further splits with positive gain, best gain: -inf\n",
      "[LightGBM] [Warning] No further splits with positive gain, best gain: -inf\n",
      "[LightGBM] [Warning] No further splits with positive gain, best gain: -inf\n",
      "[LightGBM] [Warning] No further splits with positive gain, best gain: -inf\n"
     ]
    },
    {
     "name": "stderr",
     "output_type": "stream",
     "text": [
      "[I 2024-05-19 00:27:48,097] Trial 184 finished with value: 0.7561439805207614 and parameters: {'learning_rate': 0.08, 'n_estimators': 48, 'num_leaves': 30, 'max_depth': 5}. Best is trial 141 with value: 0.7780971055198359.\n"
     ]
    },
    {
     "name": "stdout",
     "output_type": "stream",
     "text": [
      "[LightGBM] [Warning] Categorical features with more bins than the configured maximum bin number found.\n",
      "[LightGBM] [Warning] For categorical features, max_bin and max_bin_by_feature may be ignored with a large number of categories.\n"
     ]
    },
    {
     "name": "stderr",
     "output_type": "stream",
     "text": [
      "[I 2024-05-19 00:28:19,581] Trial 185 finished with value: 0.7777906361918567 and parameters: {'learning_rate': 0.08, 'n_estimators': 48, 'num_leaves': 30, 'max_depth': 10}. Best is trial 141 with value: 0.7780971055198359.\n"
     ]
    },
    {
     "name": "stdout",
     "output_type": "stream",
     "text": [
      "[LightGBM] [Warning] Categorical features with more bins than the configured maximum bin number found.\n",
      "[LightGBM] [Warning] For categorical features, max_bin and max_bin_by_feature may be ignored with a large number of categories.\n"
     ]
    },
    {
     "name": "stderr",
     "output_type": "stream",
     "text": [
      "[I 2024-05-19 00:28:49,966] Trial 186 finished with value: 0.77649502956863 and parameters: {'learning_rate': 0.08, 'n_estimators': 46, 'num_leaves': 30, 'max_depth': 15}. Best is trial 141 with value: 0.7780971055198359.\n"
     ]
    },
    {
     "name": "stdout",
     "output_type": "stream",
     "text": [
      "[LightGBM] [Warning] Categorical features with more bins than the configured maximum bin number found.\n",
      "[LightGBM] [Warning] For categorical features, max_bin and max_bin_by_feature may be ignored with a large number of categories.\n"
     ]
    },
    {
     "name": "stderr",
     "output_type": "stream",
     "text": [
      "[I 2024-05-19 00:29:23,304] Trial 187 finished with value: 0.7773234742242215 and parameters: {'learning_rate': 0.08, 'n_estimators': 48, 'num_leaves': 30, 'max_depth': 15}. Best is trial 141 with value: 0.7780971055198359.\n"
     ]
    },
    {
     "name": "stdout",
     "output_type": "stream",
     "text": [
      "[LightGBM] [Warning] Categorical features with more bins than the configured maximum bin number found.\n",
      "[LightGBM] [Warning] For categorical features, max_bin and max_bin_by_feature may be ignored with a large number of categories.\n"
     ]
    },
    {
     "name": "stderr",
     "output_type": "stream",
     "text": [
      "[I 2024-05-19 00:29:53,774] Trial 188 finished with value: 0.7763322959272666 and parameters: {'learning_rate': 0.08, 'n_estimators': 46, 'num_leaves': 28, 'max_depth': 10}. Best is trial 141 with value: 0.7780971055198359.\n"
     ]
    },
    {
     "name": "stdout",
     "output_type": "stream",
     "text": [
      "[LightGBM] [Warning] Categorical features with more bins than the configured maximum bin number found.\n",
      "[LightGBM] [Warning] For categorical features, max_bin and max_bin_by_feature may be ignored with a large number of categories.\n",
      "[LightGBM] [Warning] No further splits with positive gain, best gain: -inf\n",
      "[LightGBM] [Warning] No further splits with positive gain, best gain: -inf\n",
      "[LightGBM] [Warning] No further splits with positive gain, best gain: -inf\n",
      "[LightGBM] [Warning] No further splits with positive gain, best gain: -inf\n",
      "[LightGBM] [Warning] No further splits with positive gain, best gain: -inf\n",
      "[LightGBM] [Warning] No further splits with positive gain, best gain: -inf\n",
      "[LightGBM] [Warning] No further splits with positive gain, best gain: -inf\n",
      "[LightGBM] [Warning] No further splits with positive gain, best gain: -inf\n",
      "[LightGBM] [Warning] No further splits with positive gain, best gain: -inf\n",
      "[LightGBM] [Warning] No further splits with positive gain, best gain: -inf\n",
      "[LightGBM] [Warning] No further splits with positive gain, best gain: -inf\n",
      "[LightGBM] [Warning] No further splits with positive gain, best gain: -inf\n",
      "[LightGBM] [Warning] No further splits with positive gain, best gain: -inf\n",
      "[LightGBM] [Warning] No further splits with positive gain, best gain: -inf\n",
      "[LightGBM] [Warning] No further splits with positive gain, best gain: -inf\n",
      "[LightGBM] [Warning] No further splits with positive gain, best gain: -inf\n",
      "[LightGBM] [Warning] No further splits with positive gain, best gain: -inf\n",
      "[LightGBM] [Warning] No further splits with positive gain, best gain: -inf\n",
      "[LightGBM] [Warning] No further splits with positive gain, best gain: -inf\n",
      "[LightGBM] [Warning] No further splits with positive gain, best gain: -inf\n",
      "[LightGBM] [Warning] No further splits with positive gain, best gain: -inf\n",
      "[LightGBM] [Warning] No further splits with positive gain, best gain: -inf\n",
      "[LightGBM] [Warning] No further splits with positive gain, best gain: -inf\n",
      "[LightGBM] [Warning] No further splits with positive gain, best gain: -inf\n",
      "[LightGBM] [Warning] No further splits with positive gain, best gain: -inf\n",
      "[LightGBM] [Warning] No further splits with positive gain, best gain: -inf\n",
      "[LightGBM] [Warning] No further splits with positive gain, best gain: -inf\n",
      "[LightGBM] [Warning] No further splits with positive gain, best gain: -inf\n",
      "[LightGBM] [Warning] No further splits with positive gain, best gain: -inf\n",
      "[LightGBM] [Warning] No further splits with positive gain, best gain: -inf\n",
      "[LightGBM] [Warning] No further splits with positive gain, best gain: -inf\n",
      "[LightGBM] [Warning] No further splits with positive gain, best gain: -inf\n",
      "[LightGBM] [Warning] No further splits with positive gain, best gain: -inf\n",
      "[LightGBM] [Warning] No further splits with positive gain, best gain: -inf\n",
      "[LightGBM] [Warning] No further splits with positive gain, best gain: -inf\n",
      "[LightGBM] [Warning] No further splits with positive gain, best gain: -inf\n",
      "[LightGBM] [Warning] No further splits with positive gain, best gain: -inf\n",
      "[LightGBM] [Warning] No further splits with positive gain, best gain: -inf\n",
      "[LightGBM] [Warning] No further splits with positive gain, best gain: -inf\n",
      "[LightGBM] [Warning] No further splits with positive gain, best gain: -inf\n"
     ]
    },
    {
     "name": "stderr",
     "output_type": "stream",
     "text": [
      "[I 2024-05-19 00:30:22,958] Trial 189 finished with value: 0.7561439805207614 and parameters: {'learning_rate': 0.08, 'n_estimators': 48, 'num_leaves': 30, 'max_depth': 5}. Best is trial 141 with value: 0.7780971055198359.\n"
     ]
    },
    {
     "name": "stdout",
     "output_type": "stream",
     "text": [
      "[LightGBM] [Warning] No further splits with positive gain, best gain: -inf\n",
      "[LightGBM] [Warning] Categorical features with more bins than the configured maximum bin number found.\n",
      "[LightGBM] [Warning] For categorical features, max_bin and max_bin_by_feature may be ignored with a large number of categories.\n"
     ]
    },
    {
     "name": "stderr",
     "output_type": "stream",
     "text": [
      "[I 2024-05-19 00:30:54,572] Trial 190 finished with value: 0.7777906361918567 and parameters: {'learning_rate': 0.08, 'n_estimators': 48, 'num_leaves': 30, 'max_depth': 10}. Best is trial 141 with value: 0.7780971055198359.\n"
     ]
    },
    {
     "name": "stdout",
     "output_type": "stream",
     "text": [
      "[LightGBM] [Warning] Categorical features with more bins than the configured maximum bin number found.\n",
      "[LightGBM] [Warning] For categorical features, max_bin and max_bin_by_feature may be ignored with a large number of categories.\n"
     ]
    },
    {
     "name": "stderr",
     "output_type": "stream",
     "text": [
      "[I 2024-05-19 00:31:26,240] Trial 191 finished with value: 0.7777906361918567 and parameters: {'learning_rate': 0.08, 'n_estimators': 48, 'num_leaves': 30, 'max_depth': 10}. Best is trial 141 with value: 0.7780971055198359.\n"
     ]
    },
    {
     "name": "stdout",
     "output_type": "stream",
     "text": [
      "[LightGBM] [Warning] Categorical features with more bins than the configured maximum bin number found.\n",
      "[LightGBM] [Warning] For categorical features, max_bin and max_bin_by_feature may be ignored with a large number of categories.\n"
     ]
    },
    {
     "name": "stderr",
     "output_type": "stream",
     "text": [
      "[I 2024-05-19 00:31:57,837] Trial 192 finished with value: 0.7777906361918567 and parameters: {'learning_rate': 0.08, 'n_estimators': 48, 'num_leaves': 30, 'max_depth': 10}. Best is trial 141 with value: 0.7780971055198359.\n"
     ]
    },
    {
     "name": "stdout",
     "output_type": "stream",
     "text": [
      "[LightGBM] [Warning] Categorical features with more bins than the configured maximum bin number found.\n",
      "[LightGBM] [Warning] For categorical features, max_bin and max_bin_by_feature may be ignored with a large number of categories.\n"
     ]
    },
    {
     "name": "stderr",
     "output_type": "stream",
     "text": [
      "[I 2024-05-19 00:32:28,733] Trial 193 finished with value: 0.7769694613723064 and parameters: {'learning_rate': 0.08, 'n_estimators': 46, 'num_leaves': 30, 'max_depth': 10}. Best is trial 141 with value: 0.7780971055198359.\n"
     ]
    },
    {
     "name": "stdout",
     "output_type": "stream",
     "text": [
      "[LightGBM] [Warning] Categorical features with more bins than the configured maximum bin number found.\n",
      "[LightGBM] [Warning] For categorical features, max_bin and max_bin_by_feature may be ignored with a large number of categories.\n",
      "[LightGBM] [Warning] No further splits with positive gain, best gain: -inf\n",
      "[LightGBM] [Warning] No further splits with positive gain, best gain: -inf\n",
      "[LightGBM] [Warning] No further splits with positive gain, best gain: -inf\n",
      "[LightGBM] [Warning] No further splits with positive gain, best gain: -inf\n",
      "[LightGBM] [Warning] No further splits with positive gain, best gain: -inf\n",
      "[LightGBM] [Warning] No further splits with positive gain, best gain: -inf\n",
      "[LightGBM] [Warning] No further splits with positive gain, best gain: -inf\n",
      "[LightGBM] [Warning] No further splits with positive gain, best gain: -inf\n",
      "[LightGBM] [Warning] No further splits with positive gain, best gain: -inf\n",
      "[LightGBM] [Warning] No further splits with positive gain, best gain: -inf\n",
      "[LightGBM] [Warning] No further splits with positive gain, best gain: -inf\n",
      "[LightGBM] [Warning] No further splits with positive gain, best gain: -inf\n",
      "[LightGBM] [Warning] No further splits with positive gain, best gain: -inf\n",
      "[LightGBM] [Warning] No further splits with positive gain, best gain: -inf\n",
      "[LightGBM] [Warning] No further splits with positive gain, best gain: -inf\n",
      "[LightGBM] [Warning] No further splits with positive gain, best gain: -inf\n",
      "[LightGBM] [Warning] No further splits with positive gain, best gain: -inf\n",
      "[LightGBM] [Warning] No further splits with positive gain, best gain: -inf\n",
      "[LightGBM] [Warning] No further splits with positive gain, best gain: -inf\n",
      "[LightGBM] [Warning] No further splits with positive gain, best gain: -inf\n",
      "[LightGBM] [Warning] No further splits with positive gain, best gain: -inf\n",
      "[LightGBM] [Warning] No further splits with positive gain, best gain: -inf\n",
      "[LightGBM] [Warning] No further splits with positive gain, best gain: -inf\n",
      "[LightGBM] [Warning] No further splits with positive gain, best gain: -inf\n",
      "[LightGBM] [Warning] No further splits with positive gain, best gain: -inf\n",
      "[LightGBM] [Warning] No further splits with positive gain, best gain: -inf\n",
      "[LightGBM] [Warning] No further splits with positive gain, best gain: -inf\n",
      "[LightGBM] [Warning] No further splits with positive gain, best gain: -inf\n",
      "[LightGBM] [Warning] No further splits with positive gain, best gain: -inf\n",
      "[LightGBM] [Warning] No further splits with positive gain, best gain: -inf\n",
      "[LightGBM] [Warning] No further splits with positive gain, best gain: -inf\n",
      "[LightGBM] [Warning] No further splits with positive gain, best gain: -inf\n",
      "[LightGBM] [Warning] No further splits with positive gain, best gain: -inf\n",
      "[LightGBM] [Warning] No further splits with positive gain, best gain: -inf\n",
      "[LightGBM] [Warning] No further splits with positive gain, best gain: -inf\n",
      "[LightGBM] [Warning] No further splits with positive gain, best gain: -inf\n",
      "[LightGBM] [Warning] No further splits with positive gain, best gain: -inf\n",
      "[LightGBM] [Warning] No further splits with positive gain, best gain: -inf\n",
      "[LightGBM] [Warning] No further splits with positive gain, best gain: -inf\n",
      "[LightGBM] [Warning] No further splits with positive gain, best gain: -inf\n"
     ]
    },
    {
     "name": "stderr",
     "output_type": "stream",
     "text": [
      "[I 2024-05-19 00:32:59,564] Trial 194 finished with value: 0.7561439805207614 and parameters: {'learning_rate': 0.08, 'n_estimators': 48, 'num_leaves': 30, 'max_depth': 5}. Best is trial 141 with value: 0.7780971055198359.\n"
     ]
    },
    {
     "name": "stdout",
     "output_type": "stream",
     "text": [
      "[LightGBM] [Warning] No further splits with positive gain, best gain: -inf\n",
      "[LightGBM] [Warning] Categorical features with more bins than the configured maximum bin number found.\n",
      "[LightGBM] [Warning] For categorical features, max_bin and max_bin_by_feature may be ignored with a large number of categories.\n"
     ]
    },
    {
     "name": "stderr",
     "output_type": "stream",
     "text": [
      "[I 2024-05-19 00:33:32,314] Trial 195 finished with value: 0.7773234742242215 and parameters: {'learning_rate': 0.08, 'n_estimators': 48, 'num_leaves': 30, 'max_depth': 95}. Best is trial 141 with value: 0.7780971055198359.\n"
     ]
    },
    {
     "name": "stdout",
     "output_type": "stream",
     "text": [
      "[LightGBM] [Warning] Categorical features with more bins than the configured maximum bin number found.\n",
      "[LightGBM] [Warning] For categorical features, max_bin and max_bin_by_feature may be ignored with a large number of categories.\n"
     ]
    },
    {
     "name": "stderr",
     "output_type": "stream",
     "text": [
      "[I 2024-05-19 00:34:02,997] Trial 196 finished with value: 0.7769694613723064 and parameters: {'learning_rate': 0.08, 'n_estimators': 46, 'num_leaves': 30, 'max_depth': 10}. Best is trial 141 with value: 0.7780971055198359.\n"
     ]
    },
    {
     "name": "stdout",
     "output_type": "stream",
     "text": [
      "[LightGBM] [Warning] Categorical features with more bins than the configured maximum bin number found.\n",
      "[LightGBM] [Warning] For categorical features, max_bin and max_bin_by_feature may be ignored with a large number of categories.\n"
     ]
    },
    {
     "name": "stderr",
     "output_type": "stream",
     "text": [
      "[I 2024-05-19 00:34:35,173] Trial 197 finished with value: 0.7773234742242215 and parameters: {'learning_rate': 0.08, 'n_estimators': 48, 'num_leaves': 30, 'max_depth': 15}. Best is trial 141 with value: 0.7780971055198359.\n"
     ]
    },
    {
     "name": "stdout",
     "output_type": "stream",
     "text": [
      "[LightGBM] [Warning] Categorical features with more bins than the configured maximum bin number found.\n",
      "[LightGBM] [Warning] For categorical features, max_bin and max_bin_by_feature may be ignored with a large number of categories.\n",
      "[LightGBM] [Warning] No further splits with positive gain, best gain: -inf\n",
      "[LightGBM] [Warning] No further splits with positive gain, best gain: -inf\n",
      "[LightGBM] [Warning] No further splits with positive gain, best gain: -inf\n",
      "[LightGBM] [Warning] No further splits with positive gain, best gain: -inf\n",
      "[LightGBM] [Warning] No further splits with positive gain, best gain: -inf\n",
      "[LightGBM] [Warning] No further splits with positive gain, best gain: -inf\n",
      "[LightGBM] [Warning] No further splits with positive gain, best gain: -inf\n",
      "[LightGBM] [Warning] No further splits with positive gain, best gain: -inf\n",
      "[LightGBM] [Warning] No further splits with positive gain, best gain: -inf\n",
      "[LightGBM] [Warning] No further splits with positive gain, best gain: -inf\n",
      "[LightGBM] [Warning] No further splits with positive gain, best gain: -inf\n",
      "[LightGBM] [Warning] No further splits with positive gain, best gain: -inf\n",
      "[LightGBM] [Warning] No further splits with positive gain, best gain: -inf\n",
      "[LightGBM] [Warning] No further splits with positive gain, best gain: -inf\n",
      "[LightGBM] [Warning] No further splits with positive gain, best gain: -inf\n",
      "[LightGBM] [Warning] No further splits with positive gain, best gain: -inf\n",
      "[LightGBM] [Warning] No further splits with positive gain, best gain: -inf\n",
      "[LightGBM] [Warning] No further splits with positive gain, best gain: -inf\n",
      "[LightGBM] [Warning] No further splits with positive gain, best gain: -inf\n",
      "[LightGBM] [Warning] No further splits with positive gain, best gain: -inf\n",
      "[LightGBM] [Warning] No further splits with positive gain, best gain: -inf\n",
      "[LightGBM] [Warning] No further splits with positive gain, best gain: -inf\n",
      "[LightGBM] [Warning] No further splits with positive gain, best gain: -inf\n",
      "[LightGBM] [Warning] No further splits with positive gain, best gain: -inf\n",
      "[LightGBM] [Warning] No further splits with positive gain, best gain: -inf\n",
      "[LightGBM] [Warning] No further splits with positive gain, best gain: -inf\n",
      "[LightGBM] [Warning] No further splits with positive gain, best gain: -inf\n",
      "[LightGBM] [Warning] No further splits with positive gain, best gain: -inf\n",
      "[LightGBM] [Warning] No further splits with positive gain, best gain: -inf\n",
      "[LightGBM] [Warning] No further splits with positive gain, best gain: -inf\n",
      "[LightGBM] [Warning] No further splits with positive gain, best gain: -inf\n",
      "[LightGBM] [Warning] No further splits with positive gain, best gain: -inf\n",
      "[LightGBM] [Warning] No further splits with positive gain, best gain: -inf\n",
      "[LightGBM] [Warning] No further splits with positive gain, best gain: -inf\n",
      "[LightGBM] [Warning] No further splits with positive gain, best gain: -inf\n",
      "[LightGBM] [Warning] No further splits with positive gain, best gain: -inf\n",
      "[LightGBM] [Warning] No further splits with positive gain, best gain: -inf\n",
      "[LightGBM] [Warning] No further splits with positive gain, best gain: -inf\n",
      "[LightGBM] [Warning] No further splits with positive gain, best gain: -inf\n",
      "[LightGBM] [Warning] No further splits with positive gain, best gain: -inf\n"
     ]
    },
    {
     "name": "stderr",
     "output_type": "stream",
     "text": [
      "[I 2024-05-19 00:35:03,248] Trial 198 finished with value: 0.7541308700889992 and parameters: {'learning_rate': 0.08, 'n_estimators': 46, 'num_leaves': 30, 'max_depth': 5}. Best is trial 141 with value: 0.7780971055198359.\n"
     ]
    },
    {
     "name": "stdout",
     "output_type": "stream",
     "text": [
      "[LightGBM] [Warning] Categorical features with more bins than the configured maximum bin number found.\n",
      "[LightGBM] [Warning] For categorical features, max_bin and max_bin_by_feature may be ignored with a large number of categories.\n"
     ]
    },
    {
     "name": "stderr",
     "output_type": "stream",
     "text": [
      "[I 2024-05-19 00:35:34,385] Trial 199 finished with value: 0.7772432903443235 and parameters: {'learning_rate': 0.08, 'n_estimators': 48, 'num_leaves': 28, 'max_depth': 15}. Best is trial 141 with value: 0.7780971055198359.\n"
     ]
    },
    {
     "name": "stdout",
     "output_type": "stream",
     "text": [
      "Number of finished trials: 200\n",
      "Best trial: {'learning_rate': 0.08, 'n_estimators': 50, 'num_leaves': 30, 'max_depth': 10}\n",
      "Best value: 0.7780971055198359\n"
     ]
    }
   ],
   "source": [
    "import optuna\n",
    "import lightgbm as lgb\n",
    "    \n",
    "def objective(trial):\n",
    "    \"\"\"Train Light GBM model\"\"\"\n",
    "\n",
    "    ranking_param_grid = {\n",
    "        'learning_rate': trial.suggest_float('learning_rate', 0.01, 0.08, step=0.01),\n",
    "        'n_estimators': trial.suggest_int('n_estimators', 10, 50, step=2),\n",
    "        'num_leaves': trial.suggest_int('num_leaves', 10, 30, 2),\n",
    "        'max_depth': trial.suggest_int('max_depth', 0, 100, 5)\n",
    "    }\n",
    "    \n",
    "    gbm = lgb.LGBMRanker(\n",
    "        objective='lambdarank',\n",
    "        boosting_type='dart',\n",
    "        importance_type='gain',\n",
    "        metric='ndcg',\n",
    "        label_gain=[0, 1, 10],\n",
    "        reg_alpha=0.2,\n",
    "        reg_lambda=0.2,\n",
    "        verbose=0,\n",
    "        **ranking_param_grid\n",
    "    )\n",
    "    \n",
    "    gbm.fit(\n",
    "        X_train,\n",
    "        y_train,\n",
    "        group=train_group,\n",
    "        eval_set=[(X_val, y_val)],\n",
    "        eval_group=[val_group],\n",
    "        eval_at=[5],\n",
    "        categorical_feature=categorical_features,\n",
    "        feature_name= list(features)\n",
    "        # callbacks=[early_stopping(10)]\n",
    "    )\n",
    "    \n",
    "    return list(gbm.best_score_['valid_0'].values())\n",
    "\n",
    "study = optuna.create_study(direction='maximize')\n",
    "study.optimize(objective, n_trials=200)\n",
    " \n",
    "print('Number of finished trials:', len(study.trials))\n",
    "print('Best trial:', study.best_trial.params)\n",
    "print('Best value:', study.best_trial.value)\n"
   ]
  },
  {
   "cell_type": "markdown",
   "metadata": {},
   "source": [
    "Best_hyperparameters:\n",
    "\n",
    "learning_rate: 0.08\n",
    "\n",
    "n_estimators: 50\n",
    "\n",
    "num_leaves: 30\n",
    "\n",
    "max_depth: 10\n",
    "\n",
    "maybe still try learning rate: 0.08 - 1, n_estimators:50-60, num_leaves:30-50?"
   ]
  },
  {
   "cell_type": "code",
   "execution_count": 14,
   "metadata": {},
   "outputs": [
    {
     "name": "stdout",
     "output_type": "stream",
     "text": [
      "    srch_id  prop_id\n",
      "23        1    99484\n",
      "14        1    72090\n",
      "22        1    95031\n",
      "13        1    63894\n",
      "16        1    74045\n",
      "Submission shape: (4959183, 2)\n"
     ]
    },
    {
     "data": {
      "image/png": "[encoded data removed]",
      "text/plain": [
       "<Figure size 1000x500 with 1 Axes>"
      ]
     },
     "metadata": {},
     "output_type": "display_data"
    }
   ],
   "source": [
    "# Format the date and time as a string\n",
    "datetime_string = datetime.datetime.now().strftime(\"%Y%m%d_%H%M%S\")\n",
    "model = lgb.Booster(model_file=f'best_lambdamart_model.txt')\n",
    "\n",
    "lgb.plot_importance(model, importance_type='split', max_num_features=10, figsize=(10, 5), title='Feature Importance by Split')\n",
    "\n",
    "# Predict on the test set\n",
    "y_pred = model.predict(X_test)\n",
    "\n",
    "# Add predictions to the test set\n",
    "test_df['predicted_score'] = y_pred\n",
    "\n",
    "# Select only the required columns\n",
    "test_df = test_df[['srch_id', 'prop_id', 'predicted_score']]\n",
    "\n",
    "# Sort properties for each search by predicted score\n",
    "test_df = test_df.sort_values(by=['srch_id', 'predicted_score'], ascending=[True, False])\n",
    "\n",
    "# Create the submission file in the required format\n",
    "submission = test_df[['srch_id', 'prop_id']]\n",
    "\n",
    "# Format the date and time as a string\n",
    "datetime_string = datetime.datetime.now().strftime(\"%Y%m%d_%H%M%S\")\n",
    "\n",
    "# Save the submission file with the date and time in the filename\n",
    "submission.to_csv(f'submissions/lambdaMART_submission_estimator200.csv', index=False)\n",
    "\n",
    "# Verify the submission file format\n",
    "print(submission.head(5))\n",
    "print(f'Submission shape: {submission.shape}')"
   ]
  }
 ],
 "metadata": {
  "kernelspec": {
   "display_name": "venv",
   "language": "python",
   "name": "python3"
  },
  "language_info": {
   "codemirror_mode": {
    "name": "ipython",
    "version": 3
   },
   "file_extension": ".py",
   "mimetype": "text/x-python",
   "name": "python",
   "nbconvert_exporter": "python",
   "pygments_lexer": "ipython3",
   "version": "3.10.13"
  }
 },
 "nbformat": 4,
 "nbformat_minor": 2
}
