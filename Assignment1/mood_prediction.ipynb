{
 "cells": [
  {
   "cell_type": "code",
   "execution_count": null,
   "metadata": {},
   "outputs": [],
   "source": [
    "# Data header:\n",
    "# \"\",\"id\",\"time\",\"variable\",\"value\"\n",
    "# \"1\",\"AS14.01\",2014-02-26 13:00:00.000,\"mood\",6\n",
    "# \"2\",\"AS14.01\",2014-02-26 15:00:00.000,\"mood\",6\n",
    "# \"3\",\"AS14.01\",2014-02-26 18:00:00.000,\"mood\",6\n",
    "\n",
    "import pandas as pd\n",
    "\n",
    "file_path = 'dataset_mood_smartphone.csv'\n",
    "\n",
    "df = pd.read_csv(file_path, parse_dates=['time'], index_col=False)\n",
    "\n",
    "print(df)"
   ]
  }
 ],
 "metadata": {
  "language_info": {
   "name": "python"
  }
 },
 "nbformat": 4,
 "nbformat_minor": 2
}
